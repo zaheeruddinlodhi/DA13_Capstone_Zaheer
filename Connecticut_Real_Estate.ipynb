{
 "cells": [
  {
   "cell_type": "code",
   "execution_count": 175,
   "id": "89a4b32b-8a17-470b-8391-13abf2fab82c",
   "metadata": {},
   "outputs": [],
   "source": [
    "import pandas as pd\n",
    "import numpy as np\n",
    "import matplotlib.pyplot as plt\n",
    "import seaborn as sns"
   ]
  },
  {
   "cell_type": "code",
   "execution_count": 176,
   "id": "b920f829-634c-456d-b8b4-9bd1a18cc035",
   "metadata": {},
   "outputs": [],
   "source": [
    "# real_estate_df = pd.read_csv('../Data/Real_Estate.csv', low_memory=False)\n",
    "\n",
    "real_estate_df = pd.read_csv('../Data/Real_Estate.csv', low_memory=False)"
   ]
  },
  {
   "cell_type": "code",
   "execution_count": 177,
   "id": "57cc062c-68ac-4e4b-aa26-e8e738583c34",
   "metadata": {},
   "outputs": [
    {
     "data": {
      "text/html": [
       "<div>\n",
       "<style scoped>\n",
       "    .dataframe tbody tr th:only-of-type {\n",
       "        vertical-align: middle;\n",
       "    }\n",
       "\n",
       "    .dataframe tbody tr th {\n",
       "        vertical-align: top;\n",
       "    }\n",
       "\n",
       "    .dataframe thead th {\n",
       "        text-align: right;\n",
       "    }\n",
       "</style>\n",
       "<table border=\"1\" class=\"dataframe\">\n",
       "  <thead>\n",
       "    <tr style=\"text-align: right;\">\n",
       "      <th></th>\n",
       "      <th>Serial Number</th>\n",
       "      <th>List Year</th>\n",
       "      <th>Date Recorded</th>\n",
       "      <th>Town</th>\n",
       "      <th>Address</th>\n",
       "      <th>Assessed Value</th>\n",
       "      <th>Sale Amount</th>\n",
       "      <th>Sales Ratio</th>\n",
       "      <th>Property Type</th>\n",
       "      <th>Residential Type</th>\n",
       "      <th>Non Use Code</th>\n",
       "      <th>Assessor Remarks</th>\n",
       "      <th>OPM remarks</th>\n",
       "      <th>Location</th>\n",
       "    </tr>\n",
       "  </thead>\n",
       "  <tbody>\n",
       "    <tr>\n",
       "      <th>0</th>\n",
       "      <td>2020177</td>\n",
       "      <td>2020</td>\n",
       "      <td>04/14/2021</td>\n",
       "      <td>Ansonia</td>\n",
       "      <td>323 BEAVER ST</td>\n",
       "      <td>133000.0</td>\n",
       "      <td>248400.0</td>\n",
       "      <td>0.5354</td>\n",
       "      <td>Residential</td>\n",
       "      <td>Single Family</td>\n",
       "      <td>NaN</td>\n",
       "      <td>NaN</td>\n",
       "      <td>NaN</td>\n",
       "      <td>POINT (-73.06822 41.35014)</td>\n",
       "    </tr>\n",
       "    <tr>\n",
       "      <th>1</th>\n",
       "      <td>2020225</td>\n",
       "      <td>2020</td>\n",
       "      <td>05/26/2021</td>\n",
       "      <td>Ansonia</td>\n",
       "      <td>152 JACKSON ST</td>\n",
       "      <td>110500.0</td>\n",
       "      <td>239900.0</td>\n",
       "      <td>0.4606</td>\n",
       "      <td>Residential</td>\n",
       "      <td>Three Family</td>\n",
       "      <td>NaN</td>\n",
       "      <td>NaN</td>\n",
       "      <td>NaN</td>\n",
       "      <td>NaN</td>\n",
       "    </tr>\n",
       "    <tr>\n",
       "      <th>2</th>\n",
       "      <td>2020348</td>\n",
       "      <td>2020</td>\n",
       "      <td>09/13/2021</td>\n",
       "      <td>Ansonia</td>\n",
       "      <td>230 WAKELEE AVE</td>\n",
       "      <td>150500.0</td>\n",
       "      <td>325000.0</td>\n",
       "      <td>0.4630</td>\n",
       "      <td>Commercial</td>\n",
       "      <td>NaN</td>\n",
       "      <td>NaN</td>\n",
       "      <td>NaN</td>\n",
       "      <td>NaN</td>\n",
       "      <td>NaN</td>\n",
       "    </tr>\n",
       "    <tr>\n",
       "      <th>3</th>\n",
       "      <td>2020090</td>\n",
       "      <td>2020</td>\n",
       "      <td>12/14/2020</td>\n",
       "      <td>Ansonia</td>\n",
       "      <td>57 PLATT ST</td>\n",
       "      <td>127400.0</td>\n",
       "      <td>202500.0</td>\n",
       "      <td>0.6291</td>\n",
       "      <td>Residential</td>\n",
       "      <td>Two Family</td>\n",
       "      <td>NaN</td>\n",
       "      <td>NaN</td>\n",
       "      <td>NaN</td>\n",
       "      <td>NaN</td>\n",
       "    </tr>\n",
       "    <tr>\n",
       "      <th>4</th>\n",
       "      <td>200500</td>\n",
       "      <td>2020</td>\n",
       "      <td>09/07/2021</td>\n",
       "      <td>Avon</td>\n",
       "      <td>245 NEW ROAD</td>\n",
       "      <td>217640.0</td>\n",
       "      <td>400000.0</td>\n",
       "      <td>0.5441</td>\n",
       "      <td>Residential</td>\n",
       "      <td>Single Family</td>\n",
       "      <td>NaN</td>\n",
       "      <td>NaN</td>\n",
       "      <td>NaN</td>\n",
       "      <td>NaN</td>\n",
       "    </tr>\n",
       "    <tr>\n",
       "      <th>...</th>\n",
       "      <td>...</td>\n",
       "      <td>...</td>\n",
       "      <td>...</td>\n",
       "      <td>...</td>\n",
       "      <td>...</td>\n",
       "      <td>...</td>\n",
       "      <td>...</td>\n",
       "      <td>...</td>\n",
       "      <td>...</td>\n",
       "      <td>...</td>\n",
       "      <td>...</td>\n",
       "      <td>...</td>\n",
       "      <td>...</td>\n",
       "      <td>...</td>\n",
       "    </tr>\n",
       "    <tr>\n",
       "      <th>1097624</th>\n",
       "      <td>2200073</td>\n",
       "      <td>2022</td>\n",
       "      <td>10/11/2022</td>\n",
       "      <td>Stamford</td>\n",
       "      <td>193 SADDLE HILL ROAD</td>\n",
       "      <td>483380.0</td>\n",
       "      <td>865000.0</td>\n",
       "      <td>0.5588</td>\n",
       "      <td>Residential</td>\n",
       "      <td>Single Family</td>\n",
       "      <td>NaN</td>\n",
       "      <td>NaN</td>\n",
       "      <td>NaN</td>\n",
       "      <td>POINT (-73.577612999 41.148977983)</td>\n",
       "    </tr>\n",
       "    <tr>\n",
       "      <th>1097625</th>\n",
       "      <td>220369</td>\n",
       "      <td>2022</td>\n",
       "      <td>09/29/2023</td>\n",
       "      <td>Wethersfield</td>\n",
       "      <td>37 LUCA LN</td>\n",
       "      <td>20650.0</td>\n",
       "      <td>760857.0</td>\n",
       "      <td>0.0271</td>\n",
       "      <td>Residential</td>\n",
       "      <td>Single Family</td>\n",
       "      <td>07 - Change in Property</td>\n",
       "      <td>NEW CONSTRUCTION - NOT COMPLETE FOR 10/1/2022</td>\n",
       "      <td>NaN</td>\n",
       "      <td>POINT (-72.663607 41.712487)</td>\n",
       "    </tr>\n",
       "    <tr>\n",
       "      <th>1097626</th>\n",
       "      <td>2200470</td>\n",
       "      <td>2022</td>\n",
       "      <td>01/09/2023</td>\n",
       "      <td>Stamford</td>\n",
       "      <td>1096 EAST MAIN STREET #16-D-1</td>\n",
       "      <td>132900.0</td>\n",
       "      <td>220000.0</td>\n",
       "      <td>0.6040</td>\n",
       "      <td>Residential</td>\n",
       "      <td>Condo</td>\n",
       "      <td>NaN</td>\n",
       "      <td>NaN</td>\n",
       "      <td>NaN</td>\n",
       "      <td>POINT (-73.515726977 41.057837988)</td>\n",
       "    </tr>\n",
       "    <tr>\n",
       "      <th>1097627</th>\n",
       "      <td>22396</td>\n",
       "      <td>2022</td>\n",
       "      <td>09/26/2023</td>\n",
       "      <td>Old Saybrook</td>\n",
       "      <td>115 SHEFFIELD ST</td>\n",
       "      <td>1099400.0</td>\n",
       "      <td>1575000.0</td>\n",
       "      <td>0.6980</td>\n",
       "      <td>Residential</td>\n",
       "      <td>Single Family</td>\n",
       "      <td>NaN</td>\n",
       "      <td>NaN</td>\n",
       "      <td>NaN</td>\n",
       "      <td>POINT (-72.368005967 41.289124997)</td>\n",
       "    </tr>\n",
       "    <tr>\n",
       "      <th>1097628</th>\n",
       "      <td>220890</td>\n",
       "      <td>2022</td>\n",
       "      <td>05/18/2023</td>\n",
       "      <td>Southington</td>\n",
       "      <td>32 SOUTHINGTON AV</td>\n",
       "      <td>135860.0</td>\n",
       "      <td>330000.0</td>\n",
       "      <td>0.4117</td>\n",
       "      <td>Residential</td>\n",
       "      <td>Single Family</td>\n",
       "      <td>07 - Change in Property</td>\n",
       "      <td>NaN</td>\n",
       "      <td>TOTAL RENOVATION PER MLS - SEE PREVIOUS SALE #...</td>\n",
       "      <td>POINT (-72.87929502 41.590926988)</td>\n",
       "    </tr>\n",
       "  </tbody>\n",
       "</table>\n",
       "<p>1097629 rows × 14 columns</p>\n",
       "</div>"
      ],
      "text/plain": [
       "         Serial Number  List Year Date Recorded          Town  \\\n",
       "0              2020177       2020    04/14/2021       Ansonia   \n",
       "1              2020225       2020    05/26/2021       Ansonia   \n",
       "2              2020348       2020    09/13/2021       Ansonia   \n",
       "3              2020090       2020    12/14/2020       Ansonia   \n",
       "4               200500       2020    09/07/2021          Avon   \n",
       "...                ...        ...           ...           ...   \n",
       "1097624        2200073       2022    10/11/2022      Stamford   \n",
       "1097625         220369       2022    09/29/2023  Wethersfield   \n",
       "1097626        2200470       2022    01/09/2023      Stamford   \n",
       "1097627          22396       2022    09/26/2023  Old Saybrook   \n",
       "1097628         220890       2022    05/18/2023   Southington   \n",
       "\n",
       "                               Address  Assessed Value  Sale Amount  \\\n",
       "0                        323 BEAVER ST        133000.0     248400.0   \n",
       "1                       152 JACKSON ST        110500.0     239900.0   \n",
       "2                      230 WAKELEE AVE        150500.0     325000.0   \n",
       "3                          57 PLATT ST        127400.0     202500.0   \n",
       "4                         245 NEW ROAD        217640.0     400000.0   \n",
       "...                                ...             ...          ...   \n",
       "1097624           193 SADDLE HILL ROAD        483380.0     865000.0   \n",
       "1097625                     37 LUCA LN         20650.0     760857.0   \n",
       "1097626  1096 EAST MAIN STREET #16-D-1        132900.0     220000.0   \n",
       "1097627               115 SHEFFIELD ST       1099400.0    1575000.0   \n",
       "1097628              32 SOUTHINGTON AV        135860.0     330000.0   \n",
       "\n",
       "         Sales Ratio Property Type Residential Type             Non Use Code  \\\n",
       "0             0.5354   Residential    Single Family                      NaN   \n",
       "1             0.4606   Residential     Three Family                      NaN   \n",
       "2             0.4630    Commercial              NaN                      NaN   \n",
       "3             0.6291   Residential       Two Family                      NaN   \n",
       "4             0.5441   Residential    Single Family                      NaN   \n",
       "...              ...           ...              ...                      ...   \n",
       "1097624       0.5588   Residential    Single Family                      NaN   \n",
       "1097625       0.0271   Residential    Single Family  07 - Change in Property   \n",
       "1097626       0.6040   Residential            Condo                      NaN   \n",
       "1097627       0.6980   Residential    Single Family                      NaN   \n",
       "1097628       0.4117   Residential    Single Family  07 - Change in Property   \n",
       "\n",
       "                                      Assessor Remarks  \\\n",
       "0                                                  NaN   \n",
       "1                                                  NaN   \n",
       "2                                                  NaN   \n",
       "3                                                  NaN   \n",
       "4                                                  NaN   \n",
       "...                                                ...   \n",
       "1097624                                            NaN   \n",
       "1097625  NEW CONSTRUCTION - NOT COMPLETE FOR 10/1/2022   \n",
       "1097626                                            NaN   \n",
       "1097627                                            NaN   \n",
       "1097628                                            NaN   \n",
       "\n",
       "                                               OPM remarks  \\\n",
       "0                                                      NaN   \n",
       "1                                                      NaN   \n",
       "2                                                      NaN   \n",
       "3                                                      NaN   \n",
       "4                                                      NaN   \n",
       "...                                                    ...   \n",
       "1097624                                                NaN   \n",
       "1097625                                                NaN   \n",
       "1097626                                                NaN   \n",
       "1097627                                                NaN   \n",
       "1097628  TOTAL RENOVATION PER MLS - SEE PREVIOUS SALE #...   \n",
       "\n",
       "                                   Location  \n",
       "0                POINT (-73.06822 41.35014)  \n",
       "1                                       NaN  \n",
       "2                                       NaN  \n",
       "3                                       NaN  \n",
       "4                                       NaN  \n",
       "...                                     ...  \n",
       "1097624  POINT (-73.577612999 41.148977983)  \n",
       "1097625        POINT (-72.663607 41.712487)  \n",
       "1097626  POINT (-73.515726977 41.057837988)  \n",
       "1097627  POINT (-72.368005967 41.289124997)  \n",
       "1097628   POINT (-72.87929502 41.590926988)  \n",
       "\n",
       "[1097629 rows x 14 columns]"
      ]
     },
     "execution_count": 177,
     "metadata": {},
     "output_type": "execute_result"
    }
   ],
   "source": [
    "real_estate_df"
   ]
  },
  {
   "cell_type": "code",
   "execution_count": 178,
   "id": "d1326f10-c52c-43d0-ab8c-7303720c902e",
   "metadata": {},
   "outputs": [
    {
     "name": "stdout",
     "output_type": "stream",
     "text": [
      "<class 'pandas.core.frame.DataFrame'>\n",
      "RangeIndex: 1097629 entries, 0 to 1097628\n",
      "Data columns (total 14 columns):\n",
      " #   Column            Non-Null Count    Dtype  \n",
      "---  ------            --------------    -----  \n",
      " 0   Serial Number     1097629 non-null  int64  \n",
      " 1   List Year         1097629 non-null  int64  \n",
      " 2   Date Recorded     1097627 non-null  object \n",
      " 3   Town              1097629 non-null  object \n",
      " 4   Address           1097578 non-null  object \n",
      " 5   Assessed Value    1097629 non-null  float64\n",
      " 6   Sale Amount       1097629 non-null  float64\n",
      " 7   Sales Ratio       1097629 non-null  float64\n",
      " 8   Property Type     715183 non-null   object \n",
      " 9   Residential Type  699240 non-null   object \n",
      " 10  Non Use Code      313451 non-null   object \n",
      " 11  Assessor Remarks  171228 non-null   object \n",
      " 12  OPM remarks       13031 non-null    object \n",
      " 13  Location          298111 non-null   object \n",
      "dtypes: float64(3), int64(2), object(9)\n",
      "memory usage: 117.2+ MB\n"
     ]
    }
   ],
   "source": [
    "real_estate_df.info()"
   ]
  },
  {
   "cell_type": "code",
   "execution_count": 179,
   "id": "8bdfeb7d-0da2-4dda-a322-ec30a2e143af",
   "metadata": {},
   "outputs": [
    {
     "data": {
      "text/plain": [
       "Serial Number             0\n",
       "List Year                 0\n",
       "Date Recorded             2\n",
       "Town                      0\n",
       "Address                  51\n",
       "Assessed Value            0\n",
       "Sale Amount               0\n",
       "Sales Ratio               0\n",
       "Property Type        382446\n",
       "Residential Type     398389\n",
       "Non Use Code         784178\n",
       "Assessor Remarks     926401\n",
       "OPM remarks         1084598\n",
       "Location             799518\n",
       "dtype: int64"
      ]
     },
     "execution_count": 179,
     "metadata": {},
     "output_type": "execute_result"
    }
   ],
   "source": [
    "real_estate_df.isnull().sum()"
   ]
  },
  {
   "cell_type": "markdown",
   "id": "a94e5833-e1e3-43ff-8aeb-277ac57bd7b9",
   "metadata": {},
   "source": [
    "# Dropping unnecessary columns"
   ]
  },
  {
   "cell_type": "code",
   "execution_count": 181,
   "id": "b5245b15-f0a0-4d4d-a0fb-5c384aba4bae",
   "metadata": {},
   "outputs": [],
   "source": [
    "columns_to_drop = [\"Serial Number\", \"Address\", \"Non Use Code\", \"Assessor Remarks\", \"OPM remarks\", \"Location\"]\n",
    "\n",
    "# removing location, OPM remarks, Non Use Codes and Assessor Remarks as they contain a very huge portion of null values"
   ]
  },
  {
   "cell_type": "code",
   "execution_count": 182,
   "id": "2f8cc957-ff23-4dc0-a9c2-9461532cf7ed",
   "metadata": {},
   "outputs": [],
   "source": [
    "real_estate_df = real_estate_df.drop(columns_to_drop, axis=1)"
   ]
  },
  {
   "cell_type": "markdown",
   "id": "e9bf592b-c9a7-427c-b699-88cf2963a150",
   "metadata": {},
   "source": [
    "# Dataset Statistics"
   ]
  },
  {
   "cell_type": "code",
   "execution_count": 184,
   "id": "7a67e08b-a6c2-422c-a37f-477bafd533d0",
   "metadata": {},
   "outputs": [],
   "source": [
    "minimum_sale_price = real_estate_df['Sale Amount'].min()\n",
    "avg_sale_price = real_estate_df['Sale Amount'].mean()\n",
    "median_sale_price = real_estate_df['Sale Amount'].median()\n",
    "std_sale_price = real_estate_df['Sale Amount'].std()"
   ]
  },
  {
   "cell_type": "code",
   "execution_count": 185,
   "id": "d338f5da-e9f8-4290-86be-c04e91d6fbd2",
   "metadata": {},
   "outputs": [
    {
     "data": {
      "text/plain": [
       "0.0"
      ]
     },
     "execution_count": 185,
     "metadata": {},
     "output_type": "execute_result"
    }
   ],
   "source": [
    "minimum_sale_price = real_estate_df['Sale Amount'].min()\n",
    "minimum_sale_price"
   ]
  },
  {
   "cell_type": "code",
   "execution_count": 186,
   "id": "0ccfe4b0-6af3-4d18-a127-b8bc5a4b8f2b",
   "metadata": {},
   "outputs": [
    {
     "data": {
      "text/plain": [
       "405314.55976191396"
      ]
     },
     "execution_count": 186,
     "metadata": {},
     "output_type": "execute_result"
    }
   ],
   "source": [
    "avg_sale_price = real_estate_df['Sale Amount'].mean()\n",
    "avg_sale_price"
   ]
  },
  {
   "cell_type": "code",
   "execution_count": 187,
   "id": "818a7f07-9172-4dcb-b95f-8c69fbac87f8",
   "metadata": {},
   "outputs": [
    {
     "data": {
      "text/plain": [
       "233000.0"
      ]
     },
     "execution_count": 187,
     "metadata": {},
     "output_type": "execute_result"
    }
   ],
   "source": [
    "median_sale_price = real_estate_df['Sale Amount'].median()\n",
    "median_sale_price"
   ]
  },
  {
   "cell_type": "code",
   "execution_count": 188,
   "id": "0c5c820e-ce3b-4bb8-a2c7-db0850c2cc7e",
   "metadata": {},
   "outputs": [
    {
     "data": {
      "text/plain": [
       "5143492.357471125"
      ]
     },
     "execution_count": 188,
     "metadata": {},
     "output_type": "execute_result"
    }
   ],
   "source": [
    "std_sale_price = real_estate_df['Sale Amount'].std()\n",
    "std_sale_price"
   ]
  },
  {
   "cell_type": "markdown",
   "id": "3940a121-0788-4e53-bcc9-8dd88ac34b7d",
   "metadata": {},
   "source": [
    "# Keeping Properties with Valid amount"
   ]
  },
  {
   "cell_type": "code",
   "execution_count": 190,
   "id": "a55a3d99-9c76-4525-8edd-33ca8cb22b80",
   "metadata": {},
   "outputs": [],
   "source": [
    "real_estate_df = real_estate_df[(real_estate_df['Sale Amount'] != 0) & (real_estate_df['Assessed Value'] != 0)]"
   ]
  },
  {
   "cell_type": "code",
   "execution_count": 191,
   "id": "a5c1715f-3ea5-4611-9985-a4032cd1c831",
   "metadata": {},
   "outputs": [
    {
     "data": {
      "text/html": [
       "<div>\n",
       "<style scoped>\n",
       "    .dataframe tbody tr th:only-of-type {\n",
       "        vertical-align: middle;\n",
       "    }\n",
       "\n",
       "    .dataframe tbody tr th {\n",
       "        vertical-align: top;\n",
       "    }\n",
       "\n",
       "    .dataframe thead th {\n",
       "        text-align: right;\n",
       "    }\n",
       "</style>\n",
       "<table border=\"1\" class=\"dataframe\">\n",
       "  <thead>\n",
       "    <tr style=\"text-align: right;\">\n",
       "      <th></th>\n",
       "      <th>List Year</th>\n",
       "      <th>Sales Date</th>\n",
       "      <th>City</th>\n",
       "      <th>Assessed Value</th>\n",
       "      <th>Sale Amount</th>\n",
       "      <th>Sales Ratio</th>\n",
       "      <th>Property Type</th>\n",
       "      <th>Residential Type</th>\n",
       "    </tr>\n",
       "  </thead>\n",
       "  <tbody>\n",
       "    <tr>\n",
       "      <th>0</th>\n",
       "      <td>2020</td>\n",
       "      <td>04/14/2021</td>\n",
       "      <td>Ansonia</td>\n",
       "      <td>133000.0</td>\n",
       "      <td>248400.0</td>\n",
       "      <td>0.5354</td>\n",
       "      <td>Residential</td>\n",
       "      <td>Single Family</td>\n",
       "    </tr>\n",
       "    <tr>\n",
       "      <th>1</th>\n",
       "      <td>2020</td>\n",
       "      <td>05/26/2021</td>\n",
       "      <td>Ansonia</td>\n",
       "      <td>110500.0</td>\n",
       "      <td>239900.0</td>\n",
       "      <td>0.4606</td>\n",
       "      <td>Residential</td>\n",
       "      <td>Three Family</td>\n",
       "    </tr>\n",
       "    <tr>\n",
       "      <th>2</th>\n",
       "      <td>2020</td>\n",
       "      <td>09/13/2021</td>\n",
       "      <td>Ansonia</td>\n",
       "      <td>150500.0</td>\n",
       "      <td>325000.0</td>\n",
       "      <td>0.4630</td>\n",
       "      <td>Commercial</td>\n",
       "      <td>NaN</td>\n",
       "    </tr>\n",
       "    <tr>\n",
       "      <th>3</th>\n",
       "      <td>2020</td>\n",
       "      <td>12/14/2020</td>\n",
       "      <td>Ansonia</td>\n",
       "      <td>127400.0</td>\n",
       "      <td>202500.0</td>\n",
       "      <td>0.6291</td>\n",
       "      <td>Residential</td>\n",
       "      <td>Two Family</td>\n",
       "    </tr>\n",
       "    <tr>\n",
       "      <th>4</th>\n",
       "      <td>2020</td>\n",
       "      <td>09/07/2021</td>\n",
       "      <td>Avon</td>\n",
       "      <td>217640.0</td>\n",
       "      <td>400000.0</td>\n",
       "      <td>0.5441</td>\n",
       "      <td>Residential</td>\n",
       "      <td>Single Family</td>\n",
       "    </tr>\n",
       "    <tr>\n",
       "      <th>...</th>\n",
       "      <td>...</td>\n",
       "      <td>...</td>\n",
       "      <td>...</td>\n",
       "      <td>...</td>\n",
       "      <td>...</td>\n",
       "      <td>...</td>\n",
       "      <td>...</td>\n",
       "      <td>...</td>\n",
       "    </tr>\n",
       "    <tr>\n",
       "      <th>1097624</th>\n",
       "      <td>2022</td>\n",
       "      <td>10/11/2022</td>\n",
       "      <td>Stamford</td>\n",
       "      <td>483380.0</td>\n",
       "      <td>865000.0</td>\n",
       "      <td>0.5588</td>\n",
       "      <td>Residential</td>\n",
       "      <td>Single Family</td>\n",
       "    </tr>\n",
       "    <tr>\n",
       "      <th>1097625</th>\n",
       "      <td>2022</td>\n",
       "      <td>09/29/2023</td>\n",
       "      <td>Wethersfield</td>\n",
       "      <td>20650.0</td>\n",
       "      <td>760857.0</td>\n",
       "      <td>0.0271</td>\n",
       "      <td>Residential</td>\n",
       "      <td>Single Family</td>\n",
       "    </tr>\n",
       "    <tr>\n",
       "      <th>1097626</th>\n",
       "      <td>2022</td>\n",
       "      <td>01/09/2023</td>\n",
       "      <td>Stamford</td>\n",
       "      <td>132900.0</td>\n",
       "      <td>220000.0</td>\n",
       "      <td>0.6040</td>\n",
       "      <td>Residential</td>\n",
       "      <td>Condo</td>\n",
       "    </tr>\n",
       "    <tr>\n",
       "      <th>1097627</th>\n",
       "      <td>2022</td>\n",
       "      <td>09/26/2023</td>\n",
       "      <td>Old Saybrook</td>\n",
       "      <td>1099400.0</td>\n",
       "      <td>1575000.0</td>\n",
       "      <td>0.6980</td>\n",
       "      <td>Residential</td>\n",
       "      <td>Single Family</td>\n",
       "    </tr>\n",
       "    <tr>\n",
       "      <th>1097628</th>\n",
       "      <td>2022</td>\n",
       "      <td>05/18/2023</td>\n",
       "      <td>Southington</td>\n",
       "      <td>135860.0</td>\n",
       "      <td>330000.0</td>\n",
       "      <td>0.4117</td>\n",
       "      <td>Residential</td>\n",
       "      <td>Single Family</td>\n",
       "    </tr>\n",
       "  </tbody>\n",
       "</table>\n",
       "<p>1088917 rows × 8 columns</p>\n",
       "</div>"
      ],
      "text/plain": [
       "         List Year  Sales Date          City  Assessed Value  Sale Amount  \\\n",
       "0             2020  04/14/2021       Ansonia        133000.0     248400.0   \n",
       "1             2020  05/26/2021       Ansonia        110500.0     239900.0   \n",
       "2             2020  09/13/2021       Ansonia        150500.0     325000.0   \n",
       "3             2020  12/14/2020       Ansonia        127400.0     202500.0   \n",
       "4             2020  09/07/2021          Avon        217640.0     400000.0   \n",
       "...            ...         ...           ...             ...          ...   \n",
       "1097624       2022  10/11/2022      Stamford        483380.0     865000.0   \n",
       "1097625       2022  09/29/2023  Wethersfield         20650.0     760857.0   \n",
       "1097626       2022  01/09/2023      Stamford        132900.0     220000.0   \n",
       "1097627       2022  09/26/2023  Old Saybrook       1099400.0    1575000.0   \n",
       "1097628       2022  05/18/2023   Southington        135860.0     330000.0   \n",
       "\n",
       "         Sales Ratio Property Type Residential Type  \n",
       "0             0.5354   Residential    Single Family  \n",
       "1             0.4606   Residential     Three Family  \n",
       "2             0.4630    Commercial              NaN  \n",
       "3             0.6291   Residential       Two Family  \n",
       "4             0.5441   Residential    Single Family  \n",
       "...              ...           ...              ...  \n",
       "1097624       0.5588   Residential    Single Family  \n",
       "1097625       0.0271   Residential    Single Family  \n",
       "1097626       0.6040   Residential            Condo  \n",
       "1097627       0.6980   Residential    Single Family  \n",
       "1097628       0.4117   Residential    Single Family  \n",
       "\n",
       "[1088917 rows x 8 columns]"
      ]
     },
     "execution_count": 191,
     "metadata": {},
     "output_type": "execute_result"
    }
   ],
   "source": [
    "real_estate_df = real_estate_df.rename(columns = {\"Date Recorded\" : 'Sales Date', 'Town' : 'City'})\n",
    "real_estate_df"
   ]
  },
  {
   "cell_type": "markdown",
   "id": "b5d9d728-0423-41a3-8196-6693e1b348f9",
   "metadata": {},
   "source": [
    "# Dropping all properties with no property/residential type"
   ]
  },
  {
   "cell_type": "code",
   "execution_count": 193,
   "id": "b7248007-57f6-400a-bab8-d8eb90615000",
   "metadata": {},
   "outputs": [],
   "source": [
    "real_estate_df = real_estate_df.dropna(subset=['Property Type', 'Residential Type'], how='all')"
   ]
  },
  {
   "cell_type": "markdown",
   "id": "cffed9f9-fbf2-4243-962d-aefa8367de6d",
   "metadata": {},
   "source": [
    "# Drop Town with Unknown City"
   ]
  },
  {
   "cell_type": "code",
   "execution_count": 195,
   "id": "18633826-82aa-4993-a6ff-4b2f8b9dff50",
   "metadata": {},
   "outputs": [
    {
     "data": {
      "text/html": [
       "<div>\n",
       "<style scoped>\n",
       "    .dataframe tbody tr th:only-of-type {\n",
       "        vertical-align: middle;\n",
       "    }\n",
       "\n",
       "    .dataframe tbody tr th {\n",
       "        vertical-align: top;\n",
       "    }\n",
       "\n",
       "    .dataframe thead th {\n",
       "        text-align: right;\n",
       "    }\n",
       "</style>\n",
       "<table border=\"1\" class=\"dataframe\">\n",
       "  <thead>\n",
       "    <tr style=\"text-align: right;\">\n",
       "      <th></th>\n",
       "      <th>List Year</th>\n",
       "      <th>Sales Date</th>\n",
       "      <th>City</th>\n",
       "      <th>Assessed Value</th>\n",
       "      <th>Sale Amount</th>\n",
       "      <th>Sales Ratio</th>\n",
       "      <th>Property Type</th>\n",
       "      <th>Residential Type</th>\n",
       "    </tr>\n",
       "  </thead>\n",
       "  <tbody>\n",
       "    <tr>\n",
       "      <th>0</th>\n",
       "      <td>2020</td>\n",
       "      <td>04/14/2021</td>\n",
       "      <td>Ansonia</td>\n",
       "      <td>133000.0</td>\n",
       "      <td>248400.0</td>\n",
       "      <td>0.5354</td>\n",
       "      <td>Residential</td>\n",
       "      <td>Single Family</td>\n",
       "    </tr>\n",
       "    <tr>\n",
       "      <th>1</th>\n",
       "      <td>2020</td>\n",
       "      <td>05/26/2021</td>\n",
       "      <td>Ansonia</td>\n",
       "      <td>110500.0</td>\n",
       "      <td>239900.0</td>\n",
       "      <td>0.4606</td>\n",
       "      <td>Residential</td>\n",
       "      <td>Three Family</td>\n",
       "    </tr>\n",
       "    <tr>\n",
       "      <th>2</th>\n",
       "      <td>2020</td>\n",
       "      <td>09/13/2021</td>\n",
       "      <td>Ansonia</td>\n",
       "      <td>150500.0</td>\n",
       "      <td>325000.0</td>\n",
       "      <td>0.4630</td>\n",
       "      <td>Commercial</td>\n",
       "      <td>NaN</td>\n",
       "    </tr>\n",
       "    <tr>\n",
       "      <th>3</th>\n",
       "      <td>2020</td>\n",
       "      <td>12/14/2020</td>\n",
       "      <td>Ansonia</td>\n",
       "      <td>127400.0</td>\n",
       "      <td>202500.0</td>\n",
       "      <td>0.6291</td>\n",
       "      <td>Residential</td>\n",
       "      <td>Two Family</td>\n",
       "    </tr>\n",
       "    <tr>\n",
       "      <th>4</th>\n",
       "      <td>2020</td>\n",
       "      <td>09/07/2021</td>\n",
       "      <td>Avon</td>\n",
       "      <td>217640.0</td>\n",
       "      <td>400000.0</td>\n",
       "      <td>0.5441</td>\n",
       "      <td>Residential</td>\n",
       "      <td>Single Family</td>\n",
       "    </tr>\n",
       "    <tr>\n",
       "      <th>...</th>\n",
       "      <td>...</td>\n",
       "      <td>...</td>\n",
       "      <td>...</td>\n",
       "      <td>...</td>\n",
       "      <td>...</td>\n",
       "      <td>...</td>\n",
       "      <td>...</td>\n",
       "      <td>...</td>\n",
       "    </tr>\n",
       "    <tr>\n",
       "      <th>1097624</th>\n",
       "      <td>2022</td>\n",
       "      <td>10/11/2022</td>\n",
       "      <td>Stamford</td>\n",
       "      <td>483380.0</td>\n",
       "      <td>865000.0</td>\n",
       "      <td>0.5588</td>\n",
       "      <td>Residential</td>\n",
       "      <td>Single Family</td>\n",
       "    </tr>\n",
       "    <tr>\n",
       "      <th>1097625</th>\n",
       "      <td>2022</td>\n",
       "      <td>09/29/2023</td>\n",
       "      <td>Wethersfield</td>\n",
       "      <td>20650.0</td>\n",
       "      <td>760857.0</td>\n",
       "      <td>0.0271</td>\n",
       "      <td>Residential</td>\n",
       "      <td>Single Family</td>\n",
       "    </tr>\n",
       "    <tr>\n",
       "      <th>1097626</th>\n",
       "      <td>2022</td>\n",
       "      <td>01/09/2023</td>\n",
       "      <td>Stamford</td>\n",
       "      <td>132900.0</td>\n",
       "      <td>220000.0</td>\n",
       "      <td>0.6040</td>\n",
       "      <td>Residential</td>\n",
       "      <td>Condo</td>\n",
       "    </tr>\n",
       "    <tr>\n",
       "      <th>1097627</th>\n",
       "      <td>2022</td>\n",
       "      <td>09/26/2023</td>\n",
       "      <td>Old Saybrook</td>\n",
       "      <td>1099400.0</td>\n",
       "      <td>1575000.0</td>\n",
       "      <td>0.6980</td>\n",
       "      <td>Residential</td>\n",
       "      <td>Single Family</td>\n",
       "    </tr>\n",
       "    <tr>\n",
       "      <th>1097628</th>\n",
       "      <td>2022</td>\n",
       "      <td>05/18/2023</td>\n",
       "      <td>Southington</td>\n",
       "      <td>135860.0</td>\n",
       "      <td>330000.0</td>\n",
       "      <td>0.4117</td>\n",
       "      <td>Residential</td>\n",
       "      <td>Single Family</td>\n",
       "    </tr>\n",
       "  </tbody>\n",
       "</table>\n",
       "<p>712755 rows × 8 columns</p>\n",
       "</div>"
      ],
      "text/plain": [
       "         List Year  Sales Date          City  Assessed Value  Sale Amount  \\\n",
       "0             2020  04/14/2021       Ansonia        133000.0     248400.0   \n",
       "1             2020  05/26/2021       Ansonia        110500.0     239900.0   \n",
       "2             2020  09/13/2021       Ansonia        150500.0     325000.0   \n",
       "3             2020  12/14/2020       Ansonia        127400.0     202500.0   \n",
       "4             2020  09/07/2021          Avon        217640.0     400000.0   \n",
       "...            ...         ...           ...             ...          ...   \n",
       "1097624       2022  10/11/2022      Stamford        483380.0     865000.0   \n",
       "1097625       2022  09/29/2023  Wethersfield         20650.0     760857.0   \n",
       "1097626       2022  01/09/2023      Stamford        132900.0     220000.0   \n",
       "1097627       2022  09/26/2023  Old Saybrook       1099400.0    1575000.0   \n",
       "1097628       2022  05/18/2023   Southington        135860.0     330000.0   \n",
       "\n",
       "         Sales Ratio Property Type Residential Type  \n",
       "0             0.5354   Residential    Single Family  \n",
       "1             0.4606   Residential     Three Family  \n",
       "2             0.4630    Commercial              NaN  \n",
       "3             0.6291   Residential       Two Family  \n",
       "4             0.5441   Residential    Single Family  \n",
       "...              ...           ...              ...  \n",
       "1097624       0.5588   Residential    Single Family  \n",
       "1097625       0.0271   Residential    Single Family  \n",
       "1097626       0.6040   Residential            Condo  \n",
       "1097627       0.6980   Residential    Single Family  \n",
       "1097628       0.4117   Residential    Single Family  \n",
       "\n",
       "[712755 rows x 8 columns]"
      ]
     },
     "execution_count": 195,
     "metadata": {},
     "output_type": "execute_result"
    }
   ],
   "source": [
    "real_estate_df = real_estate_df[real_estate_df['City'] != '***Unknown***']\n",
    "real_estate_df"
   ]
  },
  {
   "cell_type": "markdown",
   "id": "e370d82b-5a47-4ba9-aa25-7fcda7d99a8a",
   "metadata": {},
   "source": [
    "# Replacing all the residential property type with actual residential type"
   ]
  },
  {
   "cell_type": "code",
   "execution_count": 197,
   "id": "64cf4a2c-23f9-427c-81df-0c05f15ae69a",
   "metadata": {},
   "outputs": [],
   "source": [
    "real_estate_df.loc[real_estate_df['Property Type'] == 'Residential', 'Property Type'] = real_estate_df['Residential Type']"
   ]
  },
  {
   "cell_type": "code",
   "execution_count": 198,
   "id": "780884bd-92bc-4610-b63e-9ac0288f18da",
   "metadata": {},
   "outputs": [],
   "source": [
    "# droppping residential type as it is of no use now\n",
    "\n",
    "real_estate_df = real_estate_df.drop('Residential Type', axis=1)"
   ]
  },
  {
   "cell_type": "code",
   "execution_count": 199,
   "id": "aa25cf65-eb5a-42fc-b888-49fad4984a27",
   "metadata": {},
   "outputs": [
    {
     "data": {
      "text/html": [
       "<div>\n",
       "<style scoped>\n",
       "    .dataframe tbody tr th:only-of-type {\n",
       "        vertical-align: middle;\n",
       "    }\n",
       "\n",
       "    .dataframe tbody tr th {\n",
       "        vertical-align: top;\n",
       "    }\n",
       "\n",
       "    .dataframe thead th {\n",
       "        text-align: right;\n",
       "    }\n",
       "</style>\n",
       "<table border=\"1\" class=\"dataframe\">\n",
       "  <thead>\n",
       "    <tr style=\"text-align: right;\">\n",
       "      <th></th>\n",
       "      <th>List Year</th>\n",
       "      <th>Sales Date</th>\n",
       "      <th>City</th>\n",
       "      <th>Assessed Value</th>\n",
       "      <th>Sale Amount</th>\n",
       "      <th>Sales Ratio</th>\n",
       "      <th>Property Type</th>\n",
       "    </tr>\n",
       "  </thead>\n",
       "  <tbody>\n",
       "    <tr>\n",
       "      <th>0</th>\n",
       "      <td>2020</td>\n",
       "      <td>04/14/2021</td>\n",
       "      <td>Ansonia</td>\n",
       "      <td>133000.0</td>\n",
       "      <td>248400.0</td>\n",
       "      <td>0.5354</td>\n",
       "      <td>Single Family</td>\n",
       "    </tr>\n",
       "    <tr>\n",
       "      <th>1</th>\n",
       "      <td>2020</td>\n",
       "      <td>05/26/2021</td>\n",
       "      <td>Ansonia</td>\n",
       "      <td>110500.0</td>\n",
       "      <td>239900.0</td>\n",
       "      <td>0.4606</td>\n",
       "      <td>Three Family</td>\n",
       "    </tr>\n",
       "    <tr>\n",
       "      <th>2</th>\n",
       "      <td>2020</td>\n",
       "      <td>09/13/2021</td>\n",
       "      <td>Ansonia</td>\n",
       "      <td>150500.0</td>\n",
       "      <td>325000.0</td>\n",
       "      <td>0.4630</td>\n",
       "      <td>Commercial</td>\n",
       "    </tr>\n",
       "    <tr>\n",
       "      <th>3</th>\n",
       "      <td>2020</td>\n",
       "      <td>12/14/2020</td>\n",
       "      <td>Ansonia</td>\n",
       "      <td>127400.0</td>\n",
       "      <td>202500.0</td>\n",
       "      <td>0.6291</td>\n",
       "      <td>Two Family</td>\n",
       "    </tr>\n",
       "    <tr>\n",
       "      <th>4</th>\n",
       "      <td>2020</td>\n",
       "      <td>09/07/2021</td>\n",
       "      <td>Avon</td>\n",
       "      <td>217640.0</td>\n",
       "      <td>400000.0</td>\n",
       "      <td>0.5441</td>\n",
       "      <td>Single Family</td>\n",
       "    </tr>\n",
       "    <tr>\n",
       "      <th>...</th>\n",
       "      <td>...</td>\n",
       "      <td>...</td>\n",
       "      <td>...</td>\n",
       "      <td>...</td>\n",
       "      <td>...</td>\n",
       "      <td>...</td>\n",
       "      <td>...</td>\n",
       "    </tr>\n",
       "    <tr>\n",
       "      <th>712750</th>\n",
       "      <td>2022</td>\n",
       "      <td>10/11/2022</td>\n",
       "      <td>Stamford</td>\n",
       "      <td>483380.0</td>\n",
       "      <td>865000.0</td>\n",
       "      <td>0.5588</td>\n",
       "      <td>Single Family</td>\n",
       "    </tr>\n",
       "    <tr>\n",
       "      <th>712751</th>\n",
       "      <td>2022</td>\n",
       "      <td>09/29/2023</td>\n",
       "      <td>Wethersfield</td>\n",
       "      <td>20650.0</td>\n",
       "      <td>760857.0</td>\n",
       "      <td>0.0271</td>\n",
       "      <td>Single Family</td>\n",
       "    </tr>\n",
       "    <tr>\n",
       "      <th>712752</th>\n",
       "      <td>2022</td>\n",
       "      <td>01/09/2023</td>\n",
       "      <td>Stamford</td>\n",
       "      <td>132900.0</td>\n",
       "      <td>220000.0</td>\n",
       "      <td>0.6040</td>\n",
       "      <td>Condo</td>\n",
       "    </tr>\n",
       "    <tr>\n",
       "      <th>712753</th>\n",
       "      <td>2022</td>\n",
       "      <td>09/26/2023</td>\n",
       "      <td>Old Saybrook</td>\n",
       "      <td>1099400.0</td>\n",
       "      <td>1575000.0</td>\n",
       "      <td>0.6980</td>\n",
       "      <td>Single Family</td>\n",
       "    </tr>\n",
       "    <tr>\n",
       "      <th>712754</th>\n",
       "      <td>2022</td>\n",
       "      <td>05/18/2023</td>\n",
       "      <td>Southington</td>\n",
       "      <td>135860.0</td>\n",
       "      <td>330000.0</td>\n",
       "      <td>0.4117</td>\n",
       "      <td>Single Family</td>\n",
       "    </tr>\n",
       "  </tbody>\n",
       "</table>\n",
       "<p>712755 rows × 7 columns</p>\n",
       "</div>"
      ],
      "text/plain": [
       "        List Year  Sales Date          City  Assessed Value  Sale Amount  \\\n",
       "0            2020  04/14/2021       Ansonia        133000.0     248400.0   \n",
       "1            2020  05/26/2021       Ansonia        110500.0     239900.0   \n",
       "2            2020  09/13/2021       Ansonia        150500.0     325000.0   \n",
       "3            2020  12/14/2020       Ansonia        127400.0     202500.0   \n",
       "4            2020  09/07/2021          Avon        217640.0     400000.0   \n",
       "...           ...         ...           ...             ...          ...   \n",
       "712750       2022  10/11/2022      Stamford        483380.0     865000.0   \n",
       "712751       2022  09/29/2023  Wethersfield         20650.0     760857.0   \n",
       "712752       2022  01/09/2023      Stamford        132900.0     220000.0   \n",
       "712753       2022  09/26/2023  Old Saybrook       1099400.0    1575000.0   \n",
       "712754       2022  05/18/2023   Southington        135860.0     330000.0   \n",
       "\n",
       "        Sales Ratio  Property Type  \n",
       "0            0.5354  Single Family  \n",
       "1            0.4606   Three Family  \n",
       "2            0.4630     Commercial  \n",
       "3            0.6291     Two Family  \n",
       "4            0.5441  Single Family  \n",
       "...             ...            ...  \n",
       "712750       0.5588  Single Family  \n",
       "712751       0.0271  Single Family  \n",
       "712752       0.6040          Condo  \n",
       "712753       0.6980  Single Family  \n",
       "712754       0.4117  Single Family  \n",
       "\n",
       "[712755 rows x 7 columns]"
      ]
     },
     "execution_count": 199,
     "metadata": {},
     "output_type": "execute_result"
    }
   ],
   "source": [
    "# updating to new indices\n",
    "real_estate_df = real_estate_df.reset_index(drop=True)\n",
    "real_estate_df"
   ]
  },
  {
   "cell_type": "markdown",
   "id": "cc63dd45-7500-4667-b956-65754750a2c0",
   "metadata": {},
   "source": [
    "# Datetime conversion of Sales Date"
   ]
  },
  {
   "cell_type": "code",
   "execution_count": 201,
   "id": "f73f0ea1-4243-422e-9090-1cdd84e20129",
   "metadata": {},
   "outputs": [],
   "source": [
    "real_estate_df['Sales Date'] = pd.to_datetime(real_estate_df['Sales Date'])\n",
    "real_estate_df['Sales Year'] = real_estate_df['Sales Date'].dt.year"
   ]
  },
  {
   "cell_type": "code",
   "execution_count": 202,
   "id": "f897934b-a5fc-4e68-bfa6-f4dabe3a28e1",
   "metadata": {},
   "outputs": [],
   "source": [
    "real_estate_df.to_csv(\"Processed_Real_Estate_Df.csv\")"
   ]
  },
  {
   "cell_type": "markdown",
   "id": "1ebc0b87-34fd-4ea5-bfb6-045f568bc573",
   "metadata": {},
   "source": [
    "# Number of sold properties per town."
   ]
  },
  {
   "cell_type": "code",
   "execution_count": 204,
   "id": "4a10c327-c73e-4237-af8e-63f983de9084",
   "metadata": {},
   "outputs": [
    {
     "data": {
      "text/html": [
       "<div>\n",
       "<style scoped>\n",
       "    .dataframe tbody tr th:only-of-type {\n",
       "        vertical-align: middle;\n",
       "    }\n",
       "\n",
       "    .dataframe tbody tr th {\n",
       "        vertical-align: top;\n",
       "    }\n",
       "\n",
       "    .dataframe thead th {\n",
       "        text-align: right;\n",
       "    }\n",
       "</style>\n",
       "<table border=\"1\" class=\"dataframe\">\n",
       "  <thead>\n",
       "    <tr style=\"text-align: right;\">\n",
       "      <th></th>\n",
       "      <th>City</th>\n",
       "      <th>count</th>\n",
       "    </tr>\n",
       "  </thead>\n",
       "  <tbody>\n",
       "    <tr>\n",
       "      <th>0</th>\n",
       "      <td>Bridgeport</td>\n",
       "      <td>22204</td>\n",
       "    </tr>\n",
       "    <tr>\n",
       "      <th>1</th>\n",
       "      <td>Waterbury</td>\n",
       "      <td>22090</td>\n",
       "    </tr>\n",
       "    <tr>\n",
       "      <th>2</th>\n",
       "      <td>Stamford</td>\n",
       "      <td>21468</td>\n",
       "    </tr>\n",
       "    <tr>\n",
       "      <th>3</th>\n",
       "      <td>Norwalk</td>\n",
       "      <td>17597</td>\n",
       "    </tr>\n",
       "    <tr>\n",
       "      <th>4</th>\n",
       "      <td>West Hartford</td>\n",
       "      <td>14374</td>\n",
       "    </tr>\n",
       "    <tr>\n",
       "      <th>...</th>\n",
       "      <td>...</td>\n",
       "      <td>...</td>\n",
       "    </tr>\n",
       "    <tr>\n",
       "      <th>164</th>\n",
       "      <td>Bozrah</td>\n",
       "      <td>353</td>\n",
       "    </tr>\n",
       "    <tr>\n",
       "      <th>165</th>\n",
       "      <td>Hartland</td>\n",
       "      <td>333</td>\n",
       "    </tr>\n",
       "    <tr>\n",
       "      <th>166</th>\n",
       "      <td>Canaan</td>\n",
       "      <td>328</td>\n",
       "    </tr>\n",
       "    <tr>\n",
       "      <th>167</th>\n",
       "      <td>Scotland</td>\n",
       "      <td>313</td>\n",
       "    </tr>\n",
       "    <tr>\n",
       "      <th>168</th>\n",
       "      <td>Union</td>\n",
       "      <td>156</td>\n",
       "    </tr>\n",
       "  </tbody>\n",
       "</table>\n",
       "<p>169 rows × 2 columns</p>\n",
       "</div>"
      ],
      "text/plain": [
       "              City  count\n",
       "0       Bridgeport  22204\n",
       "1        Waterbury  22090\n",
       "2         Stamford  21468\n",
       "3          Norwalk  17597\n",
       "4    West Hartford  14374\n",
       "..             ...    ...\n",
       "164         Bozrah    353\n",
       "165       Hartland    333\n",
       "166         Canaan    328\n",
       "167       Scotland    313\n",
       "168          Union    156\n",
       "\n",
       "[169 rows x 2 columns]"
      ]
     },
     "execution_count": 204,
     "metadata": {},
     "output_type": "execute_result"
    }
   ],
   "source": [
    "number_properties_sold_per_town = real_estate_df['City'].value_counts().reset_index()\n",
    "number_properties_sold_per_town"
   ]
  },
  {
   "cell_type": "code",
   "execution_count": 205,
   "id": "62203e88-6f13-47b4-bb58-83e0ac486abc",
   "metadata": {},
   "outputs": [
    {
     "data": {
      "application/vnd.plotly.v1+json": {
       "config": {
        "plotlyServerURL": "https://plot.ly"
       },
       "data": [
        {
         "alignmentgroup": "True",
         "hovertemplate": "Town=%{x}<br>Number of sold properties=%{text}<extra></extra>",
         "legendgroup": "Bridgeport",
         "marker": {
          "color": "rgb(102,194,165)",
          "pattern": {
           "shape": ""
          }
         },
         "name": "Bridgeport",
         "offsetgroup": "Bridgeport",
         "orientation": "v",
         "showlegend": true,
         "text": [
          22204
         ],
         "textposition": "auto",
         "type": "bar",
         "x": [
          "Bridgeport"
         ],
         "xaxis": "x",
         "y": [
          22204
         ],
         "yaxis": "y"
        },
        {
         "alignmentgroup": "True",
         "hovertemplate": "Town=%{x}<br>Number of sold properties=%{text}<extra></extra>",
         "legendgroup": "Waterbury",
         "marker": {
          "color": "rgb(252,141,98)",
          "pattern": {
           "shape": ""
          }
         },
         "name": "Waterbury",
         "offsetgroup": "Waterbury",
         "orientation": "v",
         "showlegend": true,
         "text": [
          22090
         ],
         "textposition": "auto",
         "type": "bar",
         "x": [
          "Waterbury"
         ],
         "xaxis": "x",
         "y": [
          22090
         ],
         "yaxis": "y"
        },
        {
         "alignmentgroup": "True",
         "hovertemplate": "Town=%{x}<br>Number of sold properties=%{text}<extra></extra>",
         "legendgroup": "Stamford",
         "marker": {
          "color": "rgb(141,160,203)",
          "pattern": {
           "shape": ""
          }
         },
         "name": "Stamford",
         "offsetgroup": "Stamford",
         "orientation": "v",
         "showlegend": true,
         "text": [
          21468
         ],
         "textposition": "auto",
         "type": "bar",
         "x": [
          "Stamford"
         ],
         "xaxis": "x",
         "y": [
          21468
         ],
         "yaxis": "y"
        },
        {
         "alignmentgroup": "True",
         "hovertemplate": "Town=%{x}<br>Number of sold properties=%{text}<extra></extra>",
         "legendgroup": "Norwalk",
         "marker": {
          "color": "rgb(231,138,195)",
          "pattern": {
           "shape": ""
          }
         },
         "name": "Norwalk",
         "offsetgroup": "Norwalk",
         "orientation": "v",
         "showlegend": true,
         "text": [
          17597
         ],
         "textposition": "auto",
         "type": "bar",
         "x": [
          "Norwalk"
         ],
         "xaxis": "x",
         "y": [
          17597
         ],
         "yaxis": "y"
        },
        {
         "alignmentgroup": "True",
         "hovertemplate": "Town=%{x}<br>Number of sold properties=%{text}<extra></extra>",
         "legendgroup": "West Hartford",
         "marker": {
          "color": "rgb(166,216,84)",
          "pattern": {
           "shape": ""
          }
         },
         "name": "West Hartford",
         "offsetgroup": "West Hartford",
         "orientation": "v",
         "showlegend": true,
         "text": [
          14374
         ],
         "textposition": "auto",
         "type": "bar",
         "x": [
          "West Hartford"
         ],
         "xaxis": "x",
         "y": [
          14374
         ],
         "yaxis": "y"
        },
        {
         "alignmentgroup": "True",
         "hovertemplate": "Town=%{x}<br>Number of sold properties=%{text}<extra></extra>",
         "legendgroup": "New Haven",
         "marker": {
          "color": "rgb(255,217,47)",
          "pattern": {
           "shape": ""
          }
         },
         "name": "New Haven",
         "offsetgroup": "New Haven",
         "orientation": "v",
         "showlegend": true,
         "text": [
          13876
         ],
         "textposition": "auto",
         "type": "bar",
         "x": [
          "New Haven"
         ],
         "xaxis": "x",
         "y": [
          13876
         ],
         "yaxis": "y"
        },
        {
         "alignmentgroup": "True",
         "hovertemplate": "Town=%{x}<br>Number of sold properties=%{text}<extra></extra>",
         "legendgroup": "Danbury",
         "marker": {
          "color": "rgb(229,196,148)",
          "pattern": {
           "shape": ""
          }
         },
         "name": "Danbury",
         "offsetgroup": "Danbury",
         "orientation": "v",
         "showlegend": true,
         "text": [
          13700
         ],
         "textposition": "auto",
         "type": "bar",
         "x": [
          "Danbury"
         ],
         "xaxis": "x",
         "y": [
          13700
         ],
         "yaxis": "y"
        },
        {
         "alignmentgroup": "True",
         "hovertemplate": "Town=%{x}<br>Number of sold properties=%{text}<extra></extra>",
         "legendgroup": "Fairfield",
         "marker": {
          "color": "rgb(179,179,179)",
          "pattern": {
           "shape": ""
          }
         },
         "name": "Fairfield",
         "offsetgroup": "Fairfield",
         "orientation": "v",
         "showlegend": true,
         "text": [
          13366
         ],
         "textposition": "auto",
         "type": "bar",
         "x": [
          "Fairfield"
         ],
         "xaxis": "x",
         "y": [
          13366
         ],
         "yaxis": "y"
        },
        {
         "alignmentgroup": "True",
         "hovertemplate": "Town=%{x}<br>Number of sold properties=%{text}<extra></extra>",
         "legendgroup": "Greenwich",
         "marker": {
          "color": "rgb(102,194,165)",
          "pattern": {
           "shape": ""
          }
         },
         "name": "Greenwich",
         "offsetgroup": "Greenwich",
         "orientation": "v",
         "showlegend": true,
         "text": [
          13172
         ],
         "textposition": "auto",
         "type": "bar",
         "x": [
          "Greenwich"
         ],
         "xaxis": "x",
         "y": [
          13172
         ],
         "yaxis": "y"
        },
        {
         "alignmentgroup": "True",
         "hovertemplate": "Town=%{x}<br>Number of sold properties=%{text}<extra></extra>",
         "legendgroup": "Stratford",
         "marker": {
          "color": "rgb(252,141,98)",
          "pattern": {
           "shape": ""
          }
         },
         "name": "Stratford",
         "offsetgroup": "Stratford",
         "orientation": "v",
         "showlegend": true,
         "text": [
          12677
         ],
         "textposition": "auto",
         "type": "bar",
         "x": [
          "Stratford"
         ],
         "xaxis": "x",
         "y": [
          12677
         ],
         "yaxis": "y"
        }
       ],
       "layout": {
        "autosize": true,
        "barmode": "relative",
        "legend": {
         "title": {
          "text": "Town"
         },
         "tracegroupgap": 0
        },
        "template": {
         "data": {
          "bar": [
           {
            "error_x": {
             "color": "#2a3f5f"
            },
            "error_y": {
             "color": "#2a3f5f"
            },
            "marker": {
             "line": {
              "color": "#E5ECF6",
              "width": 0.5
             },
             "pattern": {
              "fillmode": "overlay",
              "size": 10,
              "solidity": 0.2
             }
            },
            "type": "bar"
           }
          ],
          "barpolar": [
           {
            "marker": {
             "line": {
              "color": "#E5ECF6",
              "width": 0.5
             },
             "pattern": {
              "fillmode": "overlay",
              "size": 10,
              "solidity": 0.2
             }
            },
            "type": "barpolar"
           }
          ],
          "carpet": [
           {
            "aaxis": {
             "endlinecolor": "#2a3f5f",
             "gridcolor": "white",
             "linecolor": "white",
             "minorgridcolor": "white",
             "startlinecolor": "#2a3f5f"
            },
            "baxis": {
             "endlinecolor": "#2a3f5f",
             "gridcolor": "white",
             "linecolor": "white",
             "minorgridcolor": "white",
             "startlinecolor": "#2a3f5f"
            },
            "type": "carpet"
           }
          ],
          "choropleth": [
           {
            "colorbar": {
             "outlinewidth": 0,
             "ticks": ""
            },
            "type": "choropleth"
           }
          ],
          "contour": [
           {
            "colorbar": {
             "outlinewidth": 0,
             "ticks": ""
            },
            "colorscale": [
             [
              0,
              "#0d0887"
             ],
             [
              0.1111111111111111,
              "#46039f"
             ],
             [
              0.2222222222222222,
              "#7201a8"
             ],
             [
              0.3333333333333333,
              "#9c179e"
             ],
             [
              0.4444444444444444,
              "#bd3786"
             ],
             [
              0.5555555555555556,
              "#d8576b"
             ],
             [
              0.6666666666666666,
              "#ed7953"
             ],
             [
              0.7777777777777778,
              "#fb9f3a"
             ],
             [
              0.8888888888888888,
              "#fdca26"
             ],
             [
              1,
              "#f0f921"
             ]
            ],
            "type": "contour"
           }
          ],
          "contourcarpet": [
           {
            "colorbar": {
             "outlinewidth": 0,
             "ticks": ""
            },
            "type": "contourcarpet"
           }
          ],
          "heatmap": [
           {
            "colorbar": {
             "outlinewidth": 0,
             "ticks": ""
            },
            "colorscale": [
             [
              0,
              "#0d0887"
             ],
             [
              0.1111111111111111,
              "#46039f"
             ],
             [
              0.2222222222222222,
              "#7201a8"
             ],
             [
              0.3333333333333333,
              "#9c179e"
             ],
             [
              0.4444444444444444,
              "#bd3786"
             ],
             [
              0.5555555555555556,
              "#d8576b"
             ],
             [
              0.6666666666666666,
              "#ed7953"
             ],
             [
              0.7777777777777778,
              "#fb9f3a"
             ],
             [
              0.8888888888888888,
              "#fdca26"
             ],
             [
              1,
              "#f0f921"
             ]
            ],
            "type": "heatmap"
           }
          ],
          "heatmapgl": [
           {
            "colorbar": {
             "outlinewidth": 0,
             "ticks": ""
            },
            "colorscale": [
             [
              0,
              "#0d0887"
             ],
             [
              0.1111111111111111,
              "#46039f"
             ],
             [
              0.2222222222222222,
              "#7201a8"
             ],
             [
              0.3333333333333333,
              "#9c179e"
             ],
             [
              0.4444444444444444,
              "#bd3786"
             ],
             [
              0.5555555555555556,
              "#d8576b"
             ],
             [
              0.6666666666666666,
              "#ed7953"
             ],
             [
              0.7777777777777778,
              "#fb9f3a"
             ],
             [
              0.8888888888888888,
              "#fdca26"
             ],
             [
              1,
              "#f0f921"
             ]
            ],
            "type": "heatmapgl"
           }
          ],
          "histogram": [
           {
            "marker": {
             "pattern": {
              "fillmode": "overlay",
              "size": 10,
              "solidity": 0.2
             }
            },
            "type": "histogram"
           }
          ],
          "histogram2d": [
           {
            "colorbar": {
             "outlinewidth": 0,
             "ticks": ""
            },
            "colorscale": [
             [
              0,
              "#0d0887"
             ],
             [
              0.1111111111111111,
              "#46039f"
             ],
             [
              0.2222222222222222,
              "#7201a8"
             ],
             [
              0.3333333333333333,
              "#9c179e"
             ],
             [
              0.4444444444444444,
              "#bd3786"
             ],
             [
              0.5555555555555556,
              "#d8576b"
             ],
             [
              0.6666666666666666,
              "#ed7953"
             ],
             [
              0.7777777777777778,
              "#fb9f3a"
             ],
             [
              0.8888888888888888,
              "#fdca26"
             ],
             [
              1,
              "#f0f921"
             ]
            ],
            "type": "histogram2d"
           }
          ],
          "histogram2dcontour": [
           {
            "colorbar": {
             "outlinewidth": 0,
             "ticks": ""
            },
            "colorscale": [
             [
              0,
              "#0d0887"
             ],
             [
              0.1111111111111111,
              "#46039f"
             ],
             [
              0.2222222222222222,
              "#7201a8"
             ],
             [
              0.3333333333333333,
              "#9c179e"
             ],
             [
              0.4444444444444444,
              "#bd3786"
             ],
             [
              0.5555555555555556,
              "#d8576b"
             ],
             [
              0.6666666666666666,
              "#ed7953"
             ],
             [
              0.7777777777777778,
              "#fb9f3a"
             ],
             [
              0.8888888888888888,
              "#fdca26"
             ],
             [
              1,
              "#f0f921"
             ]
            ],
            "type": "histogram2dcontour"
           }
          ],
          "mesh3d": [
           {
            "colorbar": {
             "outlinewidth": 0,
             "ticks": ""
            },
            "type": "mesh3d"
           }
          ],
          "parcoords": [
           {
            "line": {
             "colorbar": {
              "outlinewidth": 0,
              "ticks": ""
             }
            },
            "type": "parcoords"
           }
          ],
          "pie": [
           {
            "automargin": true,
            "type": "pie"
           }
          ],
          "scatter": [
           {
            "fillpattern": {
             "fillmode": "overlay",
             "size": 10,
             "solidity": 0.2
            },
            "type": "scatter"
           }
          ],
          "scatter3d": [
           {
            "line": {
             "colorbar": {
              "outlinewidth": 0,
              "ticks": ""
             }
            },
            "marker": {
             "colorbar": {
              "outlinewidth": 0,
              "ticks": ""
             }
            },
            "type": "scatter3d"
           }
          ],
          "scattercarpet": [
           {
            "marker": {
             "colorbar": {
              "outlinewidth": 0,
              "ticks": ""
             }
            },
            "type": "scattercarpet"
           }
          ],
          "scattergeo": [
           {
            "marker": {
             "colorbar": {
              "outlinewidth": 0,
              "ticks": ""
             }
            },
            "type": "scattergeo"
           }
          ],
          "scattergl": [
           {
            "marker": {
             "colorbar": {
              "outlinewidth": 0,
              "ticks": ""
             }
            },
            "type": "scattergl"
           }
          ],
          "scattermapbox": [
           {
            "marker": {
             "colorbar": {
              "outlinewidth": 0,
              "ticks": ""
             }
            },
            "type": "scattermapbox"
           }
          ],
          "scatterpolar": [
           {
            "marker": {
             "colorbar": {
              "outlinewidth": 0,
              "ticks": ""
             }
            },
            "type": "scatterpolar"
           }
          ],
          "scatterpolargl": [
           {
            "marker": {
             "colorbar": {
              "outlinewidth": 0,
              "ticks": ""
             }
            },
            "type": "scatterpolargl"
           }
          ],
          "scatterternary": [
           {
            "marker": {
             "colorbar": {
              "outlinewidth": 0,
              "ticks": ""
             }
            },
            "type": "scatterternary"
           }
          ],
          "surface": [
           {
            "colorbar": {
             "outlinewidth": 0,
             "ticks": ""
            },
            "colorscale": [
             [
              0,
              "#0d0887"
             ],
             [
              0.1111111111111111,
              "#46039f"
             ],
             [
              0.2222222222222222,
              "#7201a8"
             ],
             [
              0.3333333333333333,
              "#9c179e"
             ],
             [
              0.4444444444444444,
              "#bd3786"
             ],
             [
              0.5555555555555556,
              "#d8576b"
             ],
             [
              0.6666666666666666,
              "#ed7953"
             ],
             [
              0.7777777777777778,
              "#fb9f3a"
             ],
             [
              0.8888888888888888,
              "#fdca26"
             ],
             [
              1,
              "#f0f921"
             ]
            ],
            "type": "surface"
           }
          ],
          "table": [
           {
            "cells": {
             "fill": {
              "color": "#EBF0F8"
             },
             "line": {
              "color": "white"
             }
            },
            "header": {
             "fill": {
              "color": "#C8D4E3"
             },
             "line": {
              "color": "white"
             }
            },
            "type": "table"
           }
          ]
         },
         "layout": {
          "annotationdefaults": {
           "arrowcolor": "#2a3f5f",
           "arrowhead": 0,
           "arrowwidth": 1
          },
          "autotypenumbers": "strict",
          "coloraxis": {
           "colorbar": {
            "outlinewidth": 0,
            "ticks": ""
           }
          },
          "colorscale": {
           "diverging": [
            [
             0,
             "#8e0152"
            ],
            [
             0.1,
             "#c51b7d"
            ],
            [
             0.2,
             "#de77ae"
            ],
            [
             0.3,
             "#f1b6da"
            ],
            [
             0.4,
             "#fde0ef"
            ],
            [
             0.5,
             "#f7f7f7"
            ],
            [
             0.6,
             "#e6f5d0"
            ],
            [
             0.7,
             "#b8e186"
            ],
            [
             0.8,
             "#7fbc41"
            ],
            [
             0.9,
             "#4d9221"
            ],
            [
             1,
             "#276419"
            ]
           ],
           "sequential": [
            [
             0,
             "#0d0887"
            ],
            [
             0.1111111111111111,
             "#46039f"
            ],
            [
             0.2222222222222222,
             "#7201a8"
            ],
            [
             0.3333333333333333,
             "#9c179e"
            ],
            [
             0.4444444444444444,
             "#bd3786"
            ],
            [
             0.5555555555555556,
             "#d8576b"
            ],
            [
             0.6666666666666666,
             "#ed7953"
            ],
            [
             0.7777777777777778,
             "#fb9f3a"
            ],
            [
             0.8888888888888888,
             "#fdca26"
            ],
            [
             1,
             "#f0f921"
            ]
           ],
           "sequentialminus": [
            [
             0,
             "#0d0887"
            ],
            [
             0.1111111111111111,
             "#46039f"
            ],
            [
             0.2222222222222222,
             "#7201a8"
            ],
            [
             0.3333333333333333,
             "#9c179e"
            ],
            [
             0.4444444444444444,
             "#bd3786"
            ],
            [
             0.5555555555555556,
             "#d8576b"
            ],
            [
             0.6666666666666666,
             "#ed7953"
            ],
            [
             0.7777777777777778,
             "#fb9f3a"
            ],
            [
             0.8888888888888888,
             "#fdca26"
            ],
            [
             1,
             "#f0f921"
            ]
           ]
          },
          "colorway": [
           "#636efa",
           "#EF553B",
           "#00cc96",
           "#ab63fa",
           "#FFA15A",
           "#19d3f3",
           "#FF6692",
           "#B6E880",
           "#FF97FF",
           "#FECB52"
          ],
          "font": {
           "color": "#2a3f5f"
          },
          "geo": {
           "bgcolor": "white",
           "lakecolor": "white",
           "landcolor": "#E5ECF6",
           "showlakes": true,
           "showland": true,
           "subunitcolor": "white"
          },
          "hoverlabel": {
           "align": "left"
          },
          "hovermode": "closest",
          "mapbox": {
           "style": "light"
          },
          "paper_bgcolor": "white",
          "plot_bgcolor": "#E5ECF6",
          "polar": {
           "angularaxis": {
            "gridcolor": "white",
            "linecolor": "white",
            "ticks": ""
           },
           "bgcolor": "#E5ECF6",
           "radialaxis": {
            "gridcolor": "white",
            "linecolor": "white",
            "ticks": ""
           }
          },
          "scene": {
           "xaxis": {
            "backgroundcolor": "#E5ECF6",
            "gridcolor": "white",
            "gridwidth": 2,
            "linecolor": "white",
            "showbackground": true,
            "ticks": "",
            "zerolinecolor": "white"
           },
           "yaxis": {
            "backgroundcolor": "#E5ECF6",
            "gridcolor": "white",
            "gridwidth": 2,
            "linecolor": "white",
            "showbackground": true,
            "ticks": "",
            "zerolinecolor": "white"
           },
           "zaxis": {
            "backgroundcolor": "#E5ECF6",
            "gridcolor": "white",
            "gridwidth": 2,
            "linecolor": "white",
            "showbackground": true,
            "ticks": "",
            "zerolinecolor": "white"
           }
          },
          "shapedefaults": {
           "line": {
            "color": "#2a3f5f"
           }
          },
          "ternary": {
           "aaxis": {
            "gridcolor": "white",
            "linecolor": "white",
            "ticks": ""
           },
           "baxis": {
            "gridcolor": "white",
            "linecolor": "white",
            "ticks": ""
           },
           "bgcolor": "#E5ECF6",
           "caxis": {
            "gridcolor": "white",
            "linecolor": "white",
            "ticks": ""
           }
          },
          "title": {
           "x": 0.05
          },
          "xaxis": {
           "automargin": true,
           "gridcolor": "white",
           "linecolor": "white",
           "ticks": "",
           "title": {
            "standoff": 15
           },
           "zerolinecolor": "white",
           "zerolinewidth": 2
          },
          "yaxis": {
           "automargin": true,
           "gridcolor": "white",
           "linecolor": "white",
           "ticks": "",
           "title": {
            "standoff": 15
           },
           "zerolinecolor": "white",
           "zerolinewidth": 2
          }
         }
        },
        "title": {
         "text": "Count of all Towns"
        },
        "xaxis": {
         "anchor": "y",
         "autorange": true,
         "categoryarray": [
          "Bridgeport",
          "Waterbury",
          "Stamford",
          "Norwalk",
          "West Hartford",
          "New Haven",
          "Danbury",
          "Fairfield",
          "Greenwich",
          "Stratford"
         ],
         "categoryorder": "array",
         "domain": [
          0,
          1
         ],
         "range": [
          -0.5,
          9.5
         ],
         "title": {
          "text": "Town"
         },
         "type": "category"
        },
        "yaxis": {
         "anchor": "x",
         "autorange": true,
         "domain": [
          0,
          1
         ],
         "range": [
          0,
          23372.631578947367
         ],
         "title": {
          "text": "Number of sold properties"
         },
         "type": "linear"
        }
       }
      },
      "text/html": [
       "<div>                            <div id=\"62a39506-5407-4144-bdb9-8048a49a632d\" class=\"plotly-graph-div\" style=\"height:525px; width:100%;\"></div>            <script type=\"text/javascript\">                require([\"plotly\"], function(Plotly) {                    window.PLOTLYENV=window.PLOTLYENV || {};                                    if (document.getElementById(\"62a39506-5407-4144-bdb9-8048a49a632d\")) {                    Plotly.newPlot(                        \"62a39506-5407-4144-bdb9-8048a49a632d\",                        [{\"alignmentgroup\":\"True\",\"hovertemplate\":\"Town=%{x}\\u003cbr\\u003eNumber of sold properties=%{text}\\u003cextra\\u003e\\u003c\\u002fextra\\u003e\",\"legendgroup\":\"Bridgeport\",\"marker\":{\"color\":\"rgb(102,194,165)\",\"pattern\":{\"shape\":\"\"}},\"name\":\"Bridgeport\",\"offsetgroup\":\"Bridgeport\",\"orientation\":\"v\",\"showlegend\":true,\"text\":[22204.0],\"textposition\":\"auto\",\"x\":[\"Bridgeport\"],\"xaxis\":\"x\",\"y\":[22204],\"yaxis\":\"y\",\"type\":\"bar\"},{\"alignmentgroup\":\"True\",\"hovertemplate\":\"Town=%{x}\\u003cbr\\u003eNumber of sold properties=%{text}\\u003cextra\\u003e\\u003c\\u002fextra\\u003e\",\"legendgroup\":\"Waterbury\",\"marker\":{\"color\":\"rgb(252,141,98)\",\"pattern\":{\"shape\":\"\"}},\"name\":\"Waterbury\",\"offsetgroup\":\"Waterbury\",\"orientation\":\"v\",\"showlegend\":true,\"text\":[22090.0],\"textposition\":\"auto\",\"x\":[\"Waterbury\"],\"xaxis\":\"x\",\"y\":[22090],\"yaxis\":\"y\",\"type\":\"bar\"},{\"alignmentgroup\":\"True\",\"hovertemplate\":\"Town=%{x}\\u003cbr\\u003eNumber of sold properties=%{text}\\u003cextra\\u003e\\u003c\\u002fextra\\u003e\",\"legendgroup\":\"Stamford\",\"marker\":{\"color\":\"rgb(141,160,203)\",\"pattern\":{\"shape\":\"\"}},\"name\":\"Stamford\",\"offsetgroup\":\"Stamford\",\"orientation\":\"v\",\"showlegend\":true,\"text\":[21468.0],\"textposition\":\"auto\",\"x\":[\"Stamford\"],\"xaxis\":\"x\",\"y\":[21468],\"yaxis\":\"y\",\"type\":\"bar\"},{\"alignmentgroup\":\"True\",\"hovertemplate\":\"Town=%{x}\\u003cbr\\u003eNumber of sold properties=%{text}\\u003cextra\\u003e\\u003c\\u002fextra\\u003e\",\"legendgroup\":\"Norwalk\",\"marker\":{\"color\":\"rgb(231,138,195)\",\"pattern\":{\"shape\":\"\"}},\"name\":\"Norwalk\",\"offsetgroup\":\"Norwalk\",\"orientation\":\"v\",\"showlegend\":true,\"text\":[17597.0],\"textposition\":\"auto\",\"x\":[\"Norwalk\"],\"xaxis\":\"x\",\"y\":[17597],\"yaxis\":\"y\",\"type\":\"bar\"},{\"alignmentgroup\":\"True\",\"hovertemplate\":\"Town=%{x}\\u003cbr\\u003eNumber of sold properties=%{text}\\u003cextra\\u003e\\u003c\\u002fextra\\u003e\",\"legendgroup\":\"West Hartford\",\"marker\":{\"color\":\"rgb(166,216,84)\",\"pattern\":{\"shape\":\"\"}},\"name\":\"West Hartford\",\"offsetgroup\":\"West Hartford\",\"orientation\":\"v\",\"showlegend\":true,\"text\":[14374.0],\"textposition\":\"auto\",\"x\":[\"West Hartford\"],\"xaxis\":\"x\",\"y\":[14374],\"yaxis\":\"y\",\"type\":\"bar\"},{\"alignmentgroup\":\"True\",\"hovertemplate\":\"Town=%{x}\\u003cbr\\u003eNumber of sold properties=%{text}\\u003cextra\\u003e\\u003c\\u002fextra\\u003e\",\"legendgroup\":\"New Haven\",\"marker\":{\"color\":\"rgb(255,217,47)\",\"pattern\":{\"shape\":\"\"}},\"name\":\"New Haven\",\"offsetgroup\":\"New Haven\",\"orientation\":\"v\",\"showlegend\":true,\"text\":[13876.0],\"textposition\":\"auto\",\"x\":[\"New Haven\"],\"xaxis\":\"x\",\"y\":[13876],\"yaxis\":\"y\",\"type\":\"bar\"},{\"alignmentgroup\":\"True\",\"hovertemplate\":\"Town=%{x}\\u003cbr\\u003eNumber of sold properties=%{text}\\u003cextra\\u003e\\u003c\\u002fextra\\u003e\",\"legendgroup\":\"Danbury\",\"marker\":{\"color\":\"rgb(229,196,148)\",\"pattern\":{\"shape\":\"\"}},\"name\":\"Danbury\",\"offsetgroup\":\"Danbury\",\"orientation\":\"v\",\"showlegend\":true,\"text\":[13700.0],\"textposition\":\"auto\",\"x\":[\"Danbury\"],\"xaxis\":\"x\",\"y\":[13700],\"yaxis\":\"y\",\"type\":\"bar\"},{\"alignmentgroup\":\"True\",\"hovertemplate\":\"Town=%{x}\\u003cbr\\u003eNumber of sold properties=%{text}\\u003cextra\\u003e\\u003c\\u002fextra\\u003e\",\"legendgroup\":\"Fairfield\",\"marker\":{\"color\":\"rgb(179,179,179)\",\"pattern\":{\"shape\":\"\"}},\"name\":\"Fairfield\",\"offsetgroup\":\"Fairfield\",\"orientation\":\"v\",\"showlegend\":true,\"text\":[13366.0],\"textposition\":\"auto\",\"x\":[\"Fairfield\"],\"xaxis\":\"x\",\"y\":[13366],\"yaxis\":\"y\",\"type\":\"bar\"},{\"alignmentgroup\":\"True\",\"hovertemplate\":\"Town=%{x}\\u003cbr\\u003eNumber of sold properties=%{text}\\u003cextra\\u003e\\u003c\\u002fextra\\u003e\",\"legendgroup\":\"Greenwich\",\"marker\":{\"color\":\"rgb(102,194,165)\",\"pattern\":{\"shape\":\"\"}},\"name\":\"Greenwich\",\"offsetgroup\":\"Greenwich\",\"orientation\":\"v\",\"showlegend\":true,\"text\":[13172.0],\"textposition\":\"auto\",\"x\":[\"Greenwich\"],\"xaxis\":\"x\",\"y\":[13172],\"yaxis\":\"y\",\"type\":\"bar\"},{\"alignmentgroup\":\"True\",\"hovertemplate\":\"Town=%{x}\\u003cbr\\u003eNumber of sold properties=%{text}\\u003cextra\\u003e\\u003c\\u002fextra\\u003e\",\"legendgroup\":\"Stratford\",\"marker\":{\"color\":\"rgb(252,141,98)\",\"pattern\":{\"shape\":\"\"}},\"name\":\"Stratford\",\"offsetgroup\":\"Stratford\",\"orientation\":\"v\",\"showlegend\":true,\"text\":[12677.0],\"textposition\":\"auto\",\"x\":[\"Stratford\"],\"xaxis\":\"x\",\"y\":[12677],\"yaxis\":\"y\",\"type\":\"bar\"}],                        {\"template\":{\"data\":{\"histogram2dcontour\":[{\"type\":\"histogram2dcontour\",\"colorbar\":{\"outlinewidth\":0,\"ticks\":\"\"},\"colorscale\":[[0.0,\"#0d0887\"],[0.1111111111111111,\"#46039f\"],[0.2222222222222222,\"#7201a8\"],[0.3333333333333333,\"#9c179e\"],[0.4444444444444444,\"#bd3786\"],[0.5555555555555556,\"#d8576b\"],[0.6666666666666666,\"#ed7953\"],[0.7777777777777778,\"#fb9f3a\"],[0.8888888888888888,\"#fdca26\"],[1.0,\"#f0f921\"]]}],\"choropleth\":[{\"type\":\"choropleth\",\"colorbar\":{\"outlinewidth\":0,\"ticks\":\"\"}}],\"histogram2d\":[{\"type\":\"histogram2d\",\"colorbar\":{\"outlinewidth\":0,\"ticks\":\"\"},\"colorscale\":[[0.0,\"#0d0887\"],[0.1111111111111111,\"#46039f\"],[0.2222222222222222,\"#7201a8\"],[0.3333333333333333,\"#9c179e\"],[0.4444444444444444,\"#bd3786\"],[0.5555555555555556,\"#d8576b\"],[0.6666666666666666,\"#ed7953\"],[0.7777777777777778,\"#fb9f3a\"],[0.8888888888888888,\"#fdca26\"],[1.0,\"#f0f921\"]]}],\"heatmap\":[{\"type\":\"heatmap\",\"colorbar\":{\"outlinewidth\":0,\"ticks\":\"\"},\"colorscale\":[[0.0,\"#0d0887\"],[0.1111111111111111,\"#46039f\"],[0.2222222222222222,\"#7201a8\"],[0.3333333333333333,\"#9c179e\"],[0.4444444444444444,\"#bd3786\"],[0.5555555555555556,\"#d8576b\"],[0.6666666666666666,\"#ed7953\"],[0.7777777777777778,\"#fb9f3a\"],[0.8888888888888888,\"#fdca26\"],[1.0,\"#f0f921\"]]}],\"heatmapgl\":[{\"type\":\"heatmapgl\",\"colorbar\":{\"outlinewidth\":0,\"ticks\":\"\"},\"colorscale\":[[0.0,\"#0d0887\"],[0.1111111111111111,\"#46039f\"],[0.2222222222222222,\"#7201a8\"],[0.3333333333333333,\"#9c179e\"],[0.4444444444444444,\"#bd3786\"],[0.5555555555555556,\"#d8576b\"],[0.6666666666666666,\"#ed7953\"],[0.7777777777777778,\"#fb9f3a\"],[0.8888888888888888,\"#fdca26\"],[1.0,\"#f0f921\"]]}],\"contourcarpet\":[{\"type\":\"contourcarpet\",\"colorbar\":{\"outlinewidth\":0,\"ticks\":\"\"}}],\"contour\":[{\"type\":\"contour\",\"colorbar\":{\"outlinewidth\":0,\"ticks\":\"\"},\"colorscale\":[[0.0,\"#0d0887\"],[0.1111111111111111,\"#46039f\"],[0.2222222222222222,\"#7201a8\"],[0.3333333333333333,\"#9c179e\"],[0.4444444444444444,\"#bd3786\"],[0.5555555555555556,\"#d8576b\"],[0.6666666666666666,\"#ed7953\"],[0.7777777777777778,\"#fb9f3a\"],[0.8888888888888888,\"#fdca26\"],[1.0,\"#f0f921\"]]}],\"surface\":[{\"type\":\"surface\",\"colorbar\":{\"outlinewidth\":0,\"ticks\":\"\"},\"colorscale\":[[0.0,\"#0d0887\"],[0.1111111111111111,\"#46039f\"],[0.2222222222222222,\"#7201a8\"],[0.3333333333333333,\"#9c179e\"],[0.4444444444444444,\"#bd3786\"],[0.5555555555555556,\"#d8576b\"],[0.6666666666666666,\"#ed7953\"],[0.7777777777777778,\"#fb9f3a\"],[0.8888888888888888,\"#fdca26\"],[1.0,\"#f0f921\"]]}],\"mesh3d\":[{\"type\":\"mesh3d\",\"colorbar\":{\"outlinewidth\":0,\"ticks\":\"\"}}],\"scatter\":[{\"fillpattern\":{\"fillmode\":\"overlay\",\"size\":10,\"solidity\":0.2},\"type\":\"scatter\"}],\"parcoords\":[{\"type\":\"parcoords\",\"line\":{\"colorbar\":{\"outlinewidth\":0,\"ticks\":\"\"}}}],\"scatterpolargl\":[{\"type\":\"scatterpolargl\",\"marker\":{\"colorbar\":{\"outlinewidth\":0,\"ticks\":\"\"}}}],\"bar\":[{\"error_x\":{\"color\":\"#2a3f5f\"},\"error_y\":{\"color\":\"#2a3f5f\"},\"marker\":{\"line\":{\"color\":\"#E5ECF6\",\"width\":0.5},\"pattern\":{\"fillmode\":\"overlay\",\"size\":10,\"solidity\":0.2}},\"type\":\"bar\"}],\"scattergeo\":[{\"type\":\"scattergeo\",\"marker\":{\"colorbar\":{\"outlinewidth\":0,\"ticks\":\"\"}}}],\"scatterpolar\":[{\"type\":\"scatterpolar\",\"marker\":{\"colorbar\":{\"outlinewidth\":0,\"ticks\":\"\"}}}],\"histogram\":[{\"marker\":{\"pattern\":{\"fillmode\":\"overlay\",\"size\":10,\"solidity\":0.2}},\"type\":\"histogram\"}],\"scattergl\":[{\"type\":\"scattergl\",\"marker\":{\"colorbar\":{\"outlinewidth\":0,\"ticks\":\"\"}}}],\"scatter3d\":[{\"type\":\"scatter3d\",\"line\":{\"colorbar\":{\"outlinewidth\":0,\"ticks\":\"\"}},\"marker\":{\"colorbar\":{\"outlinewidth\":0,\"ticks\":\"\"}}}],\"scattermapbox\":[{\"type\":\"scattermapbox\",\"marker\":{\"colorbar\":{\"outlinewidth\":0,\"ticks\":\"\"}}}],\"scatterternary\":[{\"type\":\"scatterternary\",\"marker\":{\"colorbar\":{\"outlinewidth\":0,\"ticks\":\"\"}}}],\"scattercarpet\":[{\"type\":\"scattercarpet\",\"marker\":{\"colorbar\":{\"outlinewidth\":0,\"ticks\":\"\"}}}],\"carpet\":[{\"aaxis\":{\"endlinecolor\":\"#2a3f5f\",\"gridcolor\":\"white\",\"linecolor\":\"white\",\"minorgridcolor\":\"white\",\"startlinecolor\":\"#2a3f5f\"},\"baxis\":{\"endlinecolor\":\"#2a3f5f\",\"gridcolor\":\"white\",\"linecolor\":\"white\",\"minorgridcolor\":\"white\",\"startlinecolor\":\"#2a3f5f\"},\"type\":\"carpet\"}],\"table\":[{\"cells\":{\"fill\":{\"color\":\"#EBF0F8\"},\"line\":{\"color\":\"white\"}},\"header\":{\"fill\":{\"color\":\"#C8D4E3\"},\"line\":{\"color\":\"white\"}},\"type\":\"table\"}],\"barpolar\":[{\"marker\":{\"line\":{\"color\":\"#E5ECF6\",\"width\":0.5},\"pattern\":{\"fillmode\":\"overlay\",\"size\":10,\"solidity\":0.2}},\"type\":\"barpolar\"}],\"pie\":[{\"automargin\":true,\"type\":\"pie\"}]},\"layout\":{\"autotypenumbers\":\"strict\",\"colorway\":[\"#636efa\",\"#EF553B\",\"#00cc96\",\"#ab63fa\",\"#FFA15A\",\"#19d3f3\",\"#FF6692\",\"#B6E880\",\"#FF97FF\",\"#FECB52\"],\"font\":{\"color\":\"#2a3f5f\"},\"hovermode\":\"closest\",\"hoverlabel\":{\"align\":\"left\"},\"paper_bgcolor\":\"white\",\"plot_bgcolor\":\"#E5ECF6\",\"polar\":{\"bgcolor\":\"#E5ECF6\",\"angularaxis\":{\"gridcolor\":\"white\",\"linecolor\":\"white\",\"ticks\":\"\"},\"radialaxis\":{\"gridcolor\":\"white\",\"linecolor\":\"white\",\"ticks\":\"\"}},\"ternary\":{\"bgcolor\":\"#E5ECF6\",\"aaxis\":{\"gridcolor\":\"white\",\"linecolor\":\"white\",\"ticks\":\"\"},\"baxis\":{\"gridcolor\":\"white\",\"linecolor\":\"white\",\"ticks\":\"\"},\"caxis\":{\"gridcolor\":\"white\",\"linecolor\":\"white\",\"ticks\":\"\"}},\"coloraxis\":{\"colorbar\":{\"outlinewidth\":0,\"ticks\":\"\"}},\"colorscale\":{\"sequential\":[[0.0,\"#0d0887\"],[0.1111111111111111,\"#46039f\"],[0.2222222222222222,\"#7201a8\"],[0.3333333333333333,\"#9c179e\"],[0.4444444444444444,\"#bd3786\"],[0.5555555555555556,\"#d8576b\"],[0.6666666666666666,\"#ed7953\"],[0.7777777777777778,\"#fb9f3a\"],[0.8888888888888888,\"#fdca26\"],[1.0,\"#f0f921\"]],\"sequentialminus\":[[0.0,\"#0d0887\"],[0.1111111111111111,\"#46039f\"],[0.2222222222222222,\"#7201a8\"],[0.3333333333333333,\"#9c179e\"],[0.4444444444444444,\"#bd3786\"],[0.5555555555555556,\"#d8576b\"],[0.6666666666666666,\"#ed7953\"],[0.7777777777777778,\"#fb9f3a\"],[0.8888888888888888,\"#fdca26\"],[1.0,\"#f0f921\"]],\"diverging\":[[0,\"#8e0152\"],[0.1,\"#c51b7d\"],[0.2,\"#de77ae\"],[0.3,\"#f1b6da\"],[0.4,\"#fde0ef\"],[0.5,\"#f7f7f7\"],[0.6,\"#e6f5d0\"],[0.7,\"#b8e186\"],[0.8,\"#7fbc41\"],[0.9,\"#4d9221\"],[1,\"#276419\"]]},\"xaxis\":{\"gridcolor\":\"white\",\"linecolor\":\"white\",\"ticks\":\"\",\"title\":{\"standoff\":15},\"zerolinecolor\":\"white\",\"automargin\":true,\"zerolinewidth\":2},\"yaxis\":{\"gridcolor\":\"white\",\"linecolor\":\"white\",\"ticks\":\"\",\"title\":{\"standoff\":15},\"zerolinecolor\":\"white\",\"automargin\":true,\"zerolinewidth\":2},\"scene\":{\"xaxis\":{\"backgroundcolor\":\"#E5ECF6\",\"gridcolor\":\"white\",\"linecolor\":\"white\",\"showbackground\":true,\"ticks\":\"\",\"zerolinecolor\":\"white\",\"gridwidth\":2},\"yaxis\":{\"backgroundcolor\":\"#E5ECF6\",\"gridcolor\":\"white\",\"linecolor\":\"white\",\"showbackground\":true,\"ticks\":\"\",\"zerolinecolor\":\"white\",\"gridwidth\":2},\"zaxis\":{\"backgroundcolor\":\"#E5ECF6\",\"gridcolor\":\"white\",\"linecolor\":\"white\",\"showbackground\":true,\"ticks\":\"\",\"zerolinecolor\":\"white\",\"gridwidth\":2}},\"shapedefaults\":{\"line\":{\"color\":\"#2a3f5f\"}},\"annotationdefaults\":{\"arrowcolor\":\"#2a3f5f\",\"arrowhead\":0,\"arrowwidth\":1},\"geo\":{\"bgcolor\":\"white\",\"landcolor\":\"#E5ECF6\",\"subunitcolor\":\"white\",\"showland\":true,\"showlakes\":true,\"lakecolor\":\"white\"},\"title\":{\"x\":0.05},\"mapbox\":{\"style\":\"light\"}}},\"xaxis\":{\"anchor\":\"y\",\"domain\":[0.0,1.0],\"title\":{\"text\":\"Town\"},\"categoryorder\":\"array\",\"categoryarray\":[\"Bridgeport\",\"Waterbury\",\"Stamford\",\"Norwalk\",\"West Hartford\",\"New Haven\",\"Danbury\",\"Fairfield\",\"Greenwich\",\"Stratford\"]},\"yaxis\":{\"anchor\":\"x\",\"domain\":[0.0,1.0],\"title\":{\"text\":\"Number of sold properties\"}},\"legend\":{\"title\":{\"text\":\"Town\"},\"tracegroupgap\":0},\"title\":{\"text\":\"Count of all Towns\"},\"barmode\":\"relative\"},                        {\"responsive\": true}                    ).then(function(){\n",
       "                            \n",
       "var gd = document.getElementById('62a39506-5407-4144-bdb9-8048a49a632d');\n",
       "var x = new MutationObserver(function (mutations, observer) {{\n",
       "        var display = window.getComputedStyle(gd).display;\n",
       "        if (!display || display === 'none') {{\n",
       "            console.log([gd, 'removed!']);\n",
       "            Plotly.purge(gd);\n",
       "            observer.disconnect();\n",
       "        }}\n",
       "}});\n",
       "\n",
       "// Listen for the removal of the full notebook cells\n",
       "var notebookContainer = gd.closest('#notebook-container');\n",
       "if (notebookContainer) {{\n",
       "    x.observe(notebookContainer, {childList: true});\n",
       "}}\n",
       "\n",
       "// Listen for the clearing of the current output cell\n",
       "var outputEl = gd.closest('.output');\n",
       "if (outputEl) {{\n",
       "    x.observe(outputEl, {childList: true});\n",
       "}}\n",
       "\n",
       "                        })                };                });            </script>        </div>"
      ]
     },
     "metadata": {},
     "output_type": "display_data"
    }
   ],
   "source": [
    "import plotly.express as px\n",
    "fig = px.bar(\n",
    "    number_properties_sold_per_town.head(10),\n",
    "    x='City',\n",
    "    y='count',\n",
    "    text='count',  # Display count on bars\n",
    "    title='Count of all Towns',\n",
    "    labels={'City': 'Town', 'count': 'Number of sold properties'},\n",
    "    color='City',  # Color bars by country\n",
    "    color_discrete_sequence=px.colors.qualitative.Set2,  # Distinct colors\n",
    "    hover_data={'City': True, 'count': True}  # Show country and count on hover\n",
    ")\n",
    "fig.show()"
   ]
  },
  {
   "cell_type": "markdown",
   "id": "5cbc2800-c89b-4051-8a92-9cf067903b08",
   "metadata": {},
   "source": [
    "# Number of sold properties per year."
   ]
  },
  {
   "cell_type": "code",
   "execution_count": 207,
   "id": "da7a095a-7fa1-402c-b393-cee6a5456947",
   "metadata": {},
   "outputs": [],
   "source": [
    "number_properties_sold_per_year = real_estate_df['Sales Year'].value_counts().reset_index()\n",
    "number_properties_sold_per_year\n",
    "\n",
    "number_properties_sold_per_year.to_csv(\"Properties_Sold_Per_Year.csv\")"
   ]
  },
  {
   "cell_type": "code",
   "execution_count": 208,
   "id": "b285f7b3-d4fa-4647-a58d-53a48929fe86",
   "metadata": {},
   "outputs": [
    {
     "data": {
      "text/html": [
       "<div>\n",
       "<style scoped>\n",
       "    .dataframe tbody tr th:only-of-type {\n",
       "        vertical-align: middle;\n",
       "    }\n",
       "\n",
       "    .dataframe tbody tr th {\n",
       "        vertical-align: top;\n",
       "    }\n",
       "\n",
       "    .dataframe thead th {\n",
       "        text-align: right;\n",
       "    }\n",
       "</style>\n",
       "<table border=\"1\" class=\"dataframe\">\n",
       "  <thead>\n",
       "    <tr style=\"text-align: right;\">\n",
       "      <th></th>\n",
       "      <th>Sales Year</th>\n",
       "      <th>count</th>\n",
       "    </tr>\n",
       "  </thead>\n",
       "  <tbody>\n",
       "    <tr>\n",
       "      <th>0</th>\n",
       "      <td>2021</td>\n",
       "      <td>64279</td>\n",
       "    </tr>\n",
       "    <tr>\n",
       "      <th>1</th>\n",
       "      <td>2020</td>\n",
       "      <td>59026</td>\n",
       "    </tr>\n",
       "    <tr>\n",
       "      <th>2</th>\n",
       "      <td>2022</td>\n",
       "      <td>52597</td>\n",
       "    </tr>\n",
       "    <tr>\n",
       "      <th>3</th>\n",
       "      <td>2019</td>\n",
       "      <td>48236</td>\n",
       "    </tr>\n",
       "    <tr>\n",
       "      <th>4</th>\n",
       "      <td>2015</td>\n",
       "      <td>44854</td>\n",
       "    </tr>\n",
       "    <tr>\n",
       "      <th>5</th>\n",
       "      <td>2017</td>\n",
       "      <td>44520</td>\n",
       "    </tr>\n",
       "    <tr>\n",
       "      <th>6</th>\n",
       "      <td>2016</td>\n",
       "      <td>43565</td>\n",
       "    </tr>\n",
       "    <tr>\n",
       "      <th>7</th>\n",
       "      <td>2018</td>\n",
       "      <td>42941</td>\n",
       "    </tr>\n",
       "    <tr>\n",
       "      <th>8</th>\n",
       "      <td>2007</td>\n",
       "      <td>40503</td>\n",
       "    </tr>\n",
       "    <tr>\n",
       "      <th>9</th>\n",
       "      <td>2014</td>\n",
       "      <td>38042</td>\n",
       "    </tr>\n",
       "    <tr>\n",
       "      <th>10</th>\n",
       "      <td>2010</td>\n",
       "      <td>35591</td>\n",
       "    </tr>\n",
       "    <tr>\n",
       "      <th>11</th>\n",
       "      <td>2013</td>\n",
       "      <td>34160</td>\n",
       "    </tr>\n",
       "    <tr>\n",
       "      <th>12</th>\n",
       "      <td>2009</td>\n",
       "      <td>33320</td>\n",
       "    </tr>\n",
       "    <tr>\n",
       "      <th>13</th>\n",
       "      <td>2023</td>\n",
       "      <td>31593</td>\n",
       "    </tr>\n",
       "    <tr>\n",
       "      <th>14</th>\n",
       "      <td>2008</td>\n",
       "      <td>30484</td>\n",
       "    </tr>\n",
       "    <tr>\n",
       "      <th>15</th>\n",
       "      <td>2012</td>\n",
       "      <td>29368</td>\n",
       "    </tr>\n",
       "    <tr>\n",
       "      <th>16</th>\n",
       "      <td>2011</td>\n",
       "      <td>28783</td>\n",
       "    </tr>\n",
       "    <tr>\n",
       "      <th>17</th>\n",
       "      <td>2006</td>\n",
       "      <td>10876</td>\n",
       "    </tr>\n",
       "    <tr>\n",
       "      <th>18</th>\n",
       "      <td>2001</td>\n",
       "      <td>6</td>\n",
       "    </tr>\n",
       "    <tr>\n",
       "      <th>19</th>\n",
       "      <td>2004</td>\n",
       "      <td>6</td>\n",
       "    </tr>\n",
       "    <tr>\n",
       "      <th>20</th>\n",
       "      <td>2005</td>\n",
       "      <td>3</td>\n",
       "    </tr>\n",
       "    <tr>\n",
       "      <th>21</th>\n",
       "      <td>2003</td>\n",
       "      <td>1</td>\n",
       "    </tr>\n",
       "    <tr>\n",
       "      <th>22</th>\n",
       "      <td>1999</td>\n",
       "      <td>1</td>\n",
       "    </tr>\n",
       "  </tbody>\n",
       "</table>\n",
       "</div>"
      ],
      "text/plain": [
       "    Sales Year  count\n",
       "0         2021  64279\n",
       "1         2020  59026\n",
       "2         2022  52597\n",
       "3         2019  48236\n",
       "4         2015  44854\n",
       "5         2017  44520\n",
       "6         2016  43565\n",
       "7         2018  42941\n",
       "8         2007  40503\n",
       "9         2014  38042\n",
       "10        2010  35591\n",
       "11        2013  34160\n",
       "12        2009  33320\n",
       "13        2023  31593\n",
       "14        2008  30484\n",
       "15        2012  29368\n",
       "16        2011  28783\n",
       "17        2006  10876\n",
       "18        2001      6\n",
       "19        2004      6\n",
       "20        2005      3\n",
       "21        2003      1\n",
       "22        1999      1"
      ]
     },
     "execution_count": 208,
     "metadata": {},
     "output_type": "execute_result"
    }
   ],
   "source": [
    "number_properties_sold_per_year"
   ]
  },
  {
   "cell_type": "code",
   "execution_count": 209,
   "id": "6aa747ed-92b3-4348-af4c-2733f9aa8fe0",
   "metadata": {},
   "outputs": [
    {
     "data": {
      "application/vnd.plotly.v1+json": {
       "config": {
        "plotlyServerURL": "https://plot.ly"
       },
       "data": [
        {
         "alignmentgroup": "True",
         "hovertemplate": "Year=%{marker.color}<br>Number of sold properties=%{text}<extra></extra>",
         "legendgroup": "",
         "marker": {
          "color": [
           2021,
           2020,
           2022,
           2019,
           2015,
           2017,
           2016,
           2018,
           2007,
           2014,
           2010,
           2013,
           2009,
           2023,
           2008,
           2012,
           2011,
           2006,
           2001,
           2004,
           2005,
           2003,
           1999
          ],
          "coloraxis": "coloraxis",
          "pattern": {
           "shape": ""
          }
         },
         "name": "",
         "offsetgroup": "",
         "orientation": "v",
         "showlegend": false,
         "text": [
          64279,
          59026,
          52597,
          48236,
          44854,
          44520,
          43565,
          42941,
          40503,
          38042,
          35591,
          34160,
          33320,
          31593,
          30484,
          29368,
          28783,
          10876,
          6,
          6,
          3,
          1,
          1
         ],
         "textposition": "auto",
         "type": "bar",
         "x": [
          2021,
          2020,
          2022,
          2019,
          2015,
          2017,
          2016,
          2018,
          2007,
          2014,
          2010,
          2013,
          2009,
          2023,
          2008,
          2012,
          2011,
          2006,
          2001,
          2004,
          2005,
          2003,
          1999
         ],
         "xaxis": "x",
         "y": [
          64279,
          59026,
          52597,
          48236,
          44854,
          44520,
          43565,
          42941,
          40503,
          38042,
          35591,
          34160,
          33320,
          31593,
          30484,
          29368,
          28783,
          10876,
          6,
          6,
          3,
          1,
          1
         ],
         "yaxis": "y"
        }
       ],
       "layout": {
        "autosize": true,
        "barmode": "relative",
        "coloraxis": {
         "colorbar": {
          "title": {
           "text": "Year"
          }
         },
         "colorscale": [
          [
           0,
           "#0d0887"
          ],
          [
           0.1111111111111111,
           "#46039f"
          ],
          [
           0.2222222222222222,
           "#7201a8"
          ],
          [
           0.3333333333333333,
           "#9c179e"
          ],
          [
           0.4444444444444444,
           "#bd3786"
          ],
          [
           0.5555555555555556,
           "#d8576b"
          ],
          [
           0.6666666666666666,
           "#ed7953"
          ],
          [
           0.7777777777777778,
           "#fb9f3a"
          ],
          [
           0.8888888888888888,
           "#fdca26"
          ],
          [
           1,
           "#f0f921"
          ]
         ]
        },
        "legend": {
         "tracegroupgap": 0
        },
        "template": {
         "data": {
          "bar": [
           {
            "error_x": {
             "color": "#2a3f5f"
            },
            "error_y": {
             "color": "#2a3f5f"
            },
            "marker": {
             "line": {
              "color": "#E5ECF6",
              "width": 0.5
             },
             "pattern": {
              "fillmode": "overlay",
              "size": 10,
              "solidity": 0.2
             }
            },
            "type": "bar"
           }
          ],
          "barpolar": [
           {
            "marker": {
             "line": {
              "color": "#E5ECF6",
              "width": 0.5
             },
             "pattern": {
              "fillmode": "overlay",
              "size": 10,
              "solidity": 0.2
             }
            },
            "type": "barpolar"
           }
          ],
          "carpet": [
           {
            "aaxis": {
             "endlinecolor": "#2a3f5f",
             "gridcolor": "white",
             "linecolor": "white",
             "minorgridcolor": "white",
             "startlinecolor": "#2a3f5f"
            },
            "baxis": {
             "endlinecolor": "#2a3f5f",
             "gridcolor": "white",
             "linecolor": "white",
             "minorgridcolor": "white",
             "startlinecolor": "#2a3f5f"
            },
            "type": "carpet"
           }
          ],
          "choropleth": [
           {
            "colorbar": {
             "outlinewidth": 0,
             "ticks": ""
            },
            "type": "choropleth"
           }
          ],
          "contour": [
           {
            "colorbar": {
             "outlinewidth": 0,
             "ticks": ""
            },
            "colorscale": [
             [
              0,
              "#0d0887"
             ],
             [
              0.1111111111111111,
              "#46039f"
             ],
             [
              0.2222222222222222,
              "#7201a8"
             ],
             [
              0.3333333333333333,
              "#9c179e"
             ],
             [
              0.4444444444444444,
              "#bd3786"
             ],
             [
              0.5555555555555556,
              "#d8576b"
             ],
             [
              0.6666666666666666,
              "#ed7953"
             ],
             [
              0.7777777777777778,
              "#fb9f3a"
             ],
             [
              0.8888888888888888,
              "#fdca26"
             ],
             [
              1,
              "#f0f921"
             ]
            ],
            "type": "contour"
           }
          ],
          "contourcarpet": [
           {
            "colorbar": {
             "outlinewidth": 0,
             "ticks": ""
            },
            "type": "contourcarpet"
           }
          ],
          "heatmap": [
           {
            "colorbar": {
             "outlinewidth": 0,
             "ticks": ""
            },
            "colorscale": [
             [
              0,
              "#0d0887"
             ],
             [
              0.1111111111111111,
              "#46039f"
             ],
             [
              0.2222222222222222,
              "#7201a8"
             ],
             [
              0.3333333333333333,
              "#9c179e"
             ],
             [
              0.4444444444444444,
              "#bd3786"
             ],
             [
              0.5555555555555556,
              "#d8576b"
             ],
             [
              0.6666666666666666,
              "#ed7953"
             ],
             [
              0.7777777777777778,
              "#fb9f3a"
             ],
             [
              0.8888888888888888,
              "#fdca26"
             ],
             [
              1,
              "#f0f921"
             ]
            ],
            "type": "heatmap"
           }
          ],
          "heatmapgl": [
           {
            "colorbar": {
             "outlinewidth": 0,
             "ticks": ""
            },
            "colorscale": [
             [
              0,
              "#0d0887"
             ],
             [
              0.1111111111111111,
              "#46039f"
             ],
             [
              0.2222222222222222,
              "#7201a8"
             ],
             [
              0.3333333333333333,
              "#9c179e"
             ],
             [
              0.4444444444444444,
              "#bd3786"
             ],
             [
              0.5555555555555556,
              "#d8576b"
             ],
             [
              0.6666666666666666,
              "#ed7953"
             ],
             [
              0.7777777777777778,
              "#fb9f3a"
             ],
             [
              0.8888888888888888,
              "#fdca26"
             ],
             [
              1,
              "#f0f921"
             ]
            ],
            "type": "heatmapgl"
           }
          ],
          "histogram": [
           {
            "marker": {
             "pattern": {
              "fillmode": "overlay",
              "size": 10,
              "solidity": 0.2
             }
            },
            "type": "histogram"
           }
          ],
          "histogram2d": [
           {
            "colorbar": {
             "outlinewidth": 0,
             "ticks": ""
            },
            "colorscale": [
             [
              0,
              "#0d0887"
             ],
             [
              0.1111111111111111,
              "#46039f"
             ],
             [
              0.2222222222222222,
              "#7201a8"
             ],
             [
              0.3333333333333333,
              "#9c179e"
             ],
             [
              0.4444444444444444,
              "#bd3786"
             ],
             [
              0.5555555555555556,
              "#d8576b"
             ],
             [
              0.6666666666666666,
              "#ed7953"
             ],
             [
              0.7777777777777778,
              "#fb9f3a"
             ],
             [
              0.8888888888888888,
              "#fdca26"
             ],
             [
              1,
              "#f0f921"
             ]
            ],
            "type": "histogram2d"
           }
          ],
          "histogram2dcontour": [
           {
            "colorbar": {
             "outlinewidth": 0,
             "ticks": ""
            },
            "colorscale": [
             [
              0,
              "#0d0887"
             ],
             [
              0.1111111111111111,
              "#46039f"
             ],
             [
              0.2222222222222222,
              "#7201a8"
             ],
             [
              0.3333333333333333,
              "#9c179e"
             ],
             [
              0.4444444444444444,
              "#bd3786"
             ],
             [
              0.5555555555555556,
              "#d8576b"
             ],
             [
              0.6666666666666666,
              "#ed7953"
             ],
             [
              0.7777777777777778,
              "#fb9f3a"
             ],
             [
              0.8888888888888888,
              "#fdca26"
             ],
             [
              1,
              "#f0f921"
             ]
            ],
            "type": "histogram2dcontour"
           }
          ],
          "mesh3d": [
           {
            "colorbar": {
             "outlinewidth": 0,
             "ticks": ""
            },
            "type": "mesh3d"
           }
          ],
          "parcoords": [
           {
            "line": {
             "colorbar": {
              "outlinewidth": 0,
              "ticks": ""
             }
            },
            "type": "parcoords"
           }
          ],
          "pie": [
           {
            "automargin": true,
            "type": "pie"
           }
          ],
          "scatter": [
           {
            "fillpattern": {
             "fillmode": "overlay",
             "size": 10,
             "solidity": 0.2
            },
            "type": "scatter"
           }
          ],
          "scatter3d": [
           {
            "line": {
             "colorbar": {
              "outlinewidth": 0,
              "ticks": ""
             }
            },
            "marker": {
             "colorbar": {
              "outlinewidth": 0,
              "ticks": ""
             }
            },
            "type": "scatter3d"
           }
          ],
          "scattercarpet": [
           {
            "marker": {
             "colorbar": {
              "outlinewidth": 0,
              "ticks": ""
             }
            },
            "type": "scattercarpet"
           }
          ],
          "scattergeo": [
           {
            "marker": {
             "colorbar": {
              "outlinewidth": 0,
              "ticks": ""
             }
            },
            "type": "scattergeo"
           }
          ],
          "scattergl": [
           {
            "marker": {
             "colorbar": {
              "outlinewidth": 0,
              "ticks": ""
             }
            },
            "type": "scattergl"
           }
          ],
          "scattermapbox": [
           {
            "marker": {
             "colorbar": {
              "outlinewidth": 0,
              "ticks": ""
             }
            },
            "type": "scattermapbox"
           }
          ],
          "scatterpolar": [
           {
            "marker": {
             "colorbar": {
              "outlinewidth": 0,
              "ticks": ""
             }
            },
            "type": "scatterpolar"
           }
          ],
          "scatterpolargl": [
           {
            "marker": {
             "colorbar": {
              "outlinewidth": 0,
              "ticks": ""
             }
            },
            "type": "scatterpolargl"
           }
          ],
          "scatterternary": [
           {
            "marker": {
             "colorbar": {
              "outlinewidth": 0,
              "ticks": ""
             }
            },
            "type": "scatterternary"
           }
          ],
          "surface": [
           {
            "colorbar": {
             "outlinewidth": 0,
             "ticks": ""
            },
            "colorscale": [
             [
              0,
              "#0d0887"
             ],
             [
              0.1111111111111111,
              "#46039f"
             ],
             [
              0.2222222222222222,
              "#7201a8"
             ],
             [
              0.3333333333333333,
              "#9c179e"
             ],
             [
              0.4444444444444444,
              "#bd3786"
             ],
             [
              0.5555555555555556,
              "#d8576b"
             ],
             [
              0.6666666666666666,
              "#ed7953"
             ],
             [
              0.7777777777777778,
              "#fb9f3a"
             ],
             [
              0.8888888888888888,
              "#fdca26"
             ],
             [
              1,
              "#f0f921"
             ]
            ],
            "type": "surface"
           }
          ],
          "table": [
           {
            "cells": {
             "fill": {
              "color": "#EBF0F8"
             },
             "line": {
              "color": "white"
             }
            },
            "header": {
             "fill": {
              "color": "#C8D4E3"
             },
             "line": {
              "color": "white"
             }
            },
            "type": "table"
           }
          ]
         },
         "layout": {
          "annotationdefaults": {
           "arrowcolor": "#2a3f5f",
           "arrowhead": 0,
           "arrowwidth": 1
          },
          "autotypenumbers": "strict",
          "coloraxis": {
           "colorbar": {
            "outlinewidth": 0,
            "ticks": ""
           }
          },
          "colorscale": {
           "diverging": [
            [
             0,
             "#8e0152"
            ],
            [
             0.1,
             "#c51b7d"
            ],
            [
             0.2,
             "#de77ae"
            ],
            [
             0.3,
             "#f1b6da"
            ],
            [
             0.4,
             "#fde0ef"
            ],
            [
             0.5,
             "#f7f7f7"
            ],
            [
             0.6,
             "#e6f5d0"
            ],
            [
             0.7,
             "#b8e186"
            ],
            [
             0.8,
             "#7fbc41"
            ],
            [
             0.9,
             "#4d9221"
            ],
            [
             1,
             "#276419"
            ]
           ],
           "sequential": [
            [
             0,
             "#0d0887"
            ],
            [
             0.1111111111111111,
             "#46039f"
            ],
            [
             0.2222222222222222,
             "#7201a8"
            ],
            [
             0.3333333333333333,
             "#9c179e"
            ],
            [
             0.4444444444444444,
             "#bd3786"
            ],
            [
             0.5555555555555556,
             "#d8576b"
            ],
            [
             0.6666666666666666,
             "#ed7953"
            ],
            [
             0.7777777777777778,
             "#fb9f3a"
            ],
            [
             0.8888888888888888,
             "#fdca26"
            ],
            [
             1,
             "#f0f921"
            ]
           ],
           "sequentialminus": [
            [
             0,
             "#0d0887"
            ],
            [
             0.1111111111111111,
             "#46039f"
            ],
            [
             0.2222222222222222,
             "#7201a8"
            ],
            [
             0.3333333333333333,
             "#9c179e"
            ],
            [
             0.4444444444444444,
             "#bd3786"
            ],
            [
             0.5555555555555556,
             "#d8576b"
            ],
            [
             0.6666666666666666,
             "#ed7953"
            ],
            [
             0.7777777777777778,
             "#fb9f3a"
            ],
            [
             0.8888888888888888,
             "#fdca26"
            ],
            [
             1,
             "#f0f921"
            ]
           ]
          },
          "colorway": [
           "#636efa",
           "#EF553B",
           "#00cc96",
           "#ab63fa",
           "#FFA15A",
           "#19d3f3",
           "#FF6692",
           "#B6E880",
           "#FF97FF",
           "#FECB52"
          ],
          "font": {
           "color": "#2a3f5f"
          },
          "geo": {
           "bgcolor": "white",
           "lakecolor": "white",
           "landcolor": "#E5ECF6",
           "showlakes": true,
           "showland": true,
           "subunitcolor": "white"
          },
          "hoverlabel": {
           "align": "left"
          },
          "hovermode": "closest",
          "mapbox": {
           "style": "light"
          },
          "paper_bgcolor": "white",
          "plot_bgcolor": "#E5ECF6",
          "polar": {
           "angularaxis": {
            "gridcolor": "white",
            "linecolor": "white",
            "ticks": ""
           },
           "bgcolor": "#E5ECF6",
           "radialaxis": {
            "gridcolor": "white",
            "linecolor": "white",
            "ticks": ""
           }
          },
          "scene": {
           "xaxis": {
            "backgroundcolor": "#E5ECF6",
            "gridcolor": "white",
            "gridwidth": 2,
            "linecolor": "white",
            "showbackground": true,
            "ticks": "",
            "zerolinecolor": "white"
           },
           "yaxis": {
            "backgroundcolor": "#E5ECF6",
            "gridcolor": "white",
            "gridwidth": 2,
            "linecolor": "white",
            "showbackground": true,
            "ticks": "",
            "zerolinecolor": "white"
           },
           "zaxis": {
            "backgroundcolor": "#E5ECF6",
            "gridcolor": "white",
            "gridwidth": 2,
            "linecolor": "white",
            "showbackground": true,
            "ticks": "",
            "zerolinecolor": "white"
           }
          },
          "shapedefaults": {
           "line": {
            "color": "#2a3f5f"
           }
          },
          "ternary": {
           "aaxis": {
            "gridcolor": "white",
            "linecolor": "white",
            "ticks": ""
           },
           "baxis": {
            "gridcolor": "white",
            "linecolor": "white",
            "ticks": ""
           },
           "bgcolor": "#E5ECF6",
           "caxis": {
            "gridcolor": "white",
            "linecolor": "white",
            "ticks": ""
           }
          },
          "title": {
           "x": 0.05
          },
          "xaxis": {
           "automargin": true,
           "gridcolor": "white",
           "linecolor": "white",
           "ticks": "",
           "title": {
            "standoff": 15
           },
           "zerolinecolor": "white",
           "zerolinewidth": 2
          },
          "yaxis": {
           "automargin": true,
           "gridcolor": "white",
           "linecolor": "white",
           "ticks": "",
           "title": {
            "standoff": 15
           },
           "zerolinecolor": "white",
           "zerolinewidth": 2
          }
         }
        },
        "title": {
         "text": "Count of all Years"
        },
        "xaxis": {
         "anchor": "y",
         "autorange": true,
         "domain": [
          0,
          1
         ],
         "range": [
          1998.5,
          2023.5
         ],
         "title": {
          "text": "Year"
         },
         "type": "linear"
        },
        "yaxis": {
         "anchor": "x",
         "autorange": true,
         "domain": [
          0,
          1
         ],
         "range": [
          0,
          67662.1052631579
         ],
         "title": {
          "text": "Number of sold properties"
         },
         "type": "linear"
        }
       }
      },
      "text/html": [
       "<div>                            <div id=\"89f5775e-ee22-4910-8fc7-7afdf347545a\" class=\"plotly-graph-div\" style=\"height:525px; width:100%;\"></div>            <script type=\"text/javascript\">                require([\"plotly\"], function(Plotly) {                    window.PLOTLYENV=window.PLOTLYENV || {};                                    if (document.getElementById(\"89f5775e-ee22-4910-8fc7-7afdf347545a\")) {                    Plotly.newPlot(                        \"89f5775e-ee22-4910-8fc7-7afdf347545a\",                        [{\"alignmentgroup\":\"True\",\"hovertemplate\":\"Year=%{marker.color}\\u003cbr\\u003eNumber of sold properties=%{text}\\u003cextra\\u003e\\u003c\\u002fextra\\u003e\",\"legendgroup\":\"\",\"marker\":{\"color\":[2021,2020,2022,2019,2015,2017,2016,2018,2007,2014,2010,2013,2009,2023,2008,2012,2011,2006,2001,2004,2005,2003,1999],\"coloraxis\":\"coloraxis\",\"pattern\":{\"shape\":\"\"}},\"name\":\"\",\"offsetgroup\":\"\",\"orientation\":\"v\",\"showlegend\":false,\"text\":[64279.0,59026.0,52597.0,48236.0,44854.0,44520.0,43565.0,42941.0,40503.0,38042.0,35591.0,34160.0,33320.0,31593.0,30484.0,29368.0,28783.0,10876.0,6.0,6.0,3.0,1.0,1.0],\"textposition\":\"auto\",\"x\":[2021,2020,2022,2019,2015,2017,2016,2018,2007,2014,2010,2013,2009,2023,2008,2012,2011,2006,2001,2004,2005,2003,1999],\"xaxis\":\"x\",\"y\":[64279,59026,52597,48236,44854,44520,43565,42941,40503,38042,35591,34160,33320,31593,30484,29368,28783,10876,6,6,3,1,1],\"yaxis\":\"y\",\"type\":\"bar\"}],                        {\"template\":{\"data\":{\"histogram2dcontour\":[{\"type\":\"histogram2dcontour\",\"colorbar\":{\"outlinewidth\":0,\"ticks\":\"\"},\"colorscale\":[[0.0,\"#0d0887\"],[0.1111111111111111,\"#46039f\"],[0.2222222222222222,\"#7201a8\"],[0.3333333333333333,\"#9c179e\"],[0.4444444444444444,\"#bd3786\"],[0.5555555555555556,\"#d8576b\"],[0.6666666666666666,\"#ed7953\"],[0.7777777777777778,\"#fb9f3a\"],[0.8888888888888888,\"#fdca26\"],[1.0,\"#f0f921\"]]}],\"choropleth\":[{\"type\":\"choropleth\",\"colorbar\":{\"outlinewidth\":0,\"ticks\":\"\"}}],\"histogram2d\":[{\"type\":\"histogram2d\",\"colorbar\":{\"outlinewidth\":0,\"ticks\":\"\"},\"colorscale\":[[0.0,\"#0d0887\"],[0.1111111111111111,\"#46039f\"],[0.2222222222222222,\"#7201a8\"],[0.3333333333333333,\"#9c179e\"],[0.4444444444444444,\"#bd3786\"],[0.5555555555555556,\"#d8576b\"],[0.6666666666666666,\"#ed7953\"],[0.7777777777777778,\"#fb9f3a\"],[0.8888888888888888,\"#fdca26\"],[1.0,\"#f0f921\"]]}],\"heatmap\":[{\"type\":\"heatmap\",\"colorbar\":{\"outlinewidth\":0,\"ticks\":\"\"},\"colorscale\":[[0.0,\"#0d0887\"],[0.1111111111111111,\"#46039f\"],[0.2222222222222222,\"#7201a8\"],[0.3333333333333333,\"#9c179e\"],[0.4444444444444444,\"#bd3786\"],[0.5555555555555556,\"#d8576b\"],[0.6666666666666666,\"#ed7953\"],[0.7777777777777778,\"#fb9f3a\"],[0.8888888888888888,\"#fdca26\"],[1.0,\"#f0f921\"]]}],\"heatmapgl\":[{\"type\":\"heatmapgl\",\"colorbar\":{\"outlinewidth\":0,\"ticks\":\"\"},\"colorscale\":[[0.0,\"#0d0887\"],[0.1111111111111111,\"#46039f\"],[0.2222222222222222,\"#7201a8\"],[0.3333333333333333,\"#9c179e\"],[0.4444444444444444,\"#bd3786\"],[0.5555555555555556,\"#d8576b\"],[0.6666666666666666,\"#ed7953\"],[0.7777777777777778,\"#fb9f3a\"],[0.8888888888888888,\"#fdca26\"],[1.0,\"#f0f921\"]]}],\"contourcarpet\":[{\"type\":\"contourcarpet\",\"colorbar\":{\"outlinewidth\":0,\"ticks\":\"\"}}],\"contour\":[{\"type\":\"contour\",\"colorbar\":{\"outlinewidth\":0,\"ticks\":\"\"},\"colorscale\":[[0.0,\"#0d0887\"],[0.1111111111111111,\"#46039f\"],[0.2222222222222222,\"#7201a8\"],[0.3333333333333333,\"#9c179e\"],[0.4444444444444444,\"#bd3786\"],[0.5555555555555556,\"#d8576b\"],[0.6666666666666666,\"#ed7953\"],[0.7777777777777778,\"#fb9f3a\"],[0.8888888888888888,\"#fdca26\"],[1.0,\"#f0f921\"]]}],\"surface\":[{\"type\":\"surface\",\"colorbar\":{\"outlinewidth\":0,\"ticks\":\"\"},\"colorscale\":[[0.0,\"#0d0887\"],[0.1111111111111111,\"#46039f\"],[0.2222222222222222,\"#7201a8\"],[0.3333333333333333,\"#9c179e\"],[0.4444444444444444,\"#bd3786\"],[0.5555555555555556,\"#d8576b\"],[0.6666666666666666,\"#ed7953\"],[0.7777777777777778,\"#fb9f3a\"],[0.8888888888888888,\"#fdca26\"],[1.0,\"#f0f921\"]]}],\"mesh3d\":[{\"type\":\"mesh3d\",\"colorbar\":{\"outlinewidth\":0,\"ticks\":\"\"}}],\"scatter\":[{\"fillpattern\":{\"fillmode\":\"overlay\",\"size\":10,\"solidity\":0.2},\"type\":\"scatter\"}],\"parcoords\":[{\"type\":\"parcoords\",\"line\":{\"colorbar\":{\"outlinewidth\":0,\"ticks\":\"\"}}}],\"scatterpolargl\":[{\"type\":\"scatterpolargl\",\"marker\":{\"colorbar\":{\"outlinewidth\":0,\"ticks\":\"\"}}}],\"bar\":[{\"error_x\":{\"color\":\"#2a3f5f\"},\"error_y\":{\"color\":\"#2a3f5f\"},\"marker\":{\"line\":{\"color\":\"#E5ECF6\",\"width\":0.5},\"pattern\":{\"fillmode\":\"overlay\",\"size\":10,\"solidity\":0.2}},\"type\":\"bar\"}],\"scattergeo\":[{\"type\":\"scattergeo\",\"marker\":{\"colorbar\":{\"outlinewidth\":0,\"ticks\":\"\"}}}],\"scatterpolar\":[{\"type\":\"scatterpolar\",\"marker\":{\"colorbar\":{\"outlinewidth\":0,\"ticks\":\"\"}}}],\"histogram\":[{\"marker\":{\"pattern\":{\"fillmode\":\"overlay\",\"size\":10,\"solidity\":0.2}},\"type\":\"histogram\"}],\"scattergl\":[{\"type\":\"scattergl\",\"marker\":{\"colorbar\":{\"outlinewidth\":0,\"ticks\":\"\"}}}],\"scatter3d\":[{\"type\":\"scatter3d\",\"line\":{\"colorbar\":{\"outlinewidth\":0,\"ticks\":\"\"}},\"marker\":{\"colorbar\":{\"outlinewidth\":0,\"ticks\":\"\"}}}],\"scattermapbox\":[{\"type\":\"scattermapbox\",\"marker\":{\"colorbar\":{\"outlinewidth\":0,\"ticks\":\"\"}}}],\"scatterternary\":[{\"type\":\"scatterternary\",\"marker\":{\"colorbar\":{\"outlinewidth\":0,\"ticks\":\"\"}}}],\"scattercarpet\":[{\"type\":\"scattercarpet\",\"marker\":{\"colorbar\":{\"outlinewidth\":0,\"ticks\":\"\"}}}],\"carpet\":[{\"aaxis\":{\"endlinecolor\":\"#2a3f5f\",\"gridcolor\":\"white\",\"linecolor\":\"white\",\"minorgridcolor\":\"white\",\"startlinecolor\":\"#2a3f5f\"},\"baxis\":{\"endlinecolor\":\"#2a3f5f\",\"gridcolor\":\"white\",\"linecolor\":\"white\",\"minorgridcolor\":\"white\",\"startlinecolor\":\"#2a3f5f\"},\"type\":\"carpet\"}],\"table\":[{\"cells\":{\"fill\":{\"color\":\"#EBF0F8\"},\"line\":{\"color\":\"white\"}},\"header\":{\"fill\":{\"color\":\"#C8D4E3\"},\"line\":{\"color\":\"white\"}},\"type\":\"table\"}],\"barpolar\":[{\"marker\":{\"line\":{\"color\":\"#E5ECF6\",\"width\":0.5},\"pattern\":{\"fillmode\":\"overlay\",\"size\":10,\"solidity\":0.2}},\"type\":\"barpolar\"}],\"pie\":[{\"automargin\":true,\"type\":\"pie\"}]},\"layout\":{\"autotypenumbers\":\"strict\",\"colorway\":[\"#636efa\",\"#EF553B\",\"#00cc96\",\"#ab63fa\",\"#FFA15A\",\"#19d3f3\",\"#FF6692\",\"#B6E880\",\"#FF97FF\",\"#FECB52\"],\"font\":{\"color\":\"#2a3f5f\"},\"hovermode\":\"closest\",\"hoverlabel\":{\"align\":\"left\"},\"paper_bgcolor\":\"white\",\"plot_bgcolor\":\"#E5ECF6\",\"polar\":{\"bgcolor\":\"#E5ECF6\",\"angularaxis\":{\"gridcolor\":\"white\",\"linecolor\":\"white\",\"ticks\":\"\"},\"radialaxis\":{\"gridcolor\":\"white\",\"linecolor\":\"white\",\"ticks\":\"\"}},\"ternary\":{\"bgcolor\":\"#E5ECF6\",\"aaxis\":{\"gridcolor\":\"white\",\"linecolor\":\"white\",\"ticks\":\"\"},\"baxis\":{\"gridcolor\":\"white\",\"linecolor\":\"white\",\"ticks\":\"\"},\"caxis\":{\"gridcolor\":\"white\",\"linecolor\":\"white\",\"ticks\":\"\"}},\"coloraxis\":{\"colorbar\":{\"outlinewidth\":0,\"ticks\":\"\"}},\"colorscale\":{\"sequential\":[[0.0,\"#0d0887\"],[0.1111111111111111,\"#46039f\"],[0.2222222222222222,\"#7201a8\"],[0.3333333333333333,\"#9c179e\"],[0.4444444444444444,\"#bd3786\"],[0.5555555555555556,\"#d8576b\"],[0.6666666666666666,\"#ed7953\"],[0.7777777777777778,\"#fb9f3a\"],[0.8888888888888888,\"#fdca26\"],[1.0,\"#f0f921\"]],\"sequentialminus\":[[0.0,\"#0d0887\"],[0.1111111111111111,\"#46039f\"],[0.2222222222222222,\"#7201a8\"],[0.3333333333333333,\"#9c179e\"],[0.4444444444444444,\"#bd3786\"],[0.5555555555555556,\"#d8576b\"],[0.6666666666666666,\"#ed7953\"],[0.7777777777777778,\"#fb9f3a\"],[0.8888888888888888,\"#fdca26\"],[1.0,\"#f0f921\"]],\"diverging\":[[0,\"#8e0152\"],[0.1,\"#c51b7d\"],[0.2,\"#de77ae\"],[0.3,\"#f1b6da\"],[0.4,\"#fde0ef\"],[0.5,\"#f7f7f7\"],[0.6,\"#e6f5d0\"],[0.7,\"#b8e186\"],[0.8,\"#7fbc41\"],[0.9,\"#4d9221\"],[1,\"#276419\"]]},\"xaxis\":{\"gridcolor\":\"white\",\"linecolor\":\"white\",\"ticks\":\"\",\"title\":{\"standoff\":15},\"zerolinecolor\":\"white\",\"automargin\":true,\"zerolinewidth\":2},\"yaxis\":{\"gridcolor\":\"white\",\"linecolor\":\"white\",\"ticks\":\"\",\"title\":{\"standoff\":15},\"zerolinecolor\":\"white\",\"automargin\":true,\"zerolinewidth\":2},\"scene\":{\"xaxis\":{\"backgroundcolor\":\"#E5ECF6\",\"gridcolor\":\"white\",\"linecolor\":\"white\",\"showbackground\":true,\"ticks\":\"\",\"zerolinecolor\":\"white\",\"gridwidth\":2},\"yaxis\":{\"backgroundcolor\":\"#E5ECF6\",\"gridcolor\":\"white\",\"linecolor\":\"white\",\"showbackground\":true,\"ticks\":\"\",\"zerolinecolor\":\"white\",\"gridwidth\":2},\"zaxis\":{\"backgroundcolor\":\"#E5ECF6\",\"gridcolor\":\"white\",\"linecolor\":\"white\",\"showbackground\":true,\"ticks\":\"\",\"zerolinecolor\":\"white\",\"gridwidth\":2}},\"shapedefaults\":{\"line\":{\"color\":\"#2a3f5f\"}},\"annotationdefaults\":{\"arrowcolor\":\"#2a3f5f\",\"arrowhead\":0,\"arrowwidth\":1},\"geo\":{\"bgcolor\":\"white\",\"landcolor\":\"#E5ECF6\",\"subunitcolor\":\"white\",\"showland\":true,\"showlakes\":true,\"lakecolor\":\"white\"},\"title\":{\"x\":0.05},\"mapbox\":{\"style\":\"light\"}}},\"xaxis\":{\"anchor\":\"y\",\"domain\":[0.0,1.0],\"title\":{\"text\":\"Year\"}},\"yaxis\":{\"anchor\":\"x\",\"domain\":[0.0,1.0],\"title\":{\"text\":\"Number of sold properties\"}},\"coloraxis\":{\"colorbar\":{\"title\":{\"text\":\"Year\"}},\"colorscale\":[[0.0,\"#0d0887\"],[0.1111111111111111,\"#46039f\"],[0.2222222222222222,\"#7201a8\"],[0.3333333333333333,\"#9c179e\"],[0.4444444444444444,\"#bd3786\"],[0.5555555555555556,\"#d8576b\"],[0.6666666666666666,\"#ed7953\"],[0.7777777777777778,\"#fb9f3a\"],[0.8888888888888888,\"#fdca26\"],[1.0,\"#f0f921\"]]},\"legend\":{\"tracegroupgap\":0},\"title\":{\"text\":\"Count of all Years\"},\"barmode\":\"relative\"},                        {\"responsive\": true}                    ).then(function(){\n",
       "                            \n",
       "var gd = document.getElementById('89f5775e-ee22-4910-8fc7-7afdf347545a');\n",
       "var x = new MutationObserver(function (mutations, observer) {{\n",
       "        var display = window.getComputedStyle(gd).display;\n",
       "        if (!display || display === 'none') {{\n",
       "            console.log([gd, 'removed!']);\n",
       "            Plotly.purge(gd);\n",
       "            observer.disconnect();\n",
       "        }}\n",
       "}});\n",
       "\n",
       "// Listen for the removal of the full notebook cells\n",
       "var notebookContainer = gd.closest('#notebook-container');\n",
       "if (notebookContainer) {{\n",
       "    x.observe(notebookContainer, {childList: true});\n",
       "}}\n",
       "\n",
       "// Listen for the clearing of the current output cell\n",
       "var outputEl = gd.closest('.output');\n",
       "if (outputEl) {{\n",
       "    x.observe(outputEl, {childList: true});\n",
       "}}\n",
       "\n",
       "                        })                };                });            </script>        </div>"
      ]
     },
     "metadata": {},
     "output_type": "display_data"
    }
   ],
   "source": [
    "import plotly.express as px\n",
    "fig = px.bar(\n",
    "    number_properties_sold_per_year,\n",
    "    x='Sales Year',\n",
    "    y='count',\n",
    "    text='count',  # Display count on bars\n",
    "    title='Count of all Years',\n",
    "    labels={'Sales Year': 'Year', 'count': 'Number of sold properties'},\n",
    "    color='Sales Year',  # Color bars by country\n",
    "    color_discrete_sequence=px.colors.qualitative.Set2,  # Distinct colors\n",
    "    hover_data={'Sales Year': True, 'count': True}  # Show country and count on hover\n",
    ")\n",
    "fig.show()"
   ]
  },
  {
   "cell_type": "markdown",
   "id": "49f8e4f8-3ecf-4273-99b8-0869ccac1dbf",
   "metadata": {},
   "source": [
    "# What is the average sale price of properties in each town?"
   ]
  },
  {
   "cell_type": "code",
   "execution_count": 211,
   "id": "34c3a357-b78a-491c-b416-05991d055b8f",
   "metadata": {},
   "outputs": [
    {
     "data": {
      "text/html": [
       "<div>\n",
       "<style scoped>\n",
       "    .dataframe tbody tr th:only-of-type {\n",
       "        vertical-align: middle;\n",
       "    }\n",
       "\n",
       "    .dataframe tbody tr th {\n",
       "        vertical-align: top;\n",
       "    }\n",
       "\n",
       "    .dataframe thead th {\n",
       "        text-align: right;\n",
       "    }\n",
       "</style>\n",
       "<table border=\"1\" class=\"dataframe\">\n",
       "  <thead>\n",
       "    <tr style=\"text-align: right;\">\n",
       "      <th></th>\n",
       "      <th>City</th>\n",
       "      <th>Sale Amount</th>\n",
       "    </tr>\n",
       "  </thead>\n",
       "  <tbody>\n",
       "    <tr>\n",
       "      <th>159</th>\n",
       "      <td>Willington</td>\n",
       "      <td>6.520148e+06</td>\n",
       "    </tr>\n",
       "    <tr>\n",
       "      <th>56</th>\n",
       "      <td>Greenwich</td>\n",
       "      <td>2.138700e+06</td>\n",
       "    </tr>\n",
       "    <tr>\n",
       "      <th>34</th>\n",
       "      <td>Darien</td>\n",
       "      <td>1.691203e+06</td>\n",
       "    </tr>\n",
       "    <tr>\n",
       "      <th>89</th>\n",
       "      <td>New Canaan</td>\n",
       "      <td>1.573673e+06</td>\n",
       "    </tr>\n",
       "    <tr>\n",
       "      <th>157</th>\n",
       "      <td>Westport</td>\n",
       "      <td>1.518927e+06</td>\n",
       "    </tr>\n",
       "    <tr>\n",
       "      <th>...</th>\n",
       "      <td>...</td>\n",
       "      <td>...</td>\n",
       "    </tr>\n",
       "    <tr>\n",
       "      <th>88</th>\n",
       "      <td>New Britain</td>\n",
       "      <td>1.652495e+05</td>\n",
       "    </tr>\n",
       "    <tr>\n",
       "      <th>41</th>\n",
       "      <td>East Hartford</td>\n",
       "      <td>1.632457e+05</td>\n",
       "    </tr>\n",
       "    <tr>\n",
       "      <th>162</th>\n",
       "      <td>Windham</td>\n",
       "      <td>1.620809e+05</td>\n",
       "    </tr>\n",
       "    <tr>\n",
       "      <th>142</th>\n",
       "      <td>Torrington</td>\n",
       "      <td>1.591750e+05</td>\n",
       "    </tr>\n",
       "    <tr>\n",
       "      <th>150</th>\n",
       "      <td>Waterbury</td>\n",
       "      <td>1.478367e+05</td>\n",
       "    </tr>\n",
       "  </tbody>\n",
       "</table>\n",
       "<p>169 rows × 2 columns</p>\n",
       "</div>"
      ],
      "text/plain": [
       "              City   Sale Amount\n",
       "159     Willington  6.520148e+06\n",
       "56       Greenwich  2.138700e+06\n",
       "34          Darien  1.691203e+06\n",
       "89      New Canaan  1.573673e+06\n",
       "157       Westport  1.518927e+06\n",
       "..             ...           ...\n",
       "88     New Britain  1.652495e+05\n",
       "41   East Hartford  1.632457e+05\n",
       "162        Windham  1.620809e+05\n",
       "142     Torrington  1.591750e+05\n",
       "150      Waterbury  1.478367e+05\n",
       "\n",
       "[169 rows x 2 columns]"
      ]
     },
     "execution_count": 211,
     "metadata": {},
     "output_type": "execute_result"
    }
   ],
   "source": [
    "average_sale_price = real_estate_df.groupby('City')['Sale Amount'].mean().reset_index().sort_values(by='Sale Amount', ascending = False)\n",
    "average_sale_price"
   ]
  },
  {
   "cell_type": "code",
   "execution_count": 212,
   "id": "074665c1-0657-487a-96dd-07a7f1f2c47b",
   "metadata": {},
   "outputs": [
    {
     "data": {
      "text/plain": [
       "<Axes: xlabel='City'>"
      ]
     },
     "execution_count": 212,
     "metadata": {},
     "output_type": "execute_result"
    },
    {
     "data": {
      "image/png": "[encoded data removed]",
      "text/plain": [
       "<Figure size 640x480 with 1 Axes>"
      ]
     },
     "metadata": {},
     "output_type": "display_data"
    }
   ],
   "source": [
    "average_sale_price.head(30).plot('City', kind='bar')"
   ]
  },
  {
   "cell_type": "markdown",
   "id": "6ca0aaee-0647-451f-8bf7-1e176db0ecf3",
   "metadata": {},
   "source": [
    "# How have property sale prices changed over the years?"
   ]
  },
  {
   "cell_type": "code",
   "execution_count": 214,
   "id": "31476311-8393-4996-ab74-d57f6d108cc9",
   "metadata": {},
   "outputs": [
    {
     "data": {
      "image/png": "[encoded data removed]",
      "text/plain": [
       "<Figure size 640x480 with 1 Axes>"
      ]
     },
     "metadata": {},
     "output_type": "display_data"
    }
   ],
   "source": [
    "sale_price_trend = real_estate_df.groupby('Sales Year')['Sale Amount'].mean()\n",
    "sale_price_trend.plot(x='List Year', y='Sale Amount', kind='line');"
   ]
  },
  {
   "cell_type": "code",
   "execution_count": 215,
   "id": "fd7593ff-6586-42ee-999a-7a41dbf988d5",
   "metadata": {},
   "outputs": [
    {
     "data": {
      "image/png": "[encoded data removed]",
      "text/plain": [
       "<Figure size 640x480 with 1 Axes>"
      ]
     },
     "metadata": {},
     "output_type": "display_data"
    }
   ],
   "source": [
    "sale_price_trend.loc[2018:].plot(x='Sales Year', y='Sale Amount', kind='line');"
   ]
  },
  {
   "cell_type": "code",
   "execution_count": 216,
   "id": "4cf9e227-ca77-40b2-843c-b8a01dfc80aa",
   "metadata": {},
   "outputs": [
    {
     "data": {
      "image/png": "[encoded data removed]",
      "text/plain": [
       "<Figure size 640x480 with 1 Axes>"
      ]
     },
     "metadata": {},
     "output_type": "display_data"
    }
   ],
   "source": [
    "real_estate_df_2018_2022 = real_estate_df[(real_estate_df['Sales Year'] >= 2018) & (real_estate_df['Sales Year'] <= 2022)] #.value_counts().reset_index()\n",
    "real_estate_df_2018_2022 = real_estate_df_2018_2022.groupby('Sales Year')['Sale Amount'].mean().reset_index()\n",
    "real_estate_df_2018_2022['Sales Year'] = real_estate_df_2018_2022['Sales Year'].astype(int)\n",
    "real_estate_df_2018_2022.plot(x='Sales Year', y='Sale Amount', kind='line');\n",
    "\n",
    "# remove this zaheer bhai. this is additional"
   ]
  },
  {
   "cell_type": "code",
   "execution_count": 217,
   "id": "2051a364-533e-4056-96de-5311be6bf54a",
   "metadata": {},
   "outputs": [
    {
     "data": {
      "text/html": [
       "<div>\n",
       "<style scoped>\n",
       "    .dataframe tbody tr th:only-of-type {\n",
       "        vertical-align: middle;\n",
       "    }\n",
       "\n",
       "    .dataframe tbody tr th {\n",
       "        vertical-align: top;\n",
       "    }\n",
       "\n",
       "    .dataframe thead th {\n",
       "        text-align: right;\n",
       "    }\n",
       "</style>\n",
       "<table border=\"1\" class=\"dataframe\">\n",
       "  <thead>\n",
       "    <tr style=\"text-align: right;\">\n",
       "      <th></th>\n",
       "      <th>Sales Year</th>\n",
       "      <th>Sale Amount</th>\n",
       "    </tr>\n",
       "  </thead>\n",
       "  <tbody>\n",
       "    <tr>\n",
       "      <th>0</th>\n",
       "      <td>2018</td>\n",
       "      <td>336530.429680</td>\n",
       "    </tr>\n",
       "    <tr>\n",
       "      <th>1</th>\n",
       "      <td>2019</td>\n",
       "      <td>322120.878283</td>\n",
       "    </tr>\n",
       "    <tr>\n",
       "      <th>2</th>\n",
       "      <td>2020</td>\n",
       "      <td>417105.627249</td>\n",
       "    </tr>\n",
       "    <tr>\n",
       "      <th>3</th>\n",
       "      <td>2021</td>\n",
       "      <td>625340.495586</td>\n",
       "    </tr>\n",
       "    <tr>\n",
       "      <th>4</th>\n",
       "      <td>2022</td>\n",
       "      <td>542801.569261</td>\n",
       "    </tr>\n",
       "  </tbody>\n",
       "</table>\n",
       "</div>"
      ],
      "text/plain": [
       "   Sales Year    Sale Amount\n",
       "0        2018  336530.429680\n",
       "1        2019  322120.878283\n",
       "2        2020  417105.627249\n",
       "3        2021  625340.495586\n",
       "4        2022  542801.569261"
      ]
     },
     "execution_count": 217,
     "metadata": {},
     "output_type": "execute_result"
    }
   ],
   "source": [
    "real_estate_df_2018_2022"
   ]
  },
  {
   "cell_type": "markdown",
   "id": "f3a432d2-aec4-4491-86f0-a8cefd3d505c",
   "metadata": {},
   "source": [
    "# Which towns have the highest and lowest sale prices?"
   ]
  },
  {
   "cell_type": "code",
   "execution_count": 219,
   "id": "82eb6304-c5c6-474c-ad21-fa2f97e37de6",
   "metadata": {},
   "outputs": [
    {
     "data": {
      "text/html": [
       "<div>\n",
       "<style scoped>\n",
       "    .dataframe tbody tr th:only-of-type {\n",
       "        vertical-align: middle;\n",
       "    }\n",
       "\n",
       "    .dataframe tbody tr th {\n",
       "        vertical-align: top;\n",
       "    }\n",
       "\n",
       "    .dataframe thead th {\n",
       "        text-align: right;\n",
       "    }\n",
       "</style>\n",
       "<table border=\"1\" class=\"dataframe\">\n",
       "  <thead>\n",
       "    <tr style=\"text-align: right;\">\n",
       "      <th></th>\n",
       "      <th>City</th>\n",
       "      <th>Sale Amount</th>\n",
       "    </tr>\n",
       "  </thead>\n",
       "  <tbody>\n",
       "    <tr>\n",
       "      <th>150</th>\n",
       "      <td>Waterbury</td>\n",
       "      <td>147836.735899</td>\n",
       "    </tr>\n",
       "    <tr>\n",
       "      <th>142</th>\n",
       "      <td>Torrington</td>\n",
       "      <td>159174.960235</td>\n",
       "    </tr>\n",
       "    <tr>\n",
       "      <th>162</th>\n",
       "      <td>Windham</td>\n",
       "      <td>162080.927110</td>\n",
       "    </tr>\n",
       "    <tr>\n",
       "      <th>41</th>\n",
       "      <td>East Hartford</td>\n",
       "      <td>163245.708276</td>\n",
       "    </tr>\n",
       "    <tr>\n",
       "      <th>88</th>\n",
       "      <td>New Britain</td>\n",
       "      <td>165249.468219</td>\n",
       "    </tr>\n",
       "  </tbody>\n",
       "</table>\n",
       "</div>"
      ],
      "text/plain": [
       "              City    Sale Amount\n",
       "150      Waterbury  147836.735899\n",
       "142     Torrington  159174.960235\n",
       "162        Windham  162080.927110\n",
       "41   East Hartford  163245.708276\n",
       "88     New Britain  165249.468219"
      ]
     },
     "execution_count": 219,
     "metadata": {},
     "output_type": "execute_result"
    }
   ],
   "source": [
    "sale_price_comparison_town = real_estate_df.groupby('City')['Sale Amount'].mean().reset_index().sort_values(by='Sale Amount', ascending=True)\n",
    "sale_price_comparison_town.head()"
   ]
  },
  {
   "cell_type": "code",
   "execution_count": 220,
   "id": "e5e0fc77-e1fe-4800-afba-6664f93a6e4d",
   "metadata": {},
   "outputs": [
    {
     "data": {
      "text/html": [
       "<div>\n",
       "<style scoped>\n",
       "    .dataframe tbody tr th:only-of-type {\n",
       "        vertical-align: middle;\n",
       "    }\n",
       "\n",
       "    .dataframe tbody tr th {\n",
       "        vertical-align: top;\n",
       "    }\n",
       "\n",
       "    .dataframe thead th {\n",
       "        text-align: right;\n",
       "    }\n",
       "</style>\n",
       "<table border=\"1\" class=\"dataframe\">\n",
       "  <thead>\n",
       "    <tr style=\"text-align: right;\">\n",
       "      <th></th>\n",
       "      <th>City</th>\n",
       "      <th>Sale Amount</th>\n",
       "    </tr>\n",
       "  </thead>\n",
       "  <tbody>\n",
       "    <tr>\n",
       "      <th>157</th>\n",
       "      <td>Westport</td>\n",
       "      <td>1.518927e+06</td>\n",
       "    </tr>\n",
       "    <tr>\n",
       "      <th>89</th>\n",
       "      <td>New Canaan</td>\n",
       "      <td>1.573673e+06</td>\n",
       "    </tr>\n",
       "    <tr>\n",
       "      <th>34</th>\n",
       "      <td>Darien</td>\n",
       "      <td>1.691203e+06</td>\n",
       "    </tr>\n",
       "    <tr>\n",
       "      <th>56</th>\n",
       "      <td>Greenwich</td>\n",
       "      <td>2.138700e+06</td>\n",
       "    </tr>\n",
       "    <tr>\n",
       "      <th>159</th>\n",
       "      <td>Willington</td>\n",
       "      <td>6.520148e+06</td>\n",
       "    </tr>\n",
       "  </tbody>\n",
       "</table>\n",
       "</div>"
      ],
      "text/plain": [
       "           City   Sale Amount\n",
       "157    Westport  1.518927e+06\n",
       "89   New Canaan  1.573673e+06\n",
       "34       Darien  1.691203e+06\n",
       "56    Greenwich  2.138700e+06\n",
       "159  Willington  6.520148e+06"
      ]
     },
     "execution_count": 220,
     "metadata": {},
     "output_type": "execute_result"
    }
   ],
   "source": [
    "sale_price_comparison_town.tail()"
   ]
  },
  {
   "cell_type": "markdown",
   "id": "d56bf82d-f67a-44d9-9f8e-61d6ccf98191",
   "metadata": {},
   "source": [
    "# Do sale prices match the assessed property values?"
   ]
  },
  {
   "cell_type": "code",
   "execution_count": 222,
   "id": "1aeb1689-f4af-40e5-8a13-7098988d96eb",
   "metadata": {},
   "outputs": [
    {
     "data": {
      "text/html": [
       "<div>\n",
       "<style scoped>\n",
       "    .dataframe tbody tr th:only-of-type {\n",
       "        vertical-align: middle;\n",
       "    }\n",
       "\n",
       "    .dataframe tbody tr th {\n",
       "        vertical-align: top;\n",
       "    }\n",
       "\n",
       "    .dataframe thead th {\n",
       "        text-align: right;\n",
       "    }\n",
       "</style>\n",
       "<table border=\"1\" class=\"dataframe\">\n",
       "  <thead>\n",
       "    <tr style=\"text-align: right;\">\n",
       "      <th></th>\n",
       "      <th>List Year</th>\n",
       "      <th>Sales Date</th>\n",
       "      <th>City</th>\n",
       "      <th>Assessed Value</th>\n",
       "      <th>Sale Amount</th>\n",
       "      <th>Sales Ratio</th>\n",
       "      <th>Property Type</th>\n",
       "      <th>Sales Year</th>\n",
       "    </tr>\n",
       "  </thead>\n",
       "  <tbody>\n",
       "    <tr>\n",
       "      <th>0</th>\n",
       "      <td>2020</td>\n",
       "      <td>2021-04-14</td>\n",
       "      <td>Ansonia</td>\n",
       "      <td>133000.0</td>\n",
       "      <td>248400.0</td>\n",
       "      <td>0.5354</td>\n",
       "      <td>Single Family</td>\n",
       "      <td>2021</td>\n",
       "    </tr>\n",
       "    <tr>\n",
       "      <th>1</th>\n",
       "      <td>2020</td>\n",
       "      <td>2021-05-26</td>\n",
       "      <td>Ansonia</td>\n",
       "      <td>110500.0</td>\n",
       "      <td>239900.0</td>\n",
       "      <td>0.4606</td>\n",
       "      <td>Three Family</td>\n",
       "      <td>2021</td>\n",
       "    </tr>\n",
       "    <tr>\n",
       "      <th>2</th>\n",
       "      <td>2020</td>\n",
       "      <td>2021-09-13</td>\n",
       "      <td>Ansonia</td>\n",
       "      <td>150500.0</td>\n",
       "      <td>325000.0</td>\n",
       "      <td>0.4630</td>\n",
       "      <td>Commercial</td>\n",
       "      <td>2021</td>\n",
       "    </tr>\n",
       "    <tr>\n",
       "      <th>3</th>\n",
       "      <td>2020</td>\n",
       "      <td>2020-12-14</td>\n",
       "      <td>Ansonia</td>\n",
       "      <td>127400.0</td>\n",
       "      <td>202500.0</td>\n",
       "      <td>0.6291</td>\n",
       "      <td>Two Family</td>\n",
       "      <td>2020</td>\n",
       "    </tr>\n",
       "    <tr>\n",
       "      <th>4</th>\n",
       "      <td>2020</td>\n",
       "      <td>2021-09-07</td>\n",
       "      <td>Avon</td>\n",
       "      <td>217640.0</td>\n",
       "      <td>400000.0</td>\n",
       "      <td>0.5441</td>\n",
       "      <td>Single Family</td>\n",
       "      <td>2021</td>\n",
       "    </tr>\n",
       "  </tbody>\n",
       "</table>\n",
       "</div>"
      ],
      "text/plain": [
       "   List Year Sales Date     City  Assessed Value  Sale Amount  Sales Ratio  \\\n",
       "0       2020 2021-04-14  Ansonia        133000.0     248400.0       0.5354   \n",
       "1       2020 2021-05-26  Ansonia        110500.0     239900.0       0.4606   \n",
       "2       2020 2021-09-13  Ansonia        150500.0     325000.0       0.4630   \n",
       "3       2020 2020-12-14  Ansonia        127400.0     202500.0       0.6291   \n",
       "4       2020 2021-09-07     Avon        217640.0     400000.0       0.5441   \n",
       "\n",
       "   Property Type  Sales Year  \n",
       "0  Single Family        2021  \n",
       "1   Three Family        2021  \n",
       "2     Commercial        2021  \n",
       "3     Two Family        2020  \n",
       "4  Single Family        2021  "
      ]
     },
     "execution_count": 222,
     "metadata": {},
     "output_type": "execute_result"
    }
   ],
   "source": [
    "real_estate_df.head()"
   ]
  },
  {
   "cell_type": "code",
   "execution_count": 223,
   "id": "3a07ee4d-e9e1-4298-9c82-692d1e0d87e6",
   "metadata": {},
   "outputs": [
    {
     "data": {
      "text/html": [
       "<div>\n",
       "<style scoped>\n",
       "    .dataframe tbody tr th:only-of-type {\n",
       "        vertical-align: middle;\n",
       "    }\n",
       "\n",
       "    .dataframe tbody tr th {\n",
       "        vertical-align: top;\n",
       "    }\n",
       "\n",
       "    .dataframe thead th {\n",
       "        text-align: right;\n",
       "    }\n",
       "</style>\n",
       "<table border=\"1\" class=\"dataframe\">\n",
       "  <thead>\n",
       "    <tr style=\"text-align: right;\">\n",
       "      <th></th>\n",
       "      <th>List Year</th>\n",
       "      <th>Sales Date</th>\n",
       "      <th>City</th>\n",
       "      <th>Assessed Value</th>\n",
       "      <th>Sale Amount</th>\n",
       "      <th>Sales Ratio</th>\n",
       "      <th>Property Type</th>\n",
       "      <th>Sales Year</th>\n",
       "      <th>difference_value</th>\n",
       "    </tr>\n",
       "  </thead>\n",
       "  <tbody>\n",
       "    <tr>\n",
       "      <th>0</th>\n",
       "      <td>2020</td>\n",
       "      <td>2021-04-14</td>\n",
       "      <td>Ansonia</td>\n",
       "      <td>133000.0</td>\n",
       "      <td>248400.0</td>\n",
       "      <td>0.5354</td>\n",
       "      <td>Single Family</td>\n",
       "      <td>2021</td>\n",
       "      <td>115400.0</td>\n",
       "    </tr>\n",
       "    <tr>\n",
       "      <th>1</th>\n",
       "      <td>2020</td>\n",
       "      <td>2021-05-26</td>\n",
       "      <td>Ansonia</td>\n",
       "      <td>110500.0</td>\n",
       "      <td>239900.0</td>\n",
       "      <td>0.4606</td>\n",
       "      <td>Three Family</td>\n",
       "      <td>2021</td>\n",
       "      <td>129400.0</td>\n",
       "    </tr>\n",
       "    <tr>\n",
       "      <th>2</th>\n",
       "      <td>2020</td>\n",
       "      <td>2021-09-13</td>\n",
       "      <td>Ansonia</td>\n",
       "      <td>150500.0</td>\n",
       "      <td>325000.0</td>\n",
       "      <td>0.4630</td>\n",
       "      <td>Commercial</td>\n",
       "      <td>2021</td>\n",
       "      <td>174500.0</td>\n",
       "    </tr>\n",
       "    <tr>\n",
       "      <th>3</th>\n",
       "      <td>2020</td>\n",
       "      <td>2020-12-14</td>\n",
       "      <td>Ansonia</td>\n",
       "      <td>127400.0</td>\n",
       "      <td>202500.0</td>\n",
       "      <td>0.6291</td>\n",
       "      <td>Two Family</td>\n",
       "      <td>2020</td>\n",
       "      <td>75100.0</td>\n",
       "    </tr>\n",
       "    <tr>\n",
       "      <th>4</th>\n",
       "      <td>2020</td>\n",
       "      <td>2021-09-07</td>\n",
       "      <td>Avon</td>\n",
       "      <td>217640.0</td>\n",
       "      <td>400000.0</td>\n",
       "      <td>0.5441</td>\n",
       "      <td>Single Family</td>\n",
       "      <td>2021</td>\n",
       "      <td>182360.0</td>\n",
       "    </tr>\n",
       "    <tr>\n",
       "      <th>...</th>\n",
       "      <td>...</td>\n",
       "      <td>...</td>\n",
       "      <td>...</td>\n",
       "      <td>...</td>\n",
       "      <td>...</td>\n",
       "      <td>...</td>\n",
       "      <td>...</td>\n",
       "      <td>...</td>\n",
       "      <td>...</td>\n",
       "    </tr>\n",
       "    <tr>\n",
       "      <th>712750</th>\n",
       "      <td>2022</td>\n",
       "      <td>2022-10-11</td>\n",
       "      <td>Stamford</td>\n",
       "      <td>483380.0</td>\n",
       "      <td>865000.0</td>\n",
       "      <td>0.5588</td>\n",
       "      <td>Single Family</td>\n",
       "      <td>2022</td>\n",
       "      <td>381620.0</td>\n",
       "    </tr>\n",
       "    <tr>\n",
       "      <th>712751</th>\n",
       "      <td>2022</td>\n",
       "      <td>2023-09-29</td>\n",
       "      <td>Wethersfield</td>\n",
       "      <td>20650.0</td>\n",
       "      <td>760857.0</td>\n",
       "      <td>0.0271</td>\n",
       "      <td>Single Family</td>\n",
       "      <td>2023</td>\n",
       "      <td>740207.0</td>\n",
       "    </tr>\n",
       "    <tr>\n",
       "      <th>712752</th>\n",
       "      <td>2022</td>\n",
       "      <td>2023-01-09</td>\n",
       "      <td>Stamford</td>\n",
       "      <td>132900.0</td>\n",
       "      <td>220000.0</td>\n",
       "      <td>0.6040</td>\n",
       "      <td>Condo</td>\n",
       "      <td>2023</td>\n",
       "      <td>87100.0</td>\n",
       "    </tr>\n",
       "    <tr>\n",
       "      <th>712753</th>\n",
       "      <td>2022</td>\n",
       "      <td>2023-09-26</td>\n",
       "      <td>Old Saybrook</td>\n",
       "      <td>1099400.0</td>\n",
       "      <td>1575000.0</td>\n",
       "      <td>0.6980</td>\n",
       "      <td>Single Family</td>\n",
       "      <td>2023</td>\n",
       "      <td>475600.0</td>\n",
       "    </tr>\n",
       "    <tr>\n",
       "      <th>712754</th>\n",
       "      <td>2022</td>\n",
       "      <td>2023-05-18</td>\n",
       "      <td>Southington</td>\n",
       "      <td>135860.0</td>\n",
       "      <td>330000.0</td>\n",
       "      <td>0.4117</td>\n",
       "      <td>Single Family</td>\n",
       "      <td>2023</td>\n",
       "      <td>194140.0</td>\n",
       "    </tr>\n",
       "  </tbody>\n",
       "</table>\n",
       "<p>712755 rows × 9 columns</p>\n",
       "</div>"
      ],
      "text/plain": [
       "        List Year Sales Date          City  Assessed Value  Sale Amount  \\\n",
       "0            2020 2021-04-14       Ansonia        133000.0     248400.0   \n",
       "1            2020 2021-05-26       Ansonia        110500.0     239900.0   \n",
       "2            2020 2021-09-13       Ansonia        150500.0     325000.0   \n",
       "3            2020 2020-12-14       Ansonia        127400.0     202500.0   \n",
       "4            2020 2021-09-07          Avon        217640.0     400000.0   \n",
       "...           ...        ...           ...             ...          ...   \n",
       "712750       2022 2022-10-11      Stamford        483380.0     865000.0   \n",
       "712751       2022 2023-09-29  Wethersfield         20650.0     760857.0   \n",
       "712752       2022 2023-01-09      Stamford        132900.0     220000.0   \n",
       "712753       2022 2023-09-26  Old Saybrook       1099400.0    1575000.0   \n",
       "712754       2022 2023-05-18   Southington        135860.0     330000.0   \n",
       "\n",
       "        Sales Ratio  Property Type  Sales Year  difference_value  \n",
       "0            0.5354  Single Family        2021          115400.0  \n",
       "1            0.4606   Three Family        2021          129400.0  \n",
       "2            0.4630     Commercial        2021          174500.0  \n",
       "3            0.6291     Two Family        2020           75100.0  \n",
       "4            0.5441  Single Family        2021          182360.0  \n",
       "...             ...            ...         ...               ...  \n",
       "712750       0.5588  Single Family        2022          381620.0  \n",
       "712751       0.0271  Single Family        2023          740207.0  \n",
       "712752       0.6040          Condo        2023           87100.0  \n",
       "712753       0.6980  Single Family        2023          475600.0  \n",
       "712754       0.4117  Single Family        2023          194140.0  \n",
       "\n",
       "[712755 rows x 9 columns]"
      ]
     },
     "execution_count": 223,
     "metadata": {},
     "output_type": "execute_result"
    }
   ],
   "source": [
    "real_estate_df['difference_value'] = real_estate_df['Sale Amount'] - real_estate_df['Assessed Value']\n",
    "real_estate_df"
   ]
  },
  {
   "cell_type": "code",
   "execution_count": 224,
   "id": "b9a338c1-6024-46e2-8817-dea0dc58b2b0",
   "metadata": {},
   "outputs": [
    {
     "data": {
      "text/html": [
       "<div>\n",
       "<style scoped>\n",
       "    .dataframe tbody tr th:only-of-type {\n",
       "        vertical-align: middle;\n",
       "    }\n",
       "\n",
       "    .dataframe tbody tr th {\n",
       "        vertical-align: top;\n",
       "    }\n",
       "\n",
       "    .dataframe thead th {\n",
       "        text-align: right;\n",
       "    }\n",
       "</style>\n",
       "<table border=\"1\" class=\"dataframe\">\n",
       "  <thead>\n",
       "    <tr style=\"text-align: right;\">\n",
       "      <th></th>\n",
       "      <th>City</th>\n",
       "      <th>Property Type</th>\n",
       "      <th>Sales Ratio</th>\n",
       "    </tr>\n",
       "  </thead>\n",
       "  <tbody>\n",
       "    <tr>\n",
       "      <th>0</th>\n",
       "      <td>Andover</td>\n",
       "      <td>Commercial</td>\n",
       "      <td>0.418900</td>\n",
       "    </tr>\n",
       "    <tr>\n",
       "      <th>1</th>\n",
       "      <td>Andover</td>\n",
       "      <td>Single Family</td>\n",
       "      <td>0.855207</td>\n",
       "    </tr>\n",
       "    <tr>\n",
       "      <th>2</th>\n",
       "      <td>Andover</td>\n",
       "      <td>Two Family</td>\n",
       "      <td>0.751246</td>\n",
       "    </tr>\n",
       "    <tr>\n",
       "      <th>3</th>\n",
       "      <td>Andover</td>\n",
       "      <td>Vacant Land</td>\n",
       "      <td>0.525705</td>\n",
       "    </tr>\n",
       "    <tr>\n",
       "      <th>4</th>\n",
       "      <td>Ansonia</td>\n",
       "      <td>Apartments</td>\n",
       "      <td>0.577383</td>\n",
       "    </tr>\n",
       "    <tr>\n",
       "      <th>5</th>\n",
       "      <td>Ansonia</td>\n",
       "      <td>Commercial</td>\n",
       "      <td>0.829106</td>\n",
       "    </tr>\n",
       "    <tr>\n",
       "      <th>6</th>\n",
       "      <td>Ansonia</td>\n",
       "      <td>Condo</td>\n",
       "      <td>1.108793</td>\n",
       "    </tr>\n",
       "    <tr>\n",
       "      <th>7</th>\n",
       "      <td>Ansonia</td>\n",
       "      <td>Four Family</td>\n",
       "      <td>0.748857</td>\n",
       "    </tr>\n",
       "    <tr>\n",
       "      <th>8</th>\n",
       "      <td>Ansonia</td>\n",
       "      <td>Industrial</td>\n",
       "      <td>0.488714</td>\n",
       "    </tr>\n",
       "    <tr>\n",
       "      <th>9</th>\n",
       "      <td>Ansonia</td>\n",
       "      <td>Single Family</td>\n",
       "      <td>0.906139</td>\n",
       "    </tr>\n",
       "    <tr>\n",
       "      <th>10</th>\n",
       "      <td>Ansonia</td>\n",
       "      <td>Three Family</td>\n",
       "      <td>0.853947</td>\n",
       "    </tr>\n",
       "    <tr>\n",
       "      <th>11</th>\n",
       "      <td>Ansonia</td>\n",
       "      <td>Two Family</td>\n",
       "      <td>0.997927</td>\n",
       "    </tr>\n",
       "    <tr>\n",
       "      <th>12</th>\n",
       "      <td>Ansonia</td>\n",
       "      <td>Vacant Land</td>\n",
       "      <td>1.561705</td>\n",
       "    </tr>\n",
       "    <tr>\n",
       "      <th>13</th>\n",
       "      <td>Ashford</td>\n",
       "      <td>Apartments</td>\n",
       "      <td>0.439400</td>\n",
       "    </tr>\n",
       "    <tr>\n",
       "      <th>14</th>\n",
       "      <td>Ashford</td>\n",
       "      <td>Commercial</td>\n",
       "      <td>0.974861</td>\n",
       "    </tr>\n",
       "    <tr>\n",
       "      <th>15</th>\n",
       "      <td>Ashford</td>\n",
       "      <td>Condo</td>\n",
       "      <td>0.727779</td>\n",
       "    </tr>\n",
       "    <tr>\n",
       "      <th>16</th>\n",
       "      <td>Ashford</td>\n",
       "      <td>Industrial</td>\n",
       "      <td>0.446300</td>\n",
       "    </tr>\n",
       "    <tr>\n",
       "      <th>17</th>\n",
       "      <td>Ashford</td>\n",
       "      <td>Single Family</td>\n",
       "      <td>0.943111</td>\n",
       "    </tr>\n",
       "    <tr>\n",
       "      <th>18</th>\n",
       "      <td>Ashford</td>\n",
       "      <td>Three Family</td>\n",
       "      <td>2.886508</td>\n",
       "    </tr>\n",
       "    <tr>\n",
       "      <th>19</th>\n",
       "      <td>Ashford</td>\n",
       "      <td>Two Family</td>\n",
       "      <td>1.899186</td>\n",
       "    </tr>\n",
       "  </tbody>\n",
       "</table>\n",
       "</div>"
      ],
      "text/plain": [
       "       City  Property Type  Sales Ratio\n",
       "0   Andover     Commercial     0.418900\n",
       "1   Andover  Single Family     0.855207\n",
       "2   Andover     Two Family     0.751246\n",
       "3   Andover    Vacant Land     0.525705\n",
       "4   Ansonia     Apartments     0.577383\n",
       "5   Ansonia     Commercial     0.829106\n",
       "6   Ansonia          Condo     1.108793\n",
       "7   Ansonia    Four Family     0.748857\n",
       "8   Ansonia     Industrial     0.488714\n",
       "9   Ansonia  Single Family     0.906139\n",
       "10  Ansonia   Three Family     0.853947\n",
       "11  Ansonia     Two Family     0.997927\n",
       "12  Ansonia    Vacant Land     1.561705\n",
       "13  Ashford     Apartments     0.439400\n",
       "14  Ashford     Commercial     0.974861\n",
       "15  Ashford          Condo     0.727779\n",
       "16  Ashford     Industrial     0.446300\n",
       "17  Ashford  Single Family     0.943111\n",
       "18  Ashford   Three Family     2.886508\n",
       "19  Ashford     Two Family     1.899186"
      ]
     },
     "execution_count": 224,
     "metadata": {},
     "output_type": "execute_result"
    }
   ],
   "source": [
    "avg_price = real_estate_df.groupby(['City', 'Property Type'])['Sales Ratio'].mean().reset_index()\n",
    "\n",
    "avg_difference_value = avg_price.rename(columns={'difference_value': 'Average_difference_value'})\n",
    "\n",
    "avg_difference_value.head(20)"
   ]
  },
  {
   "cell_type": "markdown",
   "id": "8e20a6f6-2bd5-41a7-b3da-082295f99f53",
   "metadata": {},
   "source": [
    "# What types of properties (residential, commercial, etc.) are sold most often?"
   ]
  },
  {
   "cell_type": "code",
   "execution_count": 226,
   "id": "8ae3b8d7-d7bd-48a0-98f9-c2e71d4000fd",
   "metadata": {},
   "outputs": [
    {
     "data": {
      "text/html": [
       "<div>\n",
       "<style scoped>\n",
       "    .dataframe tbody tr th:only-of-type {\n",
       "        vertical-align: middle;\n",
       "    }\n",
       "\n",
       "    .dataframe tbody tr th {\n",
       "        vertical-align: top;\n",
       "    }\n",
       "\n",
       "    .dataframe thead th {\n",
       "        text-align: right;\n",
       "    }\n",
       "</style>\n",
       "<table border=\"1\" class=\"dataframe\">\n",
       "  <thead>\n",
       "    <tr style=\"text-align: right;\">\n",
       "      <th></th>\n",
       "      <th>Property Type</th>\n",
       "      <th>count</th>\n",
       "    </tr>\n",
       "  </thead>\n",
       "  <tbody>\n",
       "    <tr>\n",
       "      <th>0</th>\n",
       "      <td>Single Family</td>\n",
       "      <td>507087</td>\n",
       "    </tr>\n",
       "    <tr>\n",
       "      <th>1</th>\n",
       "      <td>Condo</td>\n",
       "      <td>135538</td>\n",
       "    </tr>\n",
       "    <tr>\n",
       "      <th>2</th>\n",
       "      <td>Two Family</td>\n",
       "      <td>34824</td>\n",
       "    </tr>\n",
       "    <tr>\n",
       "      <th>3</th>\n",
       "      <td>Three Family</td>\n",
       "      <td>16566</td>\n",
       "    </tr>\n",
       "    <tr>\n",
       "      <th>4</th>\n",
       "      <td>Vacant Land</td>\n",
       "      <td>7765</td>\n",
       "    </tr>\n",
       "    <tr>\n",
       "      <th>5</th>\n",
       "      <td>Commercial</td>\n",
       "      <td>5976</td>\n",
       "    </tr>\n",
       "    <tr>\n",
       "      <th>6</th>\n",
       "      <td>Four Family</td>\n",
       "      <td>2958</td>\n",
       "    </tr>\n",
       "    <tr>\n",
       "      <th>7</th>\n",
       "      <td>Apartments</td>\n",
       "      <td>1236</td>\n",
       "    </tr>\n",
       "    <tr>\n",
       "      <th>8</th>\n",
       "      <td>Industrial</td>\n",
       "      <td>795</td>\n",
       "    </tr>\n",
       "    <tr>\n",
       "      <th>9</th>\n",
       "      <td>Public Utility</td>\n",
       "      <td>10</td>\n",
       "    </tr>\n",
       "  </tbody>\n",
       "</table>\n",
       "</div>"
      ],
      "text/plain": [
       "    Property Type   count\n",
       "0   Single Family  507087\n",
       "1           Condo  135538\n",
       "2      Two Family   34824\n",
       "3    Three Family   16566\n",
       "4     Vacant Land    7765\n",
       "5      Commercial    5976\n",
       "6     Four Family    2958\n",
       "7      Apartments    1236\n",
       "8      Industrial     795\n",
       "9  Public Utility      10"
      ]
     },
     "execution_count": 226,
     "metadata": {},
     "output_type": "execute_result"
    }
   ],
   "source": [
    "count_of_properties_type = real_estate_df['Property Type'].value_counts().reset_index()\n",
    "count_of_properties_type"
   ]
  },
  {
   "cell_type": "code",
   "execution_count": 227,
   "id": "ab9e5492-dfd4-45ad-8e44-5011da0e5cb4",
   "metadata": {},
   "outputs": [
    {
     "data": {
      "application/vnd.plotly.v1+json": {
       "config": {
        "plotlyServerURL": "https://plot.ly"
       },
       "data": [
        {
         "alignmentgroup": "True",
         "hovertemplate": "Property Type=%{x}<br>Count=%{text}<extra></extra>",
         "legendgroup": "Single Family",
         "marker": {
          "color": "rgb(102,194,165)",
          "pattern": {
           "shape": ""
          }
         },
         "name": "Single Family",
         "offsetgroup": "Single Family",
         "orientation": "v",
         "showlegend": true,
         "text": [
          507087
         ],
         "textposition": "auto",
         "type": "bar",
         "x": [
          "Single Family"
         ],
         "xaxis": "x",
         "y": [
          507087
         ],
         "yaxis": "y"
        },
        {
         "alignmentgroup": "True",
         "hovertemplate": "Property Type=%{x}<br>Count=%{text}<extra></extra>",
         "legendgroup": "Condo",
         "marker": {
          "color": "rgb(252,141,98)",
          "pattern": {
           "shape": ""
          }
         },
         "name": "Condo",
         "offsetgroup": "Condo",
         "orientation": "v",
         "showlegend": true,
         "text": [
          135538
         ],
         "textposition": "auto",
         "type": "bar",
         "x": [
          "Condo"
         ],
         "xaxis": "x",
         "y": [
          135538
         ],
         "yaxis": "y"
        },
        {
         "alignmentgroup": "True",
         "hovertemplate": "Property Type=%{x}<br>Count=%{text}<extra></extra>",
         "legendgroup": "Two Family",
         "marker": {
          "color": "rgb(141,160,203)",
          "pattern": {
           "shape": ""
          }
         },
         "name": "Two Family",
         "offsetgroup": "Two Family",
         "orientation": "v",
         "showlegend": true,
         "text": [
          34824
         ],
         "textposition": "auto",
         "type": "bar",
         "x": [
          "Two Family"
         ],
         "xaxis": "x",
         "y": [
          34824
         ],
         "yaxis": "y"
        },
        {
         "alignmentgroup": "True",
         "hovertemplate": "Property Type=%{x}<br>Count=%{text}<extra></extra>",
         "legendgroup": "Three Family",
         "marker": {
          "color": "rgb(231,138,195)",
          "pattern": {
           "shape": ""
          }
         },
         "name": "Three Family",
         "offsetgroup": "Three Family",
         "orientation": "v",
         "showlegend": true,
         "text": [
          16566
         ],
         "textposition": "auto",
         "type": "bar",
         "x": [
          "Three Family"
         ],
         "xaxis": "x",
         "y": [
          16566
         ],
         "yaxis": "y"
        },
        {
         "alignmentgroup": "True",
         "hovertemplate": "Property Type=%{x}<br>Count=%{text}<extra></extra>",
         "legendgroup": "Vacant Land",
         "marker": {
          "color": "rgb(166,216,84)",
          "pattern": {
           "shape": ""
          }
         },
         "name": "Vacant Land",
         "offsetgroup": "Vacant Land",
         "orientation": "v",
         "showlegend": true,
         "text": [
          7765
         ],
         "textposition": "auto",
         "type": "bar",
         "x": [
          "Vacant Land"
         ],
         "xaxis": "x",
         "y": [
          7765
         ],
         "yaxis": "y"
        }
       ],
       "layout": {
        "autosize": true,
        "barmode": "relative",
        "legend": {
         "title": {
          "text": "Property Type"
         },
         "tracegroupgap": 0
        },
        "template": {
         "data": {
          "bar": [
           {
            "error_x": {
             "color": "#2a3f5f"
            },
            "error_y": {
             "color": "#2a3f5f"
            },
            "marker": {
             "line": {
              "color": "#E5ECF6",
              "width": 0.5
             },
             "pattern": {
              "fillmode": "overlay",
              "size": 10,
              "solidity": 0.2
             }
            },
            "type": "bar"
           }
          ],
          "barpolar": [
           {
            "marker": {
             "line": {
              "color": "#E5ECF6",
              "width": 0.5
             },
             "pattern": {
              "fillmode": "overlay",
              "size": 10,
              "solidity": 0.2
             }
            },
            "type": "barpolar"
           }
          ],
          "carpet": [
           {
            "aaxis": {
             "endlinecolor": "#2a3f5f",
             "gridcolor": "white",
             "linecolor": "white",
             "minorgridcolor": "white",
             "startlinecolor": "#2a3f5f"
            },
            "baxis": {
             "endlinecolor": "#2a3f5f",
             "gridcolor": "white",
             "linecolor": "white",
             "minorgridcolor": "white",
             "startlinecolor": "#2a3f5f"
            },
            "type": "carpet"
           }
          ],
          "choropleth": [
           {
            "colorbar": {
             "outlinewidth": 0,
             "ticks": ""
            },
            "type": "choropleth"
           }
          ],
          "contour": [
           {
            "colorbar": {
             "outlinewidth": 0,
             "ticks": ""
            },
            "colorscale": [
             [
              0,
              "#0d0887"
             ],
             [
              0.1111111111111111,
              "#46039f"
             ],
             [
              0.2222222222222222,
              "#7201a8"
             ],
             [
              0.3333333333333333,
              "#9c179e"
             ],
             [
              0.4444444444444444,
              "#bd3786"
             ],
             [
              0.5555555555555556,
              "#d8576b"
             ],
             [
              0.6666666666666666,
              "#ed7953"
             ],
             [
              0.7777777777777778,
              "#fb9f3a"
             ],
             [
              0.8888888888888888,
              "#fdca26"
             ],
             [
              1,
              "#f0f921"
             ]
            ],
            "type": "contour"
           }
          ],
          "contourcarpet": [
           {
            "colorbar": {
             "outlinewidth": 0,
             "ticks": ""
            },
            "type": "contourcarpet"
           }
          ],
          "heatmap": [
           {
            "colorbar": {
             "outlinewidth": 0,
             "ticks": ""
            },
            "colorscale": [
             [
              0,
              "#0d0887"
             ],
             [
              0.1111111111111111,
              "#46039f"
             ],
             [
              0.2222222222222222,
              "#7201a8"
             ],
             [
              0.3333333333333333,
              "#9c179e"
             ],
             [
              0.4444444444444444,
              "#bd3786"
             ],
             [
              0.5555555555555556,
              "#d8576b"
             ],
             [
              0.6666666666666666,
              "#ed7953"
             ],
             [
              0.7777777777777778,
              "#fb9f3a"
             ],
             [
              0.8888888888888888,
              "#fdca26"
             ],
             [
              1,
              "#f0f921"
             ]
            ],
            "type": "heatmap"
           }
          ],
          "heatmapgl": [
           {
            "colorbar": {
             "outlinewidth": 0,
             "ticks": ""
            },
            "colorscale": [
             [
              0,
              "#0d0887"
             ],
             [
              0.1111111111111111,
              "#46039f"
             ],
             [
              0.2222222222222222,
              "#7201a8"
             ],
             [
              0.3333333333333333,
              "#9c179e"
             ],
             [
              0.4444444444444444,
              "#bd3786"
             ],
             [
              0.5555555555555556,
              "#d8576b"
             ],
             [
              0.6666666666666666,
              "#ed7953"
             ],
             [
              0.7777777777777778,
              "#fb9f3a"
             ],
             [
              0.8888888888888888,
              "#fdca26"
             ],
             [
              1,
              "#f0f921"
             ]
            ],
            "type": "heatmapgl"
           }
          ],
          "histogram": [
           {
            "marker": {
             "pattern": {
              "fillmode": "overlay",
              "size": 10,
              "solidity": 0.2
             }
            },
            "type": "histogram"
           }
          ],
          "histogram2d": [
           {
            "colorbar": {
             "outlinewidth": 0,
             "ticks": ""
            },
            "colorscale": [
             [
              0,
              "#0d0887"
             ],
             [
              0.1111111111111111,
              "#46039f"
             ],
             [
              0.2222222222222222,
              "#7201a8"
             ],
             [
              0.3333333333333333,
              "#9c179e"
             ],
             [
              0.4444444444444444,
              "#bd3786"
             ],
             [
              0.5555555555555556,
              "#d8576b"
             ],
             [
              0.6666666666666666,
              "#ed7953"
             ],
             [
              0.7777777777777778,
              "#fb9f3a"
             ],
             [
              0.8888888888888888,
              "#fdca26"
             ],
             [
              1,
              "#f0f921"
             ]
            ],
            "type": "histogram2d"
           }
          ],
          "histogram2dcontour": [
           {
            "colorbar": {
             "outlinewidth": 0,
             "ticks": ""
            },
            "colorscale": [
             [
              0,
              "#0d0887"
             ],
             [
              0.1111111111111111,
              "#46039f"
             ],
             [
              0.2222222222222222,
              "#7201a8"
             ],
             [
              0.3333333333333333,
              "#9c179e"
             ],
             [
              0.4444444444444444,
              "#bd3786"
             ],
             [
              0.5555555555555556,
              "#d8576b"
             ],
             [
              0.6666666666666666,
              "#ed7953"
             ],
             [
              0.7777777777777778,
              "#fb9f3a"
             ],
             [
              0.8888888888888888,
              "#fdca26"
             ],
             [
              1,
              "#f0f921"
             ]
            ],
            "type": "histogram2dcontour"
           }
          ],
          "mesh3d": [
           {
            "colorbar": {
             "outlinewidth": 0,
             "ticks": ""
            },
            "type": "mesh3d"
           }
          ],
          "parcoords": [
           {
            "line": {
             "colorbar": {
              "outlinewidth": 0,
              "ticks": ""
             }
            },
            "type": "parcoords"
           }
          ],
          "pie": [
           {
            "automargin": true,
            "type": "pie"
           }
          ],
          "scatter": [
           {
            "fillpattern": {
             "fillmode": "overlay",
             "size": 10,
             "solidity": 0.2
            },
            "type": "scatter"
           }
          ],
          "scatter3d": [
           {
            "line": {
             "colorbar": {
              "outlinewidth": 0,
              "ticks": ""
             }
            },
            "marker": {
             "colorbar": {
              "outlinewidth": 0,
              "ticks": ""
             }
            },
            "type": "scatter3d"
           }
          ],
          "scattercarpet": [
           {
            "marker": {
             "colorbar": {
              "outlinewidth": 0,
              "ticks": ""
             }
            },
            "type": "scattercarpet"
           }
          ],
          "scattergeo": [
           {
            "marker": {
             "colorbar": {
              "outlinewidth": 0,
              "ticks": ""
             }
            },
            "type": "scattergeo"
           }
          ],
          "scattergl": [
           {
            "marker": {
             "colorbar": {
              "outlinewidth": 0,
              "ticks": ""
             }
            },
            "type": "scattergl"
           }
          ],
          "scattermapbox": [
           {
            "marker": {
             "colorbar": {
              "outlinewidth": 0,
              "ticks": ""
             }
            },
            "type": "scattermapbox"
           }
          ],
          "scatterpolar": [
           {
            "marker": {
             "colorbar": {
              "outlinewidth": 0,
              "ticks": ""
             }
            },
            "type": "scatterpolar"
           }
          ],
          "scatterpolargl": [
           {
            "marker": {
             "colorbar": {
              "outlinewidth": 0,
              "ticks": ""
             }
            },
            "type": "scatterpolargl"
           }
          ],
          "scatterternary": [
           {
            "marker": {
             "colorbar": {
              "outlinewidth": 0,
              "ticks": ""
             }
            },
            "type": "scatterternary"
           }
          ],
          "surface": [
           {
            "colorbar": {
             "outlinewidth": 0,
             "ticks": ""
            },
            "colorscale": [
             [
              0,
              "#0d0887"
             ],
             [
              0.1111111111111111,
              "#46039f"
             ],
             [
              0.2222222222222222,
              "#7201a8"
             ],
             [
              0.3333333333333333,
              "#9c179e"
             ],
             [
              0.4444444444444444,
              "#bd3786"
             ],
             [
              0.5555555555555556,
              "#d8576b"
             ],
             [
              0.6666666666666666,
              "#ed7953"
             ],
             [
              0.7777777777777778,
              "#fb9f3a"
             ],
             [
              0.8888888888888888,
              "#fdca26"
             ],
             [
              1,
              "#f0f921"
             ]
            ],
            "type": "surface"
           }
          ],
          "table": [
           {
            "cells": {
             "fill": {
              "color": "#EBF0F8"
             },
             "line": {
              "color": "white"
             }
            },
            "header": {
             "fill": {
              "color": "#C8D4E3"
             },
             "line": {
              "color": "white"
             }
            },
            "type": "table"
           }
          ]
         },
         "layout": {
          "annotationdefaults": {
           "arrowcolor": "#2a3f5f",
           "arrowhead": 0,
           "arrowwidth": 1
          },
          "autotypenumbers": "strict",
          "coloraxis": {
           "colorbar": {
            "outlinewidth": 0,
            "ticks": ""
           }
          },
          "colorscale": {
           "diverging": [
            [
             0,
             "#8e0152"
            ],
            [
             0.1,
             "#c51b7d"
            ],
            [
             0.2,
             "#de77ae"
            ],
            [
             0.3,
             "#f1b6da"
            ],
            [
             0.4,
             "#fde0ef"
            ],
            [
             0.5,
             "#f7f7f7"
            ],
            [
             0.6,
             "#e6f5d0"
            ],
            [
             0.7,
             "#b8e186"
            ],
            [
             0.8,
             "#7fbc41"
            ],
            [
             0.9,
             "#4d9221"
            ],
            [
             1,
             "#276419"
            ]
           ],
           "sequential": [
            [
             0,
             "#0d0887"
            ],
            [
             0.1111111111111111,
             "#46039f"
            ],
            [
             0.2222222222222222,
             "#7201a8"
            ],
            [
             0.3333333333333333,
             "#9c179e"
            ],
            [
             0.4444444444444444,
             "#bd3786"
            ],
            [
             0.5555555555555556,
             "#d8576b"
            ],
            [
             0.6666666666666666,
             "#ed7953"
            ],
            [
             0.7777777777777778,
             "#fb9f3a"
            ],
            [
             0.8888888888888888,
             "#fdca26"
            ],
            [
             1,
             "#f0f921"
            ]
           ],
           "sequentialminus": [
            [
             0,
             "#0d0887"
            ],
            [
             0.1111111111111111,
             "#46039f"
            ],
            [
             0.2222222222222222,
             "#7201a8"
            ],
            [
             0.3333333333333333,
             "#9c179e"
            ],
            [
             0.4444444444444444,
             "#bd3786"
            ],
            [
             0.5555555555555556,
             "#d8576b"
            ],
            [
             0.6666666666666666,
             "#ed7953"
            ],
            [
             0.7777777777777778,
             "#fb9f3a"
            ],
            [
             0.8888888888888888,
             "#fdca26"
            ],
            [
             1,
             "#f0f921"
            ]
           ]
          },
          "colorway": [
           "#636efa",
           "#EF553B",
           "#00cc96",
           "#ab63fa",
           "#FFA15A",
           "#19d3f3",
           "#FF6692",
           "#B6E880",
           "#FF97FF",
           "#FECB52"
          ],
          "font": {
           "color": "#2a3f5f"
          },
          "geo": {
           "bgcolor": "white",
           "lakecolor": "white",
           "landcolor": "#E5ECF6",
           "showlakes": true,
           "showland": true,
           "subunitcolor": "white"
          },
          "hoverlabel": {
           "align": "left"
          },
          "hovermode": "closest",
          "mapbox": {
           "style": "light"
          },
          "paper_bgcolor": "white",
          "plot_bgcolor": "#E5ECF6",
          "polar": {
           "angularaxis": {
            "gridcolor": "white",
            "linecolor": "white",
            "ticks": ""
           },
           "bgcolor": "#E5ECF6",
           "radialaxis": {
            "gridcolor": "white",
            "linecolor": "white",
            "ticks": ""
           }
          },
          "scene": {
           "xaxis": {
            "backgroundcolor": "#E5ECF6",
            "gridcolor": "white",
            "gridwidth": 2,
            "linecolor": "white",
            "showbackground": true,
            "ticks": "",
            "zerolinecolor": "white"
           },
           "yaxis": {
            "backgroundcolor": "#E5ECF6",
            "gridcolor": "white",
            "gridwidth": 2,
            "linecolor": "white",
            "showbackground": true,
            "ticks": "",
            "zerolinecolor": "white"
           },
           "zaxis": {
            "backgroundcolor": "#E5ECF6",
            "gridcolor": "white",
            "gridwidth": 2,
            "linecolor": "white",
            "showbackground": true,
            "ticks": "",
            "zerolinecolor": "white"
           }
          },
          "shapedefaults": {
           "line": {
            "color": "#2a3f5f"
           }
          },
          "ternary": {
           "aaxis": {
            "gridcolor": "white",
            "linecolor": "white",
            "ticks": ""
           },
           "baxis": {
            "gridcolor": "white",
            "linecolor": "white",
            "ticks": ""
           },
           "bgcolor": "#E5ECF6",
           "caxis": {
            "gridcolor": "white",
            "linecolor": "white",
            "ticks": ""
           }
          },
          "title": {
           "x": 0.05
          },
          "xaxis": {
           "automargin": true,
           "gridcolor": "white",
           "linecolor": "white",
           "ticks": "",
           "title": {
            "standoff": 15
           },
           "zerolinecolor": "white",
           "zerolinewidth": 2
          },
          "yaxis": {
           "automargin": true,
           "gridcolor": "white",
           "linecolor": "white",
           "ticks": "",
           "title": {
            "standoff": 15
           },
           "zerolinecolor": "white",
           "zerolinewidth": 2
          }
         }
        },
        "title": {
         "text": "Count of property type"
        },
        "xaxis": {
         "anchor": "y",
         "autorange": true,
         "categoryarray": [
          "Single Family",
          "Condo",
          "Two Family",
          "Three Family",
          "Vacant Land"
         ],
         "categoryorder": "array",
         "domain": [
          0,
          1
         ],
         "range": [
          -0.5,
          4.5
         ],
         "title": {
          "text": "Property Type"
         },
         "type": "category"
        },
        "yaxis": {
         "anchor": "x",
         "autorange": true,
         "domain": [
          0,
          1
         ],
         "range": [
          0,
          533775.7894736842
         ],
         "title": {
          "text": "Count"
         },
         "type": "linear"
        }
       }
      },
      "text/html": [
       "<div>                            <div id=\"745ad3de-eb38-4144-b4be-491e54c606b7\" class=\"plotly-graph-div\" style=\"height:525px; width:100%;\"></div>            <script type=\"text/javascript\">                require([\"plotly\"], function(Plotly) {                    window.PLOTLYENV=window.PLOTLYENV || {};                                    if (document.getElementById(\"745ad3de-eb38-4144-b4be-491e54c606b7\")) {                    Plotly.newPlot(                        \"745ad3de-eb38-4144-b4be-491e54c606b7\",                        [{\"alignmentgroup\":\"True\",\"hovertemplate\":\"Property Type=%{x}\\u003cbr\\u003eCount=%{text}\\u003cextra\\u003e\\u003c\\u002fextra\\u003e\",\"legendgroup\":\"Single Family\",\"marker\":{\"color\":\"rgb(102,194,165)\",\"pattern\":{\"shape\":\"\"}},\"name\":\"Single Family\",\"offsetgroup\":\"Single Family\",\"orientation\":\"v\",\"showlegend\":true,\"text\":[507087.0],\"textposition\":\"auto\",\"x\":[\"Single Family\"],\"xaxis\":\"x\",\"y\":[507087],\"yaxis\":\"y\",\"type\":\"bar\"},{\"alignmentgroup\":\"True\",\"hovertemplate\":\"Property Type=%{x}\\u003cbr\\u003eCount=%{text}\\u003cextra\\u003e\\u003c\\u002fextra\\u003e\",\"legendgroup\":\"Condo\",\"marker\":{\"color\":\"rgb(252,141,98)\",\"pattern\":{\"shape\":\"\"}},\"name\":\"Condo\",\"offsetgroup\":\"Condo\",\"orientation\":\"v\",\"showlegend\":true,\"text\":[135538.0],\"textposition\":\"auto\",\"x\":[\"Condo\"],\"xaxis\":\"x\",\"y\":[135538],\"yaxis\":\"y\",\"type\":\"bar\"},{\"alignmentgroup\":\"True\",\"hovertemplate\":\"Property Type=%{x}\\u003cbr\\u003eCount=%{text}\\u003cextra\\u003e\\u003c\\u002fextra\\u003e\",\"legendgroup\":\"Two Family\",\"marker\":{\"color\":\"rgb(141,160,203)\",\"pattern\":{\"shape\":\"\"}},\"name\":\"Two Family\",\"offsetgroup\":\"Two Family\",\"orientation\":\"v\",\"showlegend\":true,\"text\":[34824.0],\"textposition\":\"auto\",\"x\":[\"Two Family\"],\"xaxis\":\"x\",\"y\":[34824],\"yaxis\":\"y\",\"type\":\"bar\"},{\"alignmentgroup\":\"True\",\"hovertemplate\":\"Property Type=%{x}\\u003cbr\\u003eCount=%{text}\\u003cextra\\u003e\\u003c\\u002fextra\\u003e\",\"legendgroup\":\"Three Family\",\"marker\":{\"color\":\"rgb(231,138,195)\",\"pattern\":{\"shape\":\"\"}},\"name\":\"Three Family\",\"offsetgroup\":\"Three Family\",\"orientation\":\"v\",\"showlegend\":true,\"text\":[16566.0],\"textposition\":\"auto\",\"x\":[\"Three Family\"],\"xaxis\":\"x\",\"y\":[16566],\"yaxis\":\"y\",\"type\":\"bar\"},{\"alignmentgroup\":\"True\",\"hovertemplate\":\"Property Type=%{x}\\u003cbr\\u003eCount=%{text}\\u003cextra\\u003e\\u003c\\u002fextra\\u003e\",\"legendgroup\":\"Vacant Land\",\"marker\":{\"color\":\"rgb(166,216,84)\",\"pattern\":{\"shape\":\"\"}},\"name\":\"Vacant Land\",\"offsetgroup\":\"Vacant Land\",\"orientation\":\"v\",\"showlegend\":true,\"text\":[7765.0],\"textposition\":\"auto\",\"x\":[\"Vacant Land\"],\"xaxis\":\"x\",\"y\":[7765],\"yaxis\":\"y\",\"type\":\"bar\"}],                        {\"template\":{\"data\":{\"histogram2dcontour\":[{\"type\":\"histogram2dcontour\",\"colorbar\":{\"outlinewidth\":0,\"ticks\":\"\"},\"colorscale\":[[0.0,\"#0d0887\"],[0.1111111111111111,\"#46039f\"],[0.2222222222222222,\"#7201a8\"],[0.3333333333333333,\"#9c179e\"],[0.4444444444444444,\"#bd3786\"],[0.5555555555555556,\"#d8576b\"],[0.6666666666666666,\"#ed7953\"],[0.7777777777777778,\"#fb9f3a\"],[0.8888888888888888,\"#fdca26\"],[1.0,\"#f0f921\"]]}],\"choropleth\":[{\"type\":\"choropleth\",\"colorbar\":{\"outlinewidth\":0,\"ticks\":\"\"}}],\"histogram2d\":[{\"type\":\"histogram2d\",\"colorbar\":{\"outlinewidth\":0,\"ticks\":\"\"},\"colorscale\":[[0.0,\"#0d0887\"],[0.1111111111111111,\"#46039f\"],[0.2222222222222222,\"#7201a8\"],[0.3333333333333333,\"#9c179e\"],[0.4444444444444444,\"#bd3786\"],[0.5555555555555556,\"#d8576b\"],[0.6666666666666666,\"#ed7953\"],[0.7777777777777778,\"#fb9f3a\"],[0.8888888888888888,\"#fdca26\"],[1.0,\"#f0f921\"]]}],\"heatmap\":[{\"type\":\"heatmap\",\"colorbar\":{\"outlinewidth\":0,\"ticks\":\"\"},\"colorscale\":[[0.0,\"#0d0887\"],[0.1111111111111111,\"#46039f\"],[0.2222222222222222,\"#7201a8\"],[0.3333333333333333,\"#9c179e\"],[0.4444444444444444,\"#bd3786\"],[0.5555555555555556,\"#d8576b\"],[0.6666666666666666,\"#ed7953\"],[0.7777777777777778,\"#fb9f3a\"],[0.8888888888888888,\"#fdca26\"],[1.0,\"#f0f921\"]]}],\"heatmapgl\":[{\"type\":\"heatmapgl\",\"colorbar\":{\"outlinewidth\":0,\"ticks\":\"\"},\"colorscale\":[[0.0,\"#0d0887\"],[0.1111111111111111,\"#46039f\"],[0.2222222222222222,\"#7201a8\"],[0.3333333333333333,\"#9c179e\"],[0.4444444444444444,\"#bd3786\"],[0.5555555555555556,\"#d8576b\"],[0.6666666666666666,\"#ed7953\"],[0.7777777777777778,\"#fb9f3a\"],[0.8888888888888888,\"#fdca26\"],[1.0,\"#f0f921\"]]}],\"contourcarpet\":[{\"type\":\"contourcarpet\",\"colorbar\":{\"outlinewidth\":0,\"ticks\":\"\"}}],\"contour\":[{\"type\":\"contour\",\"colorbar\":{\"outlinewidth\":0,\"ticks\":\"\"},\"colorscale\":[[0.0,\"#0d0887\"],[0.1111111111111111,\"#46039f\"],[0.2222222222222222,\"#7201a8\"],[0.3333333333333333,\"#9c179e\"],[0.4444444444444444,\"#bd3786\"],[0.5555555555555556,\"#d8576b\"],[0.6666666666666666,\"#ed7953\"],[0.7777777777777778,\"#fb9f3a\"],[0.8888888888888888,\"#fdca26\"],[1.0,\"#f0f921\"]]}],\"surface\":[{\"type\":\"surface\",\"colorbar\":{\"outlinewidth\":0,\"ticks\":\"\"},\"colorscale\":[[0.0,\"#0d0887\"],[0.1111111111111111,\"#46039f\"],[0.2222222222222222,\"#7201a8\"],[0.3333333333333333,\"#9c179e\"],[0.4444444444444444,\"#bd3786\"],[0.5555555555555556,\"#d8576b\"],[0.6666666666666666,\"#ed7953\"],[0.7777777777777778,\"#fb9f3a\"],[0.8888888888888888,\"#fdca26\"],[1.0,\"#f0f921\"]]}],\"mesh3d\":[{\"type\":\"mesh3d\",\"colorbar\":{\"outlinewidth\":0,\"ticks\":\"\"}}],\"scatter\":[{\"fillpattern\":{\"fillmode\":\"overlay\",\"size\":10,\"solidity\":0.2},\"type\":\"scatter\"}],\"parcoords\":[{\"type\":\"parcoords\",\"line\":{\"colorbar\":{\"outlinewidth\":0,\"ticks\":\"\"}}}],\"scatterpolargl\":[{\"type\":\"scatterpolargl\",\"marker\":{\"colorbar\":{\"outlinewidth\":0,\"ticks\":\"\"}}}],\"bar\":[{\"error_x\":{\"color\":\"#2a3f5f\"},\"error_y\":{\"color\":\"#2a3f5f\"},\"marker\":{\"line\":{\"color\":\"#E5ECF6\",\"width\":0.5},\"pattern\":{\"fillmode\":\"overlay\",\"size\":10,\"solidity\":0.2}},\"type\":\"bar\"}],\"scattergeo\":[{\"type\":\"scattergeo\",\"marker\":{\"colorbar\":{\"outlinewidth\":0,\"ticks\":\"\"}}}],\"scatterpolar\":[{\"type\":\"scatterpolar\",\"marker\":{\"colorbar\":{\"outlinewidth\":0,\"ticks\":\"\"}}}],\"histogram\":[{\"marker\":{\"pattern\":{\"fillmode\":\"overlay\",\"size\":10,\"solidity\":0.2}},\"type\":\"histogram\"}],\"scattergl\":[{\"type\":\"scattergl\",\"marker\":{\"colorbar\":{\"outlinewidth\":0,\"ticks\":\"\"}}}],\"scatter3d\":[{\"type\":\"scatter3d\",\"line\":{\"colorbar\":{\"outlinewidth\":0,\"ticks\":\"\"}},\"marker\":{\"colorbar\":{\"outlinewidth\":0,\"ticks\":\"\"}}}],\"scattermapbox\":[{\"type\":\"scattermapbox\",\"marker\":{\"colorbar\":{\"outlinewidth\":0,\"ticks\":\"\"}}}],\"scatterternary\":[{\"type\":\"scatterternary\",\"marker\":{\"colorbar\":{\"outlinewidth\":0,\"ticks\":\"\"}}}],\"scattercarpet\":[{\"type\":\"scattercarpet\",\"marker\":{\"colorbar\":{\"outlinewidth\":0,\"ticks\":\"\"}}}],\"carpet\":[{\"aaxis\":{\"endlinecolor\":\"#2a3f5f\",\"gridcolor\":\"white\",\"linecolor\":\"white\",\"minorgridcolor\":\"white\",\"startlinecolor\":\"#2a3f5f\"},\"baxis\":{\"endlinecolor\":\"#2a3f5f\",\"gridcolor\":\"white\",\"linecolor\":\"white\",\"minorgridcolor\":\"white\",\"startlinecolor\":\"#2a3f5f\"},\"type\":\"carpet\"}],\"table\":[{\"cells\":{\"fill\":{\"color\":\"#EBF0F8\"},\"line\":{\"color\":\"white\"}},\"header\":{\"fill\":{\"color\":\"#C8D4E3\"},\"line\":{\"color\":\"white\"}},\"type\":\"table\"}],\"barpolar\":[{\"marker\":{\"line\":{\"color\":\"#E5ECF6\",\"width\":0.5},\"pattern\":{\"fillmode\":\"overlay\",\"size\":10,\"solidity\":0.2}},\"type\":\"barpolar\"}],\"pie\":[{\"automargin\":true,\"type\":\"pie\"}]},\"layout\":{\"autotypenumbers\":\"strict\",\"colorway\":[\"#636efa\",\"#EF553B\",\"#00cc96\",\"#ab63fa\",\"#FFA15A\",\"#19d3f3\",\"#FF6692\",\"#B6E880\",\"#FF97FF\",\"#FECB52\"],\"font\":{\"color\":\"#2a3f5f\"},\"hovermode\":\"closest\",\"hoverlabel\":{\"align\":\"left\"},\"paper_bgcolor\":\"white\",\"plot_bgcolor\":\"#E5ECF6\",\"polar\":{\"bgcolor\":\"#E5ECF6\",\"angularaxis\":{\"gridcolor\":\"white\",\"linecolor\":\"white\",\"ticks\":\"\"},\"radialaxis\":{\"gridcolor\":\"white\",\"linecolor\":\"white\",\"ticks\":\"\"}},\"ternary\":{\"bgcolor\":\"#E5ECF6\",\"aaxis\":{\"gridcolor\":\"white\",\"linecolor\":\"white\",\"ticks\":\"\"},\"baxis\":{\"gridcolor\":\"white\",\"linecolor\":\"white\",\"ticks\":\"\"},\"caxis\":{\"gridcolor\":\"white\",\"linecolor\":\"white\",\"ticks\":\"\"}},\"coloraxis\":{\"colorbar\":{\"outlinewidth\":0,\"ticks\":\"\"}},\"colorscale\":{\"sequential\":[[0.0,\"#0d0887\"],[0.1111111111111111,\"#46039f\"],[0.2222222222222222,\"#7201a8\"],[0.3333333333333333,\"#9c179e\"],[0.4444444444444444,\"#bd3786\"],[0.5555555555555556,\"#d8576b\"],[0.6666666666666666,\"#ed7953\"],[0.7777777777777778,\"#fb9f3a\"],[0.8888888888888888,\"#fdca26\"],[1.0,\"#f0f921\"]],\"sequentialminus\":[[0.0,\"#0d0887\"],[0.1111111111111111,\"#46039f\"],[0.2222222222222222,\"#7201a8\"],[0.3333333333333333,\"#9c179e\"],[0.4444444444444444,\"#bd3786\"],[0.5555555555555556,\"#d8576b\"],[0.6666666666666666,\"#ed7953\"],[0.7777777777777778,\"#fb9f3a\"],[0.8888888888888888,\"#fdca26\"],[1.0,\"#f0f921\"]],\"diverging\":[[0,\"#8e0152\"],[0.1,\"#c51b7d\"],[0.2,\"#de77ae\"],[0.3,\"#f1b6da\"],[0.4,\"#fde0ef\"],[0.5,\"#f7f7f7\"],[0.6,\"#e6f5d0\"],[0.7,\"#b8e186\"],[0.8,\"#7fbc41\"],[0.9,\"#4d9221\"],[1,\"#276419\"]]},\"xaxis\":{\"gridcolor\":\"white\",\"linecolor\":\"white\",\"ticks\":\"\",\"title\":{\"standoff\":15},\"zerolinecolor\":\"white\",\"automargin\":true,\"zerolinewidth\":2},\"yaxis\":{\"gridcolor\":\"white\",\"linecolor\":\"white\",\"ticks\":\"\",\"title\":{\"standoff\":15},\"zerolinecolor\":\"white\",\"automargin\":true,\"zerolinewidth\":2},\"scene\":{\"xaxis\":{\"backgroundcolor\":\"#E5ECF6\",\"gridcolor\":\"white\",\"linecolor\":\"white\",\"showbackground\":true,\"ticks\":\"\",\"zerolinecolor\":\"white\",\"gridwidth\":2},\"yaxis\":{\"backgroundcolor\":\"#E5ECF6\",\"gridcolor\":\"white\",\"linecolor\":\"white\",\"showbackground\":true,\"ticks\":\"\",\"zerolinecolor\":\"white\",\"gridwidth\":2},\"zaxis\":{\"backgroundcolor\":\"#E5ECF6\",\"gridcolor\":\"white\",\"linecolor\":\"white\",\"showbackground\":true,\"ticks\":\"\",\"zerolinecolor\":\"white\",\"gridwidth\":2}},\"shapedefaults\":{\"line\":{\"color\":\"#2a3f5f\"}},\"annotationdefaults\":{\"arrowcolor\":\"#2a3f5f\",\"arrowhead\":0,\"arrowwidth\":1},\"geo\":{\"bgcolor\":\"white\",\"landcolor\":\"#E5ECF6\",\"subunitcolor\":\"white\",\"showland\":true,\"showlakes\":true,\"lakecolor\":\"white\"},\"title\":{\"x\":0.05},\"mapbox\":{\"style\":\"light\"}}},\"xaxis\":{\"anchor\":\"y\",\"domain\":[0.0,1.0],\"title\":{\"text\":\"Property Type\"},\"categoryorder\":\"array\",\"categoryarray\":[\"Single Family\",\"Condo\",\"Two Family\",\"Three Family\",\"Vacant Land\"]},\"yaxis\":{\"anchor\":\"x\",\"domain\":[0.0,1.0],\"title\":{\"text\":\"Count\"}},\"legend\":{\"title\":{\"text\":\"Property Type\"},\"tracegroupgap\":0},\"title\":{\"text\":\"Count of property type\"},\"barmode\":\"relative\"},                        {\"responsive\": true}                    ).then(function(){\n",
       "                            \n",
       "var gd = document.getElementById('745ad3de-eb38-4144-b4be-491e54c606b7');\n",
       "var x = new MutationObserver(function (mutations, observer) {{\n",
       "        var display = window.getComputedStyle(gd).display;\n",
       "        if (!display || display === 'none') {{\n",
       "            console.log([gd, 'removed!']);\n",
       "            Plotly.purge(gd);\n",
       "            observer.disconnect();\n",
       "        }}\n",
       "}});\n",
       "\n",
       "// Listen for the removal of the full notebook cells\n",
       "var notebookContainer = gd.closest('#notebook-container');\n",
       "if (notebookContainer) {{\n",
       "    x.observe(notebookContainer, {childList: true});\n",
       "}}\n",
       "\n",
       "// Listen for the clearing of the current output cell\n",
       "var outputEl = gd.closest('.output');\n",
       "if (outputEl) {{\n",
       "    x.observe(outputEl, {childList: true});\n",
       "}}\n",
       "\n",
       "                        })                };                });            </script>        </div>"
      ]
     },
     "metadata": {},
     "output_type": "display_data"
    }
   ],
   "source": [
    "import plotly.express as px\n",
    "fig = px.bar(\n",
    "    count_of_properties_type.head(5),\n",
    "    x='Property Type',\n",
    "    y='count',\n",
    "    text='count',  # Display count on bars\n",
    "    title='Count of property type',\n",
    "    labels={'Property Type': 'Property Type', 'count': 'Count'},\n",
    "    color='Property Type',  # Color bars by country\n",
    "    color_discrete_sequence=px.colors.qualitative.Set2,  # Distinct colors\n",
    "    hover_data={'Property Type': True, 'count': True}  # Show country and count on hover\n",
    ")\n",
    "fig.show()"
   ]
  },
  {
   "cell_type": "markdown",
   "id": "d763f366-c5f2-4ec0-ae8a-ff2aa6f5507b",
   "metadata": {},
   "source": [
    "# How do sale prices compare for different property types?"
   ]
  },
  {
   "cell_type": "code",
   "execution_count": 229,
   "id": "ee4fa822-8527-4aad-ad5e-f4fbe3f730ce",
   "metadata": {},
   "outputs": [
    {
     "data": {
      "text/html": [
       "<div>\n",
       "<style scoped>\n",
       "    .dataframe tbody tr th:only-of-type {\n",
       "        vertical-align: middle;\n",
       "    }\n",
       "\n",
       "    .dataframe tbody tr th {\n",
       "        vertical-align: top;\n",
       "    }\n",
       "\n",
       "    .dataframe thead th {\n",
       "        text-align: right;\n",
       "    }\n",
       "</style>\n",
       "<table border=\"1\" class=\"dataframe\">\n",
       "  <thead>\n",
       "    <tr style=\"text-align: right;\">\n",
       "      <th></th>\n",
       "      <th>City</th>\n",
       "      <th>count</th>\n",
       "      <th>Sale Amount</th>\n",
       "    </tr>\n",
       "  </thead>\n",
       "  <tbody>\n",
       "    <tr>\n",
       "      <th>159</th>\n",
       "      <td>Willington</td>\n",
       "      <td>886</td>\n",
       "      <td>6.520148e+06</td>\n",
       "    </tr>\n",
       "    <tr>\n",
       "      <th>56</th>\n",
       "      <td>Greenwich</td>\n",
       "      <td>13172</td>\n",
       "      <td>2.138700e+06</td>\n",
       "    </tr>\n",
       "    <tr>\n",
       "      <th>34</th>\n",
       "      <td>Darien</td>\n",
       "      <td>5294</td>\n",
       "      <td>1.691203e+06</td>\n",
       "    </tr>\n",
       "    <tr>\n",
       "      <th>89</th>\n",
       "      <td>New Canaan</td>\n",
       "      <td>5480</td>\n",
       "      <td>1.573673e+06</td>\n",
       "    </tr>\n",
       "    <tr>\n",
       "      <th>157</th>\n",
       "      <td>Westport</td>\n",
       "      <td>7135</td>\n",
       "      <td>1.518927e+06</td>\n",
       "    </tr>\n",
       "    <tr>\n",
       "      <th>156</th>\n",
       "      <td>Weston</td>\n",
       "      <td>2633</td>\n",
       "      <td>9.816976e+05</td>\n",
       "    </tr>\n",
       "    <tr>\n",
       "      <th>149</th>\n",
       "      <td>Washington</td>\n",
       "      <td>1143</td>\n",
       "      <td>9.581952e+05</td>\n",
       "    </tr>\n",
       "    <tr>\n",
       "      <th>160</th>\n",
       "      <td>Wilton</td>\n",
       "      <td>4137</td>\n",
       "      <td>9.044377e+05</td>\n",
       "    </tr>\n",
       "    <tr>\n",
       "      <th>119</th>\n",
       "      <td>Roxbury</td>\n",
       "      <td>600</td>\n",
       "      <td>8.731626e+05</td>\n",
       "    </tr>\n",
       "    <tr>\n",
       "      <th>118</th>\n",
       "      <td>Rocky Hill</td>\n",
       "      <td>3984</td>\n",
       "      <td>7.902664e+05</td>\n",
       "    </tr>\n",
       "    <tr>\n",
       "      <th>134</th>\n",
       "      <td>Stamford</td>\n",
       "      <td>21468</td>\n",
       "      <td>7.731125e+05</td>\n",
       "    </tr>\n",
       "    <tr>\n",
       "      <th>50</th>\n",
       "      <td>Fairfield</td>\n",
       "      <td>13366</td>\n",
       "      <td>7.378665e+05</td>\n",
       "    </tr>\n",
       "    <tr>\n",
       "      <th>117</th>\n",
       "      <td>Ridgefield</td>\n",
       "      <td>5979</td>\n",
       "      <td>7.344107e+05</td>\n",
       "    </tr>\n",
       "    <tr>\n",
       "      <th>148</th>\n",
       "      <td>Warren</td>\n",
       "      <td>354</td>\n",
       "      <td>7.192400e+05</td>\n",
       "    </tr>\n",
       "    <tr>\n",
       "      <th>121</th>\n",
       "      <td>Salisbury</td>\n",
       "      <td>1058</td>\n",
       "      <td>7.182877e+05</td>\n",
       "    </tr>\n",
       "    <tr>\n",
       "      <th>46</th>\n",
       "      <td>Easton</td>\n",
       "      <td>1895</td>\n",
       "      <td>6.632140e+05</td>\n",
       "    </tr>\n",
       "    <tr>\n",
       "      <th>15</th>\n",
       "      <td>Bridgewater</td>\n",
       "      <td>397</td>\n",
       "      <td>6.557535e+05</td>\n",
       "    </tr>\n",
       "    <tr>\n",
       "      <th>116</th>\n",
       "      <td>Redding</td>\n",
       "      <td>1832</td>\n",
       "      <td>6.376093e+05</td>\n",
       "    </tr>\n",
       "    <tr>\n",
       "      <th>74</th>\n",
       "      <td>Lyme</td>\n",
       "      <td>613</td>\n",
       "      <td>6.198404e+05</td>\n",
       "    </tr>\n",
       "    <tr>\n",
       "      <th>124</th>\n",
       "      <td>Sharon</td>\n",
       "      <td>954</td>\n",
       "      <td>6.176789e+05</td>\n",
       "    </tr>\n",
       "    <tr>\n",
       "      <th>102</th>\n",
       "      <td>Norwalk</td>\n",
       "      <td>17597</td>\n",
       "      <td>5.849643e+05</td>\n",
       "    </tr>\n",
       "    <tr>\n",
       "      <th>126</th>\n",
       "      <td>Sherman</td>\n",
       "      <td>975</td>\n",
       "      <td>5.518189e+05</td>\n",
       "    </tr>\n",
       "    <tr>\n",
       "      <th>75</th>\n",
       "      <td>Madison</td>\n",
       "      <td>4864</td>\n",
       "      <td>5.503207e+05</td>\n",
       "    </tr>\n",
       "    <tr>\n",
       "      <th>49</th>\n",
       "      <td>Essex</td>\n",
       "      <td>1985</td>\n",
       "      <td>5.073227e+05</td>\n",
       "    </tr>\n",
       "    <tr>\n",
       "      <th>67</th>\n",
       "      <td>Kent</td>\n",
       "      <td>829</td>\n",
       "      <td>5.059334e+05</td>\n",
       "    </tr>\n",
       "    <tr>\n",
       "      <th>105</th>\n",
       "      <td>Old Saybrook</td>\n",
       "      <td>3219</td>\n",
       "      <td>4.845101e+05</td>\n",
       "    </tr>\n",
       "    <tr>\n",
       "      <th>166</th>\n",
       "      <td>Woodbridge</td>\n",
       "      <td>1943</td>\n",
       "      <td>4.653591e+05</td>\n",
       "    </tr>\n",
       "    <tr>\n",
       "      <th>3</th>\n",
       "      <td>Avon</td>\n",
       "      <td>5333</td>\n",
       "      <td>4.635529e+05</td>\n",
       "    </tr>\n",
       "    <tr>\n",
       "      <th>106</th>\n",
       "      <td>Orange</td>\n",
       "      <td>2317</td>\n",
       "      <td>4.574175e+05</td>\n",
       "    </tr>\n",
       "    <tr>\n",
       "      <th>30</th>\n",
       "      <td>Cornwall</td>\n",
       "      <td>368</td>\n",
       "      <td>4.563325e+05</td>\n",
       "    </tr>\n",
       "    <tr>\n",
       "      <th>59</th>\n",
       "      <td>Guilford</td>\n",
       "      <td>5022</td>\n",
       "      <td>4.510937e+05</td>\n",
       "    </tr>\n",
       "    <tr>\n",
       "      <th>96</th>\n",
       "      <td>Newtown</td>\n",
       "      <td>5617</td>\n",
       "      <td>4.453244e+05</td>\n",
       "    </tr>\n",
       "    <tr>\n",
       "      <th>104</th>\n",
       "      <td>Old Lyme</td>\n",
       "      <td>2408</td>\n",
       "      <td>4.405288e+05</td>\n",
       "    </tr>\n",
       "    <tr>\n",
       "      <th>143</th>\n",
       "      <td>Trumbull</td>\n",
       "      <td>7149</td>\n",
       "      <td>4.289096e+05</td>\n",
       "    </tr>\n",
       "    <tr>\n",
       "      <th>90</th>\n",
       "      <td>New Fairfield</td>\n",
       "      <td>3044</td>\n",
       "      <td>4.204402e+05</td>\n",
       "    </tr>\n",
       "    <tr>\n",
       "      <th>54</th>\n",
       "      <td>Goshen</td>\n",
       "      <td>943</td>\n",
       "      <td>4.108782e+05</td>\n",
       "    </tr>\n",
       "    <tr>\n",
       "      <th>136</th>\n",
       "      <td>Stonington</td>\n",
       "      <td>4318</td>\n",
       "      <td>4.088409e+05</td>\n",
       "    </tr>\n",
       "    <tr>\n",
       "      <th>73</th>\n",
       "      <td>Litchfield</td>\n",
       "      <td>2013</td>\n",
       "      <td>4.087688e+05</td>\n",
       "    </tr>\n",
       "    <tr>\n",
       "      <th>17</th>\n",
       "      <td>Brookfield</td>\n",
       "      <td>3785</td>\n",
       "      <td>4.005954e+05</td>\n",
       "    </tr>\n",
       "    <tr>\n",
       "      <th>84</th>\n",
       "      <td>Monroe</td>\n",
       "      <td>4737</td>\n",
       "      <td>3.868961e+05</td>\n",
       "    </tr>\n",
       "    <tr>\n",
       "      <th>107</th>\n",
       "      <td>Oxford</td>\n",
       "      <td>2556</td>\n",
       "      <td>3.845723e+05</td>\n",
       "    </tr>\n",
       "    <tr>\n",
       "      <th>86</th>\n",
       "      <td>Morris</td>\n",
       "      <td>535</td>\n",
       "      <td>3.838456e+05</td>\n",
       "    </tr>\n",
       "    <tr>\n",
       "      <th>51</th>\n",
       "      <td>Farmington</td>\n",
       "      <td>6239</td>\n",
       "      <td>3.795337e+05</td>\n",
       "    </tr>\n",
       "    <tr>\n",
       "      <th>53</th>\n",
       "      <td>Glastonbury</td>\n",
       "      <td>8497</td>\n",
       "      <td>3.774452e+05</td>\n",
       "    </tr>\n",
       "    <tr>\n",
       "      <th>80</th>\n",
       "      <td>Middlebury</td>\n",
       "      <td>1711</td>\n",
       "      <td>3.770100e+05</td>\n",
       "    </tr>\n",
       "    <tr>\n",
       "      <th>153</th>\n",
       "      <td>West Hartford</td>\n",
       "      <td>14374</td>\n",
       "      <td>3.729284e+05</td>\n",
       "    </tr>\n",
       "    <tr>\n",
       "      <th>97</th>\n",
       "      <td>Norfolk</td>\n",
       "      <td>435</td>\n",
       "      <td>3.727131e+05</td>\n",
       "    </tr>\n",
       "    <tr>\n",
       "      <th>7</th>\n",
       "      <td>Bethany</td>\n",
       "      <td>1047</td>\n",
       "      <td>3.691940e+05</td>\n",
       "    </tr>\n",
       "    <tr>\n",
       "      <th>24</th>\n",
       "      <td>Cheshire</td>\n",
       "      <td>5899</td>\n",
       "      <td>3.666426e+05</td>\n",
       "    </tr>\n",
       "    <tr>\n",
       "      <th>155</th>\n",
       "      <td>Westbrook</td>\n",
       "      <td>1771</td>\n",
       "      <td>3.663487e+05</td>\n",
       "    </tr>\n",
       "  </tbody>\n",
       "</table>\n",
       "</div>"
      ],
      "text/plain": [
       "              City  count   Sale Amount\n",
       "159     Willington    886  6.520148e+06\n",
       "56       Greenwich  13172  2.138700e+06\n",
       "34          Darien   5294  1.691203e+06\n",
       "89      New Canaan   5480  1.573673e+06\n",
       "157       Westport   7135  1.518927e+06\n",
       "156         Weston   2633  9.816976e+05\n",
       "149     Washington   1143  9.581952e+05\n",
       "160         Wilton   4137  9.044377e+05\n",
       "119        Roxbury    600  8.731626e+05\n",
       "118     Rocky Hill   3984  7.902664e+05\n",
       "134       Stamford  21468  7.731125e+05\n",
       "50       Fairfield  13366  7.378665e+05\n",
       "117     Ridgefield   5979  7.344107e+05\n",
       "148         Warren    354  7.192400e+05\n",
       "121      Salisbury   1058  7.182877e+05\n",
       "46          Easton   1895  6.632140e+05\n",
       "15     Bridgewater    397  6.557535e+05\n",
       "116        Redding   1832  6.376093e+05\n",
       "74            Lyme    613  6.198404e+05\n",
       "124         Sharon    954  6.176789e+05\n",
       "102        Norwalk  17597  5.849643e+05\n",
       "126        Sherman    975  5.518189e+05\n",
       "75         Madison   4864  5.503207e+05\n",
       "49           Essex   1985  5.073227e+05\n",
       "67            Kent    829  5.059334e+05\n",
       "105   Old Saybrook   3219  4.845101e+05\n",
       "166     Woodbridge   1943  4.653591e+05\n",
       "3             Avon   5333  4.635529e+05\n",
       "106         Orange   2317  4.574175e+05\n",
       "30        Cornwall    368  4.563325e+05\n",
       "59        Guilford   5022  4.510937e+05\n",
       "96         Newtown   5617  4.453244e+05\n",
       "104       Old Lyme   2408  4.405288e+05\n",
       "143       Trumbull   7149  4.289096e+05\n",
       "90   New Fairfield   3044  4.204402e+05\n",
       "54          Goshen    943  4.108782e+05\n",
       "136     Stonington   4318  4.088409e+05\n",
       "73      Litchfield   2013  4.087688e+05\n",
       "17      Brookfield   3785  4.005954e+05\n",
       "84          Monroe   4737  3.868961e+05\n",
       "107         Oxford   2556  3.845723e+05\n",
       "86          Morris    535  3.838456e+05\n",
       "51      Farmington   6239  3.795337e+05\n",
       "53     Glastonbury   8497  3.774452e+05\n",
       "80      Middlebury   1711  3.770100e+05\n",
       "153  West Hartford  14374  3.729284e+05\n",
       "97         Norfolk    435  3.727131e+05\n",
       "7          Bethany   1047  3.691940e+05\n",
       "24        Cheshire   5899  3.666426e+05\n",
       "155      Westbrook   1771  3.663487e+05"
      ]
     },
     "execution_count": 229,
     "metadata": {},
     "output_type": "execute_result"
    }
   ],
   "source": [
    "transaction_avg_comparision = pd.merge(number_properties_sold_per_town,average_sale_price,on='City',how='outer').sort_values(by='Sale Amount', ascending=False)\n",
    "transaction_avg_comparision.head(50)"
   ]
  },
  {
   "cell_type": "markdown",
   "id": "9de09339-1204-40d9-991e-02b53e15b3ed",
   "metadata": {},
   "source": [
    "# What is the percentage of properties sold below the assessed value?"
   ]
  },
  {
   "cell_type": "code",
   "execution_count": 231,
   "id": "159af65d-d845-481d-afed-46a0dea985ff",
   "metadata": {},
   "outputs": [
    {
     "data": {
      "text/html": [
       "<div>\n",
       "<style scoped>\n",
       "    .dataframe tbody tr th:only-of-type {\n",
       "        vertical-align: middle;\n",
       "    }\n",
       "\n",
       "    .dataframe tbody tr th {\n",
       "        vertical-align: top;\n",
       "    }\n",
       "\n",
       "    .dataframe thead th {\n",
       "        text-align: right;\n",
       "    }\n",
       "</style>\n",
       "<table border=\"1\" class=\"dataframe\">\n",
       "  <thead>\n",
       "    <tr style=\"text-align: right;\">\n",
       "      <th></th>\n",
       "      <th>List Year</th>\n",
       "      <th>Sales Date</th>\n",
       "      <th>City</th>\n",
       "      <th>Assessed Value</th>\n",
       "      <th>Sale Amount</th>\n",
       "      <th>Sales Ratio</th>\n",
       "      <th>Property Type</th>\n",
       "      <th>Sales Year</th>\n",
       "      <th>difference_value</th>\n",
       "    </tr>\n",
       "  </thead>\n",
       "  <tbody>\n",
       "    <tr>\n",
       "      <th>25</th>\n",
       "      <td>2020</td>\n",
       "      <td>2021-01-06</td>\n",
       "      <td>Bristol</td>\n",
       "      <td>47530.0</td>\n",
       "      <td>44900.0</td>\n",
       "      <td>1.0585</td>\n",
       "      <td>Vacant Land</td>\n",
       "      <td>2021</td>\n",
       "      <td>-2630.0</td>\n",
       "    </tr>\n",
       "    <tr>\n",
       "      <th>40</th>\n",
       "      <td>2020</td>\n",
       "      <td>2021-04-29</td>\n",
       "      <td>Coventry</td>\n",
       "      <td>83400.0</td>\n",
       "      <td>65000.0</td>\n",
       "      <td>1.2830</td>\n",
       "      <td>Single Family</td>\n",
       "      <td>2021</td>\n",
       "      <td>-18400.0</td>\n",
       "    </tr>\n",
       "    <tr>\n",
       "      <th>206</th>\n",
       "      <td>2020</td>\n",
       "      <td>2020-10-16</td>\n",
       "      <td>Portland</td>\n",
       "      <td>56420.0</td>\n",
       "      <td>56400.0</td>\n",
       "      <td>1.0003</td>\n",
       "      <td>Vacant Land</td>\n",
       "      <td>2020</td>\n",
       "      <td>-20.0</td>\n",
       "    </tr>\n",
       "    <tr>\n",
       "      <th>312</th>\n",
       "      <td>2020</td>\n",
       "      <td>2020-12-01</td>\n",
       "      <td>Colebrook</td>\n",
       "      <td>203700.0</td>\n",
       "      <td>178000.0</td>\n",
       "      <td>1.1443</td>\n",
       "      <td>Single Family</td>\n",
       "      <td>2020</td>\n",
       "      <td>-25700.0</td>\n",
       "    </tr>\n",
       "    <tr>\n",
       "      <th>348</th>\n",
       "      <td>2020</td>\n",
       "      <td>2021-05-06</td>\n",
       "      <td>East Lyme</td>\n",
       "      <td>334600.0</td>\n",
       "      <td>260000.0</td>\n",
       "      <td>1.2869</td>\n",
       "      <td>Single Family</td>\n",
       "      <td>2021</td>\n",
       "      <td>-74600.0</td>\n",
       "    </tr>\n",
       "    <tr>\n",
       "      <th>...</th>\n",
       "      <td>...</td>\n",
       "      <td>...</td>\n",
       "      <td>...</td>\n",
       "      <td>...</td>\n",
       "      <td>...</td>\n",
       "      <td>...</td>\n",
       "      <td>...</td>\n",
       "      <td>...</td>\n",
       "      <td>...</td>\n",
       "    </tr>\n",
       "    <tr>\n",
       "      <th>712694</th>\n",
       "      <td>2022</td>\n",
       "      <td>2022-12-19</td>\n",
       "      <td>Windsor Locks</td>\n",
       "      <td>124180.0</td>\n",
       "      <td>110000.0</td>\n",
       "      <td>1.1289</td>\n",
       "      <td>Single Family</td>\n",
       "      <td>2022</td>\n",
       "      <td>-14180.0</td>\n",
       "    </tr>\n",
       "    <tr>\n",
       "      <th>712707</th>\n",
       "      <td>2022</td>\n",
       "      <td>2023-02-24</td>\n",
       "      <td>Stamford</td>\n",
       "      <td>373750.0</td>\n",
       "      <td>250000.0</td>\n",
       "      <td>1.4950</td>\n",
       "      <td>Two Family</td>\n",
       "      <td>2023</td>\n",
       "      <td>-123750.0</td>\n",
       "    </tr>\n",
       "    <tr>\n",
       "      <th>712733</th>\n",
       "      <td>2022</td>\n",
       "      <td>2023-01-18</td>\n",
       "      <td>Weston</td>\n",
       "      <td>2189810.0</td>\n",
       "      <td>1183311.0</td>\n",
       "      <td>1.8505</td>\n",
       "      <td>Single Family</td>\n",
       "      <td>2023</td>\n",
       "      <td>-1006499.0</td>\n",
       "    </tr>\n",
       "    <tr>\n",
       "      <th>712744</th>\n",
       "      <td>2022</td>\n",
       "      <td>2022-11-23</td>\n",
       "      <td>Plymouth</td>\n",
       "      <td>38080.0</td>\n",
       "      <td>25000.0</td>\n",
       "      <td>1.5232</td>\n",
       "      <td>Vacant Land</td>\n",
       "      <td>2022</td>\n",
       "      <td>-13080.0</td>\n",
       "    </tr>\n",
       "    <tr>\n",
       "      <th>712745</th>\n",
       "      <td>2022</td>\n",
       "      <td>2023-03-27</td>\n",
       "      <td>Seymour</td>\n",
       "      <td>140590.0</td>\n",
       "      <td>65000.0</td>\n",
       "      <td>2.1629</td>\n",
       "      <td>Single Family</td>\n",
       "      <td>2023</td>\n",
       "      <td>-75590.0</td>\n",
       "    </tr>\n",
       "  </tbody>\n",
       "</table>\n",
       "<p>97487 rows × 9 columns</p>\n",
       "</div>"
      ],
      "text/plain": [
       "        List Year Sales Date           City  Assessed Value  Sale Amount  \\\n",
       "25           2020 2021-01-06        Bristol         47530.0      44900.0   \n",
       "40           2020 2021-04-29       Coventry         83400.0      65000.0   \n",
       "206          2020 2020-10-16       Portland         56420.0      56400.0   \n",
       "312          2020 2020-12-01      Colebrook        203700.0     178000.0   \n",
       "348          2020 2021-05-06      East Lyme        334600.0     260000.0   \n",
       "...           ...        ...            ...             ...          ...   \n",
       "712694       2022 2022-12-19  Windsor Locks        124180.0     110000.0   \n",
       "712707       2022 2023-02-24       Stamford        373750.0     250000.0   \n",
       "712733       2022 2023-01-18         Weston       2189810.0    1183311.0   \n",
       "712744       2022 2022-11-23       Plymouth         38080.0      25000.0   \n",
       "712745       2022 2023-03-27        Seymour        140590.0      65000.0   \n",
       "\n",
       "        Sales Ratio  Property Type  Sales Year  difference_value  \n",
       "25           1.0585    Vacant Land        2021           -2630.0  \n",
       "40           1.2830  Single Family        2021          -18400.0  \n",
       "206          1.0003    Vacant Land        2020             -20.0  \n",
       "312          1.1443  Single Family        2020          -25700.0  \n",
       "348          1.2869  Single Family        2021          -74600.0  \n",
       "...             ...            ...         ...               ...  \n",
       "712694       1.1289  Single Family        2022          -14180.0  \n",
       "712707       1.4950     Two Family        2023         -123750.0  \n",
       "712733       1.8505  Single Family        2023        -1006499.0  \n",
       "712744       1.5232    Vacant Land        2022          -13080.0  \n",
       "712745       2.1629  Single Family        2023          -75590.0  \n",
       "\n",
       "[97487 rows x 9 columns]"
      ]
     },
     "execution_count": 231,
     "metadata": {},
     "output_type": "execute_result"
    }
   ],
   "source": [
    "sold_below_assessed_value = real_estate_df[real_estate_df['difference_value']<=0]\n",
    "sold_below_assessed_value"
   ]
  },
  {
   "cell_type": "markdown",
   "id": "8213616c-d9eb-40bc-b8e8-66829ed1caea",
   "metadata": {},
   "source": [
    "# How do sale prices compare for different property types?"
   ]
  },
  {
   "cell_type": "code",
   "execution_count": 233,
   "id": "a5a72c5a-f60d-49f1-81d2-d09a234f81d9",
   "metadata": {},
   "outputs": [
    {
     "data": {
      "text/html": [
       "<div>\n",
       "<style scoped>\n",
       "    .dataframe tbody tr th:only-of-type {\n",
       "        vertical-align: middle;\n",
       "    }\n",
       "\n",
       "    .dataframe tbody tr th {\n",
       "        vertical-align: top;\n",
       "    }\n",
       "\n",
       "    .dataframe thead th {\n",
       "        text-align: right;\n",
       "    }\n",
       "</style>\n",
       "<table border=\"1\" class=\"dataframe\">\n",
       "  <thead>\n",
       "    <tr style=\"text-align: right;\">\n",
       "      <th></th>\n",
       "      <th>City</th>\n",
       "      <th>Property Type</th>\n",
       "      <th>Average Sale Price</th>\n",
       "    </tr>\n",
       "  </thead>\n",
       "  <tbody>\n",
       "    <tr>\n",
       "      <th>0</th>\n",
       "      <td>Andover</td>\n",
       "      <td>Commercial</td>\n",
       "      <td>1.367500e+06</td>\n",
       "    </tr>\n",
       "    <tr>\n",
       "      <th>1</th>\n",
       "      <td>Andover</td>\n",
       "      <td>Single Family</td>\n",
       "      <td>2.540316e+05</td>\n",
       "    </tr>\n",
       "    <tr>\n",
       "      <th>2</th>\n",
       "      <td>Andover</td>\n",
       "      <td>Two Family</td>\n",
       "      <td>2.641000e+05</td>\n",
       "    </tr>\n",
       "    <tr>\n",
       "      <th>3</th>\n",
       "      <td>Andover</td>\n",
       "      <td>Vacant Land</td>\n",
       "      <td>1.331319e+05</td>\n",
       "    </tr>\n",
       "    <tr>\n",
       "      <th>4</th>\n",
       "      <td>Ansonia</td>\n",
       "      <td>Apartments</td>\n",
       "      <td>6.021667e+05</td>\n",
       "    </tr>\n",
       "    <tr>\n",
       "      <th>...</th>\n",
       "      <td>...</td>\n",
       "      <td>...</td>\n",
       "      <td>...</td>\n",
       "    </tr>\n",
       "    <tr>\n",
       "      <th>95</th>\n",
       "      <td>Branford</td>\n",
       "      <td>Single Family</td>\n",
       "      <td>4.102281e+05</td>\n",
       "    </tr>\n",
       "    <tr>\n",
       "      <th>96</th>\n",
       "      <td>Branford</td>\n",
       "      <td>Three Family</td>\n",
       "      <td>3.756471e+05</td>\n",
       "    </tr>\n",
       "    <tr>\n",
       "      <th>97</th>\n",
       "      <td>Branford</td>\n",
       "      <td>Two Family</td>\n",
       "      <td>3.369013e+05</td>\n",
       "    </tr>\n",
       "    <tr>\n",
       "      <th>98</th>\n",
       "      <td>Branford</td>\n",
       "      <td>Vacant Land</td>\n",
       "      <td>2.785448e+05</td>\n",
       "    </tr>\n",
       "    <tr>\n",
       "      <th>99</th>\n",
       "      <td>Bridgeport</td>\n",
       "      <td>Apartments</td>\n",
       "      <td>2.275429e+06</td>\n",
       "    </tr>\n",
       "  </tbody>\n",
       "</table>\n",
       "<p>100 rows × 3 columns</p>\n",
       "</div>"
      ],
      "text/plain": [
       "          City  Property Type  Average Sale Price\n",
       "0      Andover     Commercial        1.367500e+06\n",
       "1      Andover  Single Family        2.540316e+05\n",
       "2      Andover     Two Family        2.641000e+05\n",
       "3      Andover    Vacant Land        1.331319e+05\n",
       "4      Ansonia     Apartments        6.021667e+05\n",
       "..         ...            ...                 ...\n",
       "95    Branford  Single Family        4.102281e+05\n",
       "96    Branford   Three Family        3.756471e+05\n",
       "97    Branford     Two Family        3.369013e+05\n",
       "98    Branford    Vacant Land        2.785448e+05\n",
       "99  Bridgeport     Apartments        2.275429e+06\n",
       "\n",
       "[100 rows x 3 columns]"
      ]
     },
     "execution_count": 233,
     "metadata": {},
     "output_type": "execute_result"
    }
   ],
   "source": [
    "avg_price_per_property = real_estate_df.groupby(['City', 'Property Type'])['Sale Amount'].mean().reset_index()\n",
    "\n",
    "avg_price_per_property = avg_price_per_property.rename(columns={'Sale Amount': 'Average Sale Price'})\n",
    "\n",
    "avg_price_per_property.head(100)"
   ]
  },
  {
   "cell_type": "markdown",
   "id": "3c9b2ee0-28f2-491b-aad1-810f64dd29f9",
   "metadata": {},
   "source": [
    "# Assessed Sales Ratio Trend with Properties in Towns"
   ]
  },
  {
   "cell_type": "code",
   "execution_count": 235,
   "id": "b71ddb7f-cb89-4d0e-85a7-eff59cb8aafa",
   "metadata": {},
   "outputs": [],
   "source": [
    "median_asr_df = real_estate_df.groupby(['City', 'Sales Year', 'Property Type'], as_index=False)['Sales Ratio'].median()\n",
    "\n",
    "median_asr_df['ASR Trend'] = 'Stable'\n",
    "\n",
    "median_asr_df['Previous ASR'] = median_asr_df.groupby(['City', 'Property Type'])['Sales Ratio'].shift(1)\n",
    "\n",
    "median_asr_df.loc[median_asr_df['Sales Ratio'] > median_asr_df['Previous ASR'], 'ASR Trend'] = 'Increasing'\n",
    "median_asr_df.loc[median_asr_df['Sales Ratio'] < median_asr_df['Previous ASR'], 'ASR Trend'] = 'Decreasing'\n",
    "\n",
    "median_asr_df.loc[median_asr_df['Previous ASR'].isna(), 'ASR Trend'] = 'Stable'"
   ]
  },
  {
   "cell_type": "code",
   "execution_count": 236,
   "id": "1e16812b-bef6-4159-bba5-5743cb1af277",
   "metadata": {},
   "outputs": [
    {
     "data": {
      "text/html": [
       "<div>\n",
       "<style scoped>\n",
       "    .dataframe tbody tr th:only-of-type {\n",
       "        vertical-align: middle;\n",
       "    }\n",
       "\n",
       "    .dataframe tbody tr th {\n",
       "        vertical-align: top;\n",
       "    }\n",
       "\n",
       "    .dataframe thead th {\n",
       "        text-align: right;\n",
       "    }\n",
       "</style>\n",
       "<table border=\"1\" class=\"dataframe\">\n",
       "  <thead>\n",
       "    <tr style=\"text-align: right;\">\n",
       "      <th></th>\n",
       "      <th>City</th>\n",
       "      <th>Sales Year</th>\n",
       "      <th>Property Type</th>\n",
       "      <th>Sales Ratio</th>\n",
       "      <th>ASR Trend</th>\n",
       "      <th>Previous ASR</th>\n",
       "    </tr>\n",
       "  </thead>\n",
       "  <tbody>\n",
       "    <tr>\n",
       "      <th>0</th>\n",
       "      <td>Andover</td>\n",
       "      <td>2007</td>\n",
       "      <td>Single Family</td>\n",
       "      <td>0.705319</td>\n",
       "      <td>Stable</td>\n",
       "      <td>NaN</td>\n",
       "    </tr>\n",
       "    <tr>\n",
       "      <th>1</th>\n",
       "      <td>Andover</td>\n",
       "      <td>2008</td>\n",
       "      <td>Single Family</td>\n",
       "      <td>0.680764</td>\n",
       "      <td>Decreasing</td>\n",
       "      <td>0.705319</td>\n",
       "    </tr>\n",
       "    <tr>\n",
       "      <th>2</th>\n",
       "      <td>Andover</td>\n",
       "      <td>2009</td>\n",
       "      <td>Single Family</td>\n",
       "      <td>0.749369</td>\n",
       "      <td>Increasing</td>\n",
       "      <td>0.680764</td>\n",
       "    </tr>\n",
       "    <tr>\n",
       "      <th>3</th>\n",
       "      <td>Andover</td>\n",
       "      <td>2010</td>\n",
       "      <td>Single Family</td>\n",
       "      <td>0.798071</td>\n",
       "      <td>Increasing</td>\n",
       "      <td>0.749369</td>\n",
       "    </tr>\n",
       "    <tr>\n",
       "      <th>4</th>\n",
       "      <td>Andover</td>\n",
       "      <td>2011</td>\n",
       "      <td>Single Family</td>\n",
       "      <td>0.788410</td>\n",
       "      <td>Decreasing</td>\n",
       "      <td>0.798071</td>\n",
       "    </tr>\n",
       "    <tr>\n",
       "      <th>5</th>\n",
       "      <td>Andover</td>\n",
       "      <td>2012</td>\n",
       "      <td>Single Family</td>\n",
       "      <td>0.742632</td>\n",
       "      <td>Decreasing</td>\n",
       "      <td>0.788410</td>\n",
       "    </tr>\n",
       "    <tr>\n",
       "      <th>6</th>\n",
       "      <td>Andover</td>\n",
       "      <td>2013</td>\n",
       "      <td>Single Family</td>\n",
       "      <td>0.698228</td>\n",
       "      <td>Decreasing</td>\n",
       "      <td>0.742632</td>\n",
       "    </tr>\n",
       "    <tr>\n",
       "      <th>7</th>\n",
       "      <td>Andover</td>\n",
       "      <td>2013</td>\n",
       "      <td>Two Family</td>\n",
       "      <td>1.062400</td>\n",
       "      <td>Stable</td>\n",
       "      <td>NaN</td>\n",
       "    </tr>\n",
       "    <tr>\n",
       "      <th>8</th>\n",
       "      <td>Andover</td>\n",
       "      <td>2014</td>\n",
       "      <td>Single Family</td>\n",
       "      <td>0.712195</td>\n",
       "      <td>Increasing</td>\n",
       "      <td>0.698228</td>\n",
       "    </tr>\n",
       "    <tr>\n",
       "      <th>9</th>\n",
       "      <td>Andover</td>\n",
       "      <td>2014</td>\n",
       "      <td>Two Family</td>\n",
       "      <td>0.570066</td>\n",
       "      <td>Decreasing</td>\n",
       "      <td>1.062400</td>\n",
       "    </tr>\n",
       "    <tr>\n",
       "      <th>10</th>\n",
       "      <td>Andover</td>\n",
       "      <td>2015</td>\n",
       "      <td>Single Family</td>\n",
       "      <td>0.787174</td>\n",
       "      <td>Increasing</td>\n",
       "      <td>0.712195</td>\n",
       "    </tr>\n",
       "    <tr>\n",
       "      <th>11</th>\n",
       "      <td>Andover</td>\n",
       "      <td>2016</td>\n",
       "      <td>Single Family</td>\n",
       "      <td>0.746541</td>\n",
       "      <td>Decreasing</td>\n",
       "      <td>0.787174</td>\n",
       "    </tr>\n",
       "    <tr>\n",
       "      <th>12</th>\n",
       "      <td>Andover</td>\n",
       "      <td>2017</td>\n",
       "      <td>Single Family</td>\n",
       "      <td>0.753640</td>\n",
       "      <td>Increasing</td>\n",
       "      <td>0.746541</td>\n",
       "    </tr>\n",
       "    <tr>\n",
       "      <th>13</th>\n",
       "      <td>Andover</td>\n",
       "      <td>2018</td>\n",
       "      <td>Single Family</td>\n",
       "      <td>0.710100</td>\n",
       "      <td>Decreasing</td>\n",
       "      <td>0.753640</td>\n",
       "    </tr>\n",
       "    <tr>\n",
       "      <th>14</th>\n",
       "      <td>Andover</td>\n",
       "      <td>2019</td>\n",
       "      <td>Single Family</td>\n",
       "      <td>0.663400</td>\n",
       "      <td>Decreasing</td>\n",
       "      <td>0.710100</td>\n",
       "    </tr>\n",
       "    <tr>\n",
       "      <th>15</th>\n",
       "      <td>Andover</td>\n",
       "      <td>2019</td>\n",
       "      <td>Two Family</td>\n",
       "      <td>0.578800</td>\n",
       "      <td>Increasing</td>\n",
       "      <td>0.570066</td>\n",
       "    </tr>\n",
       "    <tr>\n",
       "      <th>16</th>\n",
       "      <td>Andover</td>\n",
       "      <td>2020</td>\n",
       "      <td>Single Family</td>\n",
       "      <td>0.642300</td>\n",
       "      <td>Decreasing</td>\n",
       "      <td>0.663400</td>\n",
       "    </tr>\n",
       "    <tr>\n",
       "      <th>17</th>\n",
       "      <td>Andover</td>\n",
       "      <td>2020</td>\n",
       "      <td>Two Family</td>\n",
       "      <td>0.974900</td>\n",
       "      <td>Increasing</td>\n",
       "      <td>0.578800</td>\n",
       "    </tr>\n",
       "    <tr>\n",
       "      <th>18</th>\n",
       "      <td>Andover</td>\n",
       "      <td>2020</td>\n",
       "      <td>Vacant Land</td>\n",
       "      <td>0.040137</td>\n",
       "      <td>Stable</td>\n",
       "      <td>NaN</td>\n",
       "    </tr>\n",
       "    <tr>\n",
       "      <th>19</th>\n",
       "      <td>Andover</td>\n",
       "      <td>2021</td>\n",
       "      <td>Single Family</td>\n",
       "      <td>0.575000</td>\n",
       "      <td>Decreasing</td>\n",
       "      <td>0.642300</td>\n",
       "    </tr>\n",
       "    <tr>\n",
       "      <th>20</th>\n",
       "      <td>Andover</td>\n",
       "      <td>2021</td>\n",
       "      <td>Vacant Land</td>\n",
       "      <td>0.700300</td>\n",
       "      <td>Increasing</td>\n",
       "      <td>0.040137</td>\n",
       "    </tr>\n",
       "    <tr>\n",
       "      <th>21</th>\n",
       "      <td>Andover</td>\n",
       "      <td>2022</td>\n",
       "      <td>Single Family</td>\n",
       "      <td>0.511050</td>\n",
       "      <td>Decreasing</td>\n",
       "      <td>0.575000</td>\n",
       "    </tr>\n",
       "    <tr>\n",
       "      <th>22</th>\n",
       "      <td>Andover</td>\n",
       "      <td>2022</td>\n",
       "      <td>Vacant Land</td>\n",
       "      <td>0.091000</td>\n",
       "      <td>Decreasing</td>\n",
       "      <td>0.700300</td>\n",
       "    </tr>\n",
       "    <tr>\n",
       "      <th>23</th>\n",
       "      <td>Andover</td>\n",
       "      <td>2023</td>\n",
       "      <td>Commercial</td>\n",
       "      <td>0.418900</td>\n",
       "      <td>Stable</td>\n",
       "      <td>NaN</td>\n",
       "    </tr>\n",
       "    <tr>\n",
       "      <th>24</th>\n",
       "      <td>Andover</td>\n",
       "      <td>2023</td>\n",
       "      <td>Single Family</td>\n",
       "      <td>0.565300</td>\n",
       "      <td>Increasing</td>\n",
       "      <td>0.511050</td>\n",
       "    </tr>\n",
       "    <tr>\n",
       "      <th>25</th>\n",
       "      <td>Andover</td>\n",
       "      <td>2023</td>\n",
       "      <td>Vacant Land</td>\n",
       "      <td>0.609400</td>\n",
       "      <td>Increasing</td>\n",
       "      <td>0.091000</td>\n",
       "    </tr>\n",
       "    <tr>\n",
       "      <th>26</th>\n",
       "      <td>Ansonia</td>\n",
       "      <td>2006</td>\n",
       "      <td>Condo</td>\n",
       "      <td>0.457436</td>\n",
       "      <td>Stable</td>\n",
       "      <td>NaN</td>\n",
       "    </tr>\n",
       "    <tr>\n",
       "      <th>27</th>\n",
       "      <td>Ansonia</td>\n",
       "      <td>2006</td>\n",
       "      <td>Single Family</td>\n",
       "      <td>0.455556</td>\n",
       "      <td>Stable</td>\n",
       "      <td>NaN</td>\n",
       "    </tr>\n",
       "    <tr>\n",
       "      <th>28</th>\n",
       "      <td>Ansonia</td>\n",
       "      <td>2006</td>\n",
       "      <td>Three Family</td>\n",
       "      <td>0.400916</td>\n",
       "      <td>Stable</td>\n",
       "      <td>NaN</td>\n",
       "    </tr>\n",
       "    <tr>\n",
       "      <th>29</th>\n",
       "      <td>Ansonia</td>\n",
       "      <td>2006</td>\n",
       "      <td>Two Family</td>\n",
       "      <td>0.417954</td>\n",
       "      <td>Stable</td>\n",
       "      <td>NaN</td>\n",
       "    </tr>\n",
       "  </tbody>\n",
       "</table>\n",
       "</div>"
      ],
      "text/plain": [
       "       City  Sales Year  Property Type  Sales Ratio   ASR Trend  Previous ASR\n",
       "0   Andover        2007  Single Family     0.705319      Stable           NaN\n",
       "1   Andover        2008  Single Family     0.680764  Decreasing      0.705319\n",
       "2   Andover        2009  Single Family     0.749369  Increasing      0.680764\n",
       "3   Andover        2010  Single Family     0.798071  Increasing      0.749369\n",
       "4   Andover        2011  Single Family     0.788410  Decreasing      0.798071\n",
       "5   Andover        2012  Single Family     0.742632  Decreasing      0.788410\n",
       "6   Andover        2013  Single Family     0.698228  Decreasing      0.742632\n",
       "7   Andover        2013     Two Family     1.062400      Stable           NaN\n",
       "8   Andover        2014  Single Family     0.712195  Increasing      0.698228\n",
       "9   Andover        2014     Two Family     0.570066  Decreasing      1.062400\n",
       "10  Andover        2015  Single Family     0.787174  Increasing      0.712195\n",
       "11  Andover        2016  Single Family     0.746541  Decreasing      0.787174\n",
       "12  Andover        2017  Single Family     0.753640  Increasing      0.746541\n",
       "13  Andover        2018  Single Family     0.710100  Decreasing      0.753640\n",
       "14  Andover        2019  Single Family     0.663400  Decreasing      0.710100\n",
       "15  Andover        2019     Two Family     0.578800  Increasing      0.570066\n",
       "16  Andover        2020  Single Family     0.642300  Decreasing      0.663400\n",
       "17  Andover        2020     Two Family     0.974900  Increasing      0.578800\n",
       "18  Andover        2020    Vacant Land     0.040137      Stable           NaN\n",
       "19  Andover        2021  Single Family     0.575000  Decreasing      0.642300\n",
       "20  Andover        2021    Vacant Land     0.700300  Increasing      0.040137\n",
       "21  Andover        2022  Single Family     0.511050  Decreasing      0.575000\n",
       "22  Andover        2022    Vacant Land     0.091000  Decreasing      0.700300\n",
       "23  Andover        2023     Commercial     0.418900      Stable           NaN\n",
       "24  Andover        2023  Single Family     0.565300  Increasing      0.511050\n",
       "25  Andover        2023    Vacant Land     0.609400  Increasing      0.091000\n",
       "26  Ansonia        2006          Condo     0.457436      Stable           NaN\n",
       "27  Ansonia        2006  Single Family     0.455556      Stable           NaN\n",
       "28  Ansonia        2006   Three Family     0.400916      Stable           NaN\n",
       "29  Ansonia        2006     Two Family     0.417954      Stable           NaN"
      ]
     },
     "execution_count": 236,
     "metadata": {},
     "output_type": "execute_result"
    }
   ],
   "source": [
    "median_asr_df.head(30)"
   ]
  },
  {
   "cell_type": "code",
   "execution_count": 237,
   "id": "7b76aebb-d7ba-4b3a-8898-bdbb3e27c28a",
   "metadata": {},
   "outputs": [
    {
     "data": {
      "image/png": "[encoded data removed]",
      "text/plain": [
       "<Figure size 1000x500 with 1 Axes>"
      ]
     },
     "metadata": {},
     "output_type": "display_data"
    }
   ],
   "source": [
    "import matplotlib.pyplot as plt\n",
    "\n",
    "def plot_sales_ratio_trend(df, city, property_type):\n",
    "    \"\"\"\n",
    "    Plots the Sales Ratio trend over time for a given City and Property Type.\n",
    "\n",
    "    Parameters:\n",
    "        df (DataFrame): The DataFrame containing Sales Ratio data.\n",
    "        city (str): The city name to filter data.\n",
    "        property_type (str): The property type to filter data.\n",
    "    \"\"\"\n",
    "    # Filter data for the selected city and property type\n",
    "    filtered_df = df[(df[\"City\"] == city) & (df[\"Property Type\"] == property_type)]\n",
    "\n",
    "    # Sort data by Sales Year\n",
    "    filtered_df = filtered_df.sort_values(\"Sales Year\")\n",
    "\n",
    "    # Check if data exists for the given filters\n",
    "    if filtered_df.empty:\n",
    "        print(f\"No data found for {city} - {property_type}\")\n",
    "        return\n",
    "\n",
    "    # Plot the line graph\n",
    "    plt.figure(figsize=(10, 5))\n",
    "    plt.plot(filtered_df[\"Sales Year\"], filtered_df[\"Sales Ratio\"], marker=\"o\", linestyle=\"-\", color=\"b\", label=\"Sales Ratio\")\n",
    "\n",
    "    # Add labels and title\n",
    "    plt.xlabel(\"Sales Year\")\n",
    "    plt.ylabel(\"Sales Ratio\")\n",
    "    plt.title(f\"Sales Ratio Trend in {city} ({property_type})\")\n",
    "    plt.xticks(rotation=45)\n",
    "    plt.grid(True)\n",
    "    plt.legend()\n",
    "\n",
    "    # Show the graph\n",
    "    plt.show()\n",
    "\n",
    "\n",
    "plot_sales_ratio_trend(median_asr_df, \"Andover\", \"Two Family\")"
   ]
  },
  {
   "cell_type": "code",
   "execution_count": 238,
   "id": "19a4c581-069b-44d5-99c4-a10209bce885",
   "metadata": {},
   "outputs": [],
   "source": [
    "median_asr_df.to_csv(\"ASR_Trend_Per_Property_Per_City.csv\")"
   ]
  },
  {
   "cell_type": "markdown",
   "id": "06c26297-e11e-480d-9be4-2bc9ddedcc43",
   "metadata": {},
   "source": [
    "# Overall ASR Trend"
   ]
  },
  {
   "cell_type": "code",
   "execution_count": 240,
   "id": "56a2f306-4878-4d68-84fc-38ddee9f3c21",
   "metadata": {},
   "outputs": [],
   "source": [
    "overall_asr_trend = real_estate_df.groupby([\"City\", \"Sales Year\"], as_index=False)[\"Sales Ratio\"].median()\n",
    "\n",
    "overall_asr_trend[\"ASR Trend\"] = \"Stable\"\n",
    "\n",
    "overall_asr_trend[\"Previous ASR\"] = overall_asr_trend.groupby(\"City\")[\"Sales Ratio\"].shift(1)\n",
    "\n",
    "overall_asr_trend.loc[overall_asr_trend[\"Sales Ratio\"] > overall_asr_trend[\"Previous ASR\"], \"ASR Trend\"] = \"Increasing\"\n",
    "overall_asr_trend.loc[overall_asr_trend[\"Sales Ratio\"] < overall_asr_trend[\"Previous ASR\"], \"ASR Trend\"] = \"Decreasing\""
   ]
  },
  {
   "cell_type": "code",
   "execution_count": 241,
   "id": "0855375d-70c3-4582-93c9-40bcc621eb72",
   "metadata": {},
   "outputs": [],
   "source": [
    "overall_asr_trend.to_csv(\"Overall_ASR_Trend.csv\")"
   ]
  },
  {
   "cell_type": "markdown",
   "id": "1d439744-53d2-4d1f-a195-c07be8e4c602",
   "metadata": {},
   "source": [
    "# determined whether a property is over-assessed or under-assessed"
   ]
  },
  {
   "cell_type": "code",
   "execution_count": 243,
   "id": "932d3c77-7dbc-4690-923f-715347f0da5b",
   "metadata": {},
   "outputs": [],
   "source": [
    "real_estate_df[\"Assessment Status\"] = [\"Over-assessed\" if asr > 1 else \"Under-assessed\" if asr < 1 else \"Fairly assessed\" for asr in real_estate_df[\"Sales Ratio\"]]\n",
    "\n",
    "over_assessed = real_estate_df[real_estate_df[\"Sales Ratio\"] > 1]\n",
    "under_assessed = real_estate_df[real_estate_df[\"Sales Ratio\"] < 1]\n",
    "fairly_assessed = real_estate_df[real_estate_df[\"Sales Ratio\"] == 1]"
   ]
  },
  {
   "cell_type": "code",
   "execution_count": 244,
   "id": "4afed116-d6a7-4be2-8877-3f942b698887",
   "metadata": {},
   "outputs": [
    {
     "data": {
      "text/html": [
       "<div>\n",
       "<style scoped>\n",
       "    .dataframe tbody tr th:only-of-type {\n",
       "        vertical-align: middle;\n",
       "    }\n",
       "\n",
       "    .dataframe tbody tr th {\n",
       "        vertical-align: top;\n",
       "    }\n",
       "\n",
       "    .dataframe thead th {\n",
       "        text-align: right;\n",
       "    }\n",
       "</style>\n",
       "<table border=\"1\" class=\"dataframe\">\n",
       "  <thead>\n",
       "    <tr style=\"text-align: right;\">\n",
       "      <th></th>\n",
       "      <th>List Year</th>\n",
       "      <th>Sales Date</th>\n",
       "      <th>City</th>\n",
       "      <th>Assessed Value</th>\n",
       "      <th>Sale Amount</th>\n",
       "      <th>Sales Ratio</th>\n",
       "      <th>Property Type</th>\n",
       "      <th>Sales Year</th>\n",
       "      <th>difference_value</th>\n",
       "      <th>Assessment Status</th>\n",
       "    </tr>\n",
       "  </thead>\n",
       "  <tbody>\n",
       "    <tr>\n",
       "      <th>25</th>\n",
       "      <td>2020</td>\n",
       "      <td>2021-01-06</td>\n",
       "      <td>Bristol</td>\n",
       "      <td>47530.0</td>\n",
       "      <td>44900.0</td>\n",
       "      <td>1.0585</td>\n",
       "      <td>Vacant Land</td>\n",
       "      <td>2021</td>\n",
       "      <td>-2630.0</td>\n",
       "      <td>Over-assessed</td>\n",
       "    </tr>\n",
       "    <tr>\n",
       "      <th>40</th>\n",
       "      <td>2020</td>\n",
       "      <td>2021-04-29</td>\n",
       "      <td>Coventry</td>\n",
       "      <td>83400.0</td>\n",
       "      <td>65000.0</td>\n",
       "      <td>1.2830</td>\n",
       "      <td>Single Family</td>\n",
       "      <td>2021</td>\n",
       "      <td>-18400.0</td>\n",
       "      <td>Over-assessed</td>\n",
       "    </tr>\n",
       "    <tr>\n",
       "      <th>206</th>\n",
       "      <td>2020</td>\n",
       "      <td>2020-10-16</td>\n",
       "      <td>Portland</td>\n",
       "      <td>56420.0</td>\n",
       "      <td>56400.0</td>\n",
       "      <td>1.0003</td>\n",
       "      <td>Vacant Land</td>\n",
       "      <td>2020</td>\n",
       "      <td>-20.0</td>\n",
       "      <td>Over-assessed</td>\n",
       "    </tr>\n",
       "    <tr>\n",
       "      <th>312</th>\n",
       "      <td>2020</td>\n",
       "      <td>2020-12-01</td>\n",
       "      <td>Colebrook</td>\n",
       "      <td>203700.0</td>\n",
       "      <td>178000.0</td>\n",
       "      <td>1.1443</td>\n",
       "      <td>Single Family</td>\n",
       "      <td>2020</td>\n",
       "      <td>-25700.0</td>\n",
       "      <td>Over-assessed</td>\n",
       "    </tr>\n",
       "    <tr>\n",
       "      <th>348</th>\n",
       "      <td>2020</td>\n",
       "      <td>2021-05-06</td>\n",
       "      <td>East Lyme</td>\n",
       "      <td>334600.0</td>\n",
       "      <td>260000.0</td>\n",
       "      <td>1.2869</td>\n",
       "      <td>Single Family</td>\n",
       "      <td>2021</td>\n",
       "      <td>-74600.0</td>\n",
       "      <td>Over-assessed</td>\n",
       "    </tr>\n",
       "    <tr>\n",
       "      <th>...</th>\n",
       "      <td>...</td>\n",
       "      <td>...</td>\n",
       "      <td>...</td>\n",
       "      <td>...</td>\n",
       "      <td>...</td>\n",
       "      <td>...</td>\n",
       "      <td>...</td>\n",
       "      <td>...</td>\n",
       "      <td>...</td>\n",
       "      <td>...</td>\n",
       "    </tr>\n",
       "    <tr>\n",
       "      <th>712694</th>\n",
       "      <td>2022</td>\n",
       "      <td>2022-12-19</td>\n",
       "      <td>Windsor Locks</td>\n",
       "      <td>124180.0</td>\n",
       "      <td>110000.0</td>\n",
       "      <td>1.1289</td>\n",
       "      <td>Single Family</td>\n",
       "      <td>2022</td>\n",
       "      <td>-14180.0</td>\n",
       "      <td>Over-assessed</td>\n",
       "    </tr>\n",
       "    <tr>\n",
       "      <th>712707</th>\n",
       "      <td>2022</td>\n",
       "      <td>2023-02-24</td>\n",
       "      <td>Stamford</td>\n",
       "      <td>373750.0</td>\n",
       "      <td>250000.0</td>\n",
       "      <td>1.4950</td>\n",
       "      <td>Two Family</td>\n",
       "      <td>2023</td>\n",
       "      <td>-123750.0</td>\n",
       "      <td>Over-assessed</td>\n",
       "    </tr>\n",
       "    <tr>\n",
       "      <th>712733</th>\n",
       "      <td>2022</td>\n",
       "      <td>2023-01-18</td>\n",
       "      <td>Weston</td>\n",
       "      <td>2189810.0</td>\n",
       "      <td>1183311.0</td>\n",
       "      <td>1.8505</td>\n",
       "      <td>Single Family</td>\n",
       "      <td>2023</td>\n",
       "      <td>-1006499.0</td>\n",
       "      <td>Over-assessed</td>\n",
       "    </tr>\n",
       "    <tr>\n",
       "      <th>712744</th>\n",
       "      <td>2022</td>\n",
       "      <td>2022-11-23</td>\n",
       "      <td>Plymouth</td>\n",
       "      <td>38080.0</td>\n",
       "      <td>25000.0</td>\n",
       "      <td>1.5232</td>\n",
       "      <td>Vacant Land</td>\n",
       "      <td>2022</td>\n",
       "      <td>-13080.0</td>\n",
       "      <td>Over-assessed</td>\n",
       "    </tr>\n",
       "    <tr>\n",
       "      <th>712745</th>\n",
       "      <td>2022</td>\n",
       "      <td>2023-03-27</td>\n",
       "      <td>Seymour</td>\n",
       "      <td>140590.0</td>\n",
       "      <td>65000.0</td>\n",
       "      <td>2.1629</td>\n",
       "      <td>Single Family</td>\n",
       "      <td>2023</td>\n",
       "      <td>-75590.0</td>\n",
       "      <td>Over-assessed</td>\n",
       "    </tr>\n",
       "  </tbody>\n",
       "</table>\n",
       "<p>97165 rows × 10 columns</p>\n",
       "</div>"
      ],
      "text/plain": [
       "        List Year Sales Date           City  Assessed Value  Sale Amount  \\\n",
       "25           2020 2021-01-06        Bristol         47530.0      44900.0   \n",
       "40           2020 2021-04-29       Coventry         83400.0      65000.0   \n",
       "206          2020 2020-10-16       Portland         56420.0      56400.0   \n",
       "312          2020 2020-12-01      Colebrook        203700.0     178000.0   \n",
       "348          2020 2021-05-06      East Lyme        334600.0     260000.0   \n",
       "...           ...        ...            ...             ...          ...   \n",
       "712694       2022 2022-12-19  Windsor Locks        124180.0     110000.0   \n",
       "712707       2022 2023-02-24       Stamford        373750.0     250000.0   \n",
       "712733       2022 2023-01-18         Weston       2189810.0    1183311.0   \n",
       "712744       2022 2022-11-23       Plymouth         38080.0      25000.0   \n",
       "712745       2022 2023-03-27        Seymour        140590.0      65000.0   \n",
       "\n",
       "        Sales Ratio  Property Type  Sales Year  difference_value  \\\n",
       "25           1.0585    Vacant Land        2021           -2630.0   \n",
       "40           1.2830  Single Family        2021          -18400.0   \n",
       "206          1.0003    Vacant Land        2020             -20.0   \n",
       "312          1.1443  Single Family        2020          -25700.0   \n",
       "348          1.2869  Single Family        2021          -74600.0   \n",
       "...             ...            ...         ...               ...   \n",
       "712694       1.1289  Single Family        2022          -14180.0   \n",
       "712707       1.4950     Two Family        2023         -123750.0   \n",
       "712733       1.8505  Single Family        2023        -1006499.0   \n",
       "712744       1.5232    Vacant Land        2022          -13080.0   \n",
       "712745       2.1629  Single Family        2023          -75590.0   \n",
       "\n",
       "       Assessment Status  \n",
       "25         Over-assessed  \n",
       "40         Over-assessed  \n",
       "206        Over-assessed  \n",
       "312        Over-assessed  \n",
       "348        Over-assessed  \n",
       "...                  ...  \n",
       "712694     Over-assessed  \n",
       "712707     Over-assessed  \n",
       "712733     Over-assessed  \n",
       "712744     Over-assessed  \n",
       "712745     Over-assessed  \n",
       "\n",
       "[97165 rows x 10 columns]"
      ]
     },
     "execution_count": 244,
     "metadata": {},
     "output_type": "execute_result"
    }
   ],
   "source": [
    "over_assessed"
   ]
  },
  {
   "cell_type": "code",
   "execution_count": 245,
   "id": "f3b96ae6-df14-4ac3-92f8-5a8e8d7b0952",
   "metadata": {},
   "outputs": [
    {
     "data": {
      "text/html": [
       "<div>\n",
       "<style scoped>\n",
       "    .dataframe tbody tr th:only-of-type {\n",
       "        vertical-align: middle;\n",
       "    }\n",
       "\n",
       "    .dataframe tbody tr th {\n",
       "        vertical-align: top;\n",
       "    }\n",
       "\n",
       "    .dataframe thead th {\n",
       "        text-align: right;\n",
       "    }\n",
       "</style>\n",
       "<table border=\"1\" class=\"dataframe\">\n",
       "  <thead>\n",
       "    <tr style=\"text-align: right;\">\n",
       "      <th></th>\n",
       "      <th>List Year</th>\n",
       "      <th>Sales Date</th>\n",
       "      <th>City</th>\n",
       "      <th>Assessed Value</th>\n",
       "      <th>Sale Amount</th>\n",
       "      <th>Sales Ratio</th>\n",
       "      <th>Property Type</th>\n",
       "      <th>Sales Year</th>\n",
       "      <th>difference_value</th>\n",
       "      <th>Assessment Status</th>\n",
       "    </tr>\n",
       "  </thead>\n",
       "  <tbody>\n",
       "    <tr>\n",
       "      <th>0</th>\n",
       "      <td>2020</td>\n",
       "      <td>2021-04-14</td>\n",
       "      <td>Ansonia</td>\n",
       "      <td>133000.0</td>\n",
       "      <td>248400.0</td>\n",
       "      <td>0.5354</td>\n",
       "      <td>Single Family</td>\n",
       "      <td>2021</td>\n",
       "      <td>115400.0</td>\n",
       "      <td>Under-assessed</td>\n",
       "    </tr>\n",
       "    <tr>\n",
       "      <th>1</th>\n",
       "      <td>2020</td>\n",
       "      <td>2021-05-26</td>\n",
       "      <td>Ansonia</td>\n",
       "      <td>110500.0</td>\n",
       "      <td>239900.0</td>\n",
       "      <td>0.4606</td>\n",
       "      <td>Three Family</td>\n",
       "      <td>2021</td>\n",
       "      <td>129400.0</td>\n",
       "      <td>Under-assessed</td>\n",
       "    </tr>\n",
       "    <tr>\n",
       "      <th>2</th>\n",
       "      <td>2020</td>\n",
       "      <td>2021-09-13</td>\n",
       "      <td>Ansonia</td>\n",
       "      <td>150500.0</td>\n",
       "      <td>325000.0</td>\n",
       "      <td>0.4630</td>\n",
       "      <td>Commercial</td>\n",
       "      <td>2021</td>\n",
       "      <td>174500.0</td>\n",
       "      <td>Under-assessed</td>\n",
       "    </tr>\n",
       "    <tr>\n",
       "      <th>3</th>\n",
       "      <td>2020</td>\n",
       "      <td>2020-12-14</td>\n",
       "      <td>Ansonia</td>\n",
       "      <td>127400.0</td>\n",
       "      <td>202500.0</td>\n",
       "      <td>0.6291</td>\n",
       "      <td>Two Family</td>\n",
       "      <td>2020</td>\n",
       "      <td>75100.0</td>\n",
       "      <td>Under-assessed</td>\n",
       "    </tr>\n",
       "    <tr>\n",
       "      <th>4</th>\n",
       "      <td>2020</td>\n",
       "      <td>2021-09-07</td>\n",
       "      <td>Avon</td>\n",
       "      <td>217640.0</td>\n",
       "      <td>400000.0</td>\n",
       "      <td>0.5441</td>\n",
       "      <td>Single Family</td>\n",
       "      <td>2021</td>\n",
       "      <td>182360.0</td>\n",
       "      <td>Under-assessed</td>\n",
       "    </tr>\n",
       "    <tr>\n",
       "      <th>...</th>\n",
       "      <td>...</td>\n",
       "      <td>...</td>\n",
       "      <td>...</td>\n",
       "      <td>...</td>\n",
       "      <td>...</td>\n",
       "      <td>...</td>\n",
       "      <td>...</td>\n",
       "      <td>...</td>\n",
       "      <td>...</td>\n",
       "      <td>...</td>\n",
       "    </tr>\n",
       "    <tr>\n",
       "      <th>712750</th>\n",
       "      <td>2022</td>\n",
       "      <td>2022-10-11</td>\n",
       "      <td>Stamford</td>\n",
       "      <td>483380.0</td>\n",
       "      <td>865000.0</td>\n",
       "      <td>0.5588</td>\n",
       "      <td>Single Family</td>\n",
       "      <td>2022</td>\n",
       "      <td>381620.0</td>\n",
       "      <td>Under-assessed</td>\n",
       "    </tr>\n",
       "    <tr>\n",
       "      <th>712751</th>\n",
       "      <td>2022</td>\n",
       "      <td>2023-09-29</td>\n",
       "      <td>Wethersfield</td>\n",
       "      <td>20650.0</td>\n",
       "      <td>760857.0</td>\n",
       "      <td>0.0271</td>\n",
       "      <td>Single Family</td>\n",
       "      <td>2023</td>\n",
       "      <td>740207.0</td>\n",
       "      <td>Under-assessed</td>\n",
       "    </tr>\n",
       "    <tr>\n",
       "      <th>712752</th>\n",
       "      <td>2022</td>\n",
       "      <td>2023-01-09</td>\n",
       "      <td>Stamford</td>\n",
       "      <td>132900.0</td>\n",
       "      <td>220000.0</td>\n",
       "      <td>0.6040</td>\n",
       "      <td>Condo</td>\n",
       "      <td>2023</td>\n",
       "      <td>87100.0</td>\n",
       "      <td>Under-assessed</td>\n",
       "    </tr>\n",
       "    <tr>\n",
       "      <th>712753</th>\n",
       "      <td>2022</td>\n",
       "      <td>2023-09-26</td>\n",
       "      <td>Old Saybrook</td>\n",
       "      <td>1099400.0</td>\n",
       "      <td>1575000.0</td>\n",
       "      <td>0.6980</td>\n",
       "      <td>Single Family</td>\n",
       "      <td>2023</td>\n",
       "      <td>475600.0</td>\n",
       "      <td>Under-assessed</td>\n",
       "    </tr>\n",
       "    <tr>\n",
       "      <th>712754</th>\n",
       "      <td>2022</td>\n",
       "      <td>2023-05-18</td>\n",
       "      <td>Southington</td>\n",
       "      <td>135860.0</td>\n",
       "      <td>330000.0</td>\n",
       "      <td>0.4117</td>\n",
       "      <td>Single Family</td>\n",
       "      <td>2023</td>\n",
       "      <td>194140.0</td>\n",
       "      <td>Under-assessed</td>\n",
       "    </tr>\n",
       "  </tbody>\n",
       "</table>\n",
       "<p>615267 rows × 10 columns</p>\n",
       "</div>"
      ],
      "text/plain": [
       "        List Year Sales Date          City  Assessed Value  Sale Amount  \\\n",
       "0            2020 2021-04-14       Ansonia        133000.0     248400.0   \n",
       "1            2020 2021-05-26       Ansonia        110500.0     239900.0   \n",
       "2            2020 2021-09-13       Ansonia        150500.0     325000.0   \n",
       "3            2020 2020-12-14       Ansonia        127400.0     202500.0   \n",
       "4            2020 2021-09-07          Avon        217640.0     400000.0   \n",
       "...           ...        ...           ...             ...          ...   \n",
       "712750       2022 2022-10-11      Stamford        483380.0     865000.0   \n",
       "712751       2022 2023-09-29  Wethersfield         20650.0     760857.0   \n",
       "712752       2022 2023-01-09      Stamford        132900.0     220000.0   \n",
       "712753       2022 2023-09-26  Old Saybrook       1099400.0    1575000.0   \n",
       "712754       2022 2023-05-18   Southington        135860.0     330000.0   \n",
       "\n",
       "        Sales Ratio  Property Type  Sales Year  difference_value  \\\n",
       "0            0.5354  Single Family        2021          115400.0   \n",
       "1            0.4606   Three Family        2021          129400.0   \n",
       "2            0.4630     Commercial        2021          174500.0   \n",
       "3            0.6291     Two Family        2020           75100.0   \n",
       "4            0.5441  Single Family        2021          182360.0   \n",
       "...             ...            ...         ...               ...   \n",
       "712750       0.5588  Single Family        2022          381620.0   \n",
       "712751       0.0271  Single Family        2023          740207.0   \n",
       "712752       0.6040          Condo        2023           87100.0   \n",
       "712753       0.6980  Single Family        2023          475600.0   \n",
       "712754       0.4117  Single Family        2023          194140.0   \n",
       "\n",
       "       Assessment Status  \n",
       "0         Under-assessed  \n",
       "1         Under-assessed  \n",
       "2         Under-assessed  \n",
       "3         Under-assessed  \n",
       "4         Under-assessed  \n",
       "...                  ...  \n",
       "712750    Under-assessed  \n",
       "712751    Under-assessed  \n",
       "712752    Under-assessed  \n",
       "712753    Under-assessed  \n",
       "712754    Under-assessed  \n",
       "\n",
       "[615267 rows x 10 columns]"
      ]
     },
     "execution_count": 245,
     "metadata": {},
     "output_type": "execute_result"
    }
   ],
   "source": [
    "under_assessed"
   ]
  },
  {
   "cell_type": "code",
   "execution_count": 246,
   "id": "c73fc0ae-06ac-4d81-9d14-1db489ac1291",
   "metadata": {},
   "outputs": [
    {
     "data": {
      "text/html": [
       "<div>\n",
       "<style scoped>\n",
       "    .dataframe tbody tr th:only-of-type {\n",
       "        vertical-align: middle;\n",
       "    }\n",
       "\n",
       "    .dataframe tbody tr th {\n",
       "        vertical-align: top;\n",
       "    }\n",
       "\n",
       "    .dataframe thead th {\n",
       "        text-align: right;\n",
       "    }\n",
       "</style>\n",
       "<table border=\"1\" class=\"dataframe\">\n",
       "  <thead>\n",
       "    <tr style=\"text-align: right;\">\n",
       "      <th></th>\n",
       "      <th>List Year</th>\n",
       "      <th>Sales Date</th>\n",
       "      <th>City</th>\n",
       "      <th>Assessed Value</th>\n",
       "      <th>Sale Amount</th>\n",
       "      <th>Sales Ratio</th>\n",
       "      <th>Property Type</th>\n",
       "      <th>Sales Year</th>\n",
       "      <th>difference_value</th>\n",
       "      <th>Assessment Status</th>\n",
       "    </tr>\n",
       "  </thead>\n",
       "  <tbody>\n",
       "    <tr>\n",
       "      <th>7124</th>\n",
       "      <td>2020</td>\n",
       "      <td>2021-06-18</td>\n",
       "      <td>Enfield</td>\n",
       "      <td>110000.0</td>\n",
       "      <td>110000.0</td>\n",
       "      <td>1.0</td>\n",
       "      <td>Single Family</td>\n",
       "      <td>2021</td>\n",
       "      <td>0.0</td>\n",
       "      <td>Fairly assessed</td>\n",
       "    </tr>\n",
       "    <tr>\n",
       "      <th>10171</th>\n",
       "      <td>2020</td>\n",
       "      <td>2021-03-03</td>\n",
       "      <td>Bethlehem</td>\n",
       "      <td>205000.0</td>\n",
       "      <td>205000.0</td>\n",
       "      <td>1.0</td>\n",
       "      <td>Single Family</td>\n",
       "      <td>2021</td>\n",
       "      <td>0.0</td>\n",
       "      <td>Fairly assessed</td>\n",
       "    </tr>\n",
       "    <tr>\n",
       "      <th>11988</th>\n",
       "      <td>2020</td>\n",
       "      <td>2021-06-15</td>\n",
       "      <td>Groton</td>\n",
       "      <td>6475.0</td>\n",
       "      <td>6475.0</td>\n",
       "      <td>1.0</td>\n",
       "      <td>Single Family</td>\n",
       "      <td>2021</td>\n",
       "      <td>0.0</td>\n",
       "      <td>Fairly assessed</td>\n",
       "    </tr>\n",
       "    <tr>\n",
       "      <th>13325</th>\n",
       "      <td>2020</td>\n",
       "      <td>2020-10-08</td>\n",
       "      <td>Killingly</td>\n",
       "      <td>40000.0</td>\n",
       "      <td>40000.0</td>\n",
       "      <td>1.0</td>\n",
       "      <td>Single Family</td>\n",
       "      <td>2020</td>\n",
       "      <td>0.0</td>\n",
       "      <td>Fairly assessed</td>\n",
       "    </tr>\n",
       "    <tr>\n",
       "      <th>14614</th>\n",
       "      <td>2020</td>\n",
       "      <td>2021-09-28</td>\n",
       "      <td>Greenwich</td>\n",
       "      <td>420000.0</td>\n",
       "      <td>420000.0</td>\n",
       "      <td>1.0</td>\n",
       "      <td>Vacant Land</td>\n",
       "      <td>2021</td>\n",
       "      <td>0.0</td>\n",
       "      <td>Fairly assessed</td>\n",
       "    </tr>\n",
       "    <tr>\n",
       "      <th>...</th>\n",
       "      <td>...</td>\n",
       "      <td>...</td>\n",
       "      <td>...</td>\n",
       "      <td>...</td>\n",
       "      <td>...</td>\n",
       "      <td>...</td>\n",
       "      <td>...</td>\n",
       "      <td>...</td>\n",
       "      <td>...</td>\n",
       "      <td>...</td>\n",
       "    </tr>\n",
       "    <tr>\n",
       "      <th>688693</th>\n",
       "      <td>2022</td>\n",
       "      <td>2022-12-12</td>\n",
       "      <td>Cheshire</td>\n",
       "      <td>76760.0</td>\n",
       "      <td>76760.0</td>\n",
       "      <td>1.0</td>\n",
       "      <td>Single Family</td>\n",
       "      <td>2022</td>\n",
       "      <td>0.0</td>\n",
       "      <td>Fairly assessed</td>\n",
       "    </tr>\n",
       "    <tr>\n",
       "      <th>689564</th>\n",
       "      <td>2022</td>\n",
       "      <td>2023-02-22</td>\n",
       "      <td>Hartland</td>\n",
       "      <td>30820.0</td>\n",
       "      <td>30820.0</td>\n",
       "      <td>1.0</td>\n",
       "      <td>Vacant Land</td>\n",
       "      <td>2023</td>\n",
       "      <td>0.0</td>\n",
       "      <td>Fairly assessed</td>\n",
       "    </tr>\n",
       "    <tr>\n",
       "      <th>698962</th>\n",
       "      <td>2022</td>\n",
       "      <td>2023-04-04</td>\n",
       "      <td>Suffield</td>\n",
       "      <td>405000.0</td>\n",
       "      <td>405000.0</td>\n",
       "      <td>1.0</td>\n",
       "      <td>Three Family</td>\n",
       "      <td>2023</td>\n",
       "      <td>0.0</td>\n",
       "      <td>Fairly assessed</td>\n",
       "    </tr>\n",
       "    <tr>\n",
       "      <th>704346</th>\n",
       "      <td>2022</td>\n",
       "      <td>2023-03-28</td>\n",
       "      <td>Sharon</td>\n",
       "      <td>3200.0</td>\n",
       "      <td>3200.0</td>\n",
       "      <td>1.0</td>\n",
       "      <td>Vacant Land</td>\n",
       "      <td>2023</td>\n",
       "      <td>0.0</td>\n",
       "      <td>Fairly assessed</td>\n",
       "    </tr>\n",
       "    <tr>\n",
       "      <th>712342</th>\n",
       "      <td>2022</td>\n",
       "      <td>2023-04-06</td>\n",
       "      <td>Windsor</td>\n",
       "      <td>63210.0</td>\n",
       "      <td>63210.0</td>\n",
       "      <td>1.0</td>\n",
       "      <td>Condo</td>\n",
       "      <td>2023</td>\n",
       "      <td>0.0</td>\n",
       "      <td>Fairly assessed</td>\n",
       "    </tr>\n",
       "  </tbody>\n",
       "</table>\n",
       "<p>323 rows × 10 columns</p>\n",
       "</div>"
      ],
      "text/plain": [
       "        List Year Sales Date       City  Assessed Value  Sale Amount  \\\n",
       "7124         2020 2021-06-18    Enfield        110000.0     110000.0   \n",
       "10171        2020 2021-03-03  Bethlehem        205000.0     205000.0   \n",
       "11988        2020 2021-06-15     Groton          6475.0       6475.0   \n",
       "13325        2020 2020-10-08  Killingly         40000.0      40000.0   \n",
       "14614        2020 2021-09-28  Greenwich        420000.0     420000.0   \n",
       "...           ...        ...        ...             ...          ...   \n",
       "688693       2022 2022-12-12   Cheshire         76760.0      76760.0   \n",
       "689564       2022 2023-02-22   Hartland         30820.0      30820.0   \n",
       "698962       2022 2023-04-04   Suffield        405000.0     405000.0   \n",
       "704346       2022 2023-03-28     Sharon          3200.0       3200.0   \n",
       "712342       2022 2023-04-06    Windsor         63210.0      63210.0   \n",
       "\n",
       "        Sales Ratio  Property Type  Sales Year  difference_value  \\\n",
       "7124            1.0  Single Family        2021               0.0   \n",
       "10171           1.0  Single Family        2021               0.0   \n",
       "11988           1.0  Single Family        2021               0.0   \n",
       "13325           1.0  Single Family        2020               0.0   \n",
       "14614           1.0    Vacant Land        2021               0.0   \n",
       "...             ...            ...         ...               ...   \n",
       "688693          1.0  Single Family        2022               0.0   \n",
       "689564          1.0    Vacant Land        2023               0.0   \n",
       "698962          1.0   Three Family        2023               0.0   \n",
       "704346          1.0    Vacant Land        2023               0.0   \n",
       "712342          1.0          Condo        2023               0.0   \n",
       "\n",
       "       Assessment Status  \n",
       "7124     Fairly assessed  \n",
       "10171    Fairly assessed  \n",
       "11988    Fairly assessed  \n",
       "13325    Fairly assessed  \n",
       "14614    Fairly assessed  \n",
       "...                  ...  \n",
       "688693   Fairly assessed  \n",
       "689564   Fairly assessed  \n",
       "698962   Fairly assessed  \n",
       "704346   Fairly assessed  \n",
       "712342   Fairly assessed  \n",
       "\n",
       "[323 rows x 10 columns]"
      ]
     },
     "execution_count": 246,
     "metadata": {},
     "output_type": "execute_result"
    }
   ],
   "source": [
    "fairly_assessed"
   ]
  },
  {
   "cell_type": "code",
   "execution_count": 247,
   "id": "e6e7aea8-8e22-4e33-8f38-88b03870b152",
   "metadata": {},
   "outputs": [
    {
     "data": {
      "text/html": [
       "<div>\n",
       "<style scoped>\n",
       "    .dataframe tbody tr th:only-of-type {\n",
       "        vertical-align: middle;\n",
       "    }\n",
       "\n",
       "    .dataframe tbody tr th {\n",
       "        vertical-align: top;\n",
       "    }\n",
       "\n",
       "    .dataframe thead th {\n",
       "        text-align: right;\n",
       "    }\n",
       "</style>\n",
       "<table border=\"1\" class=\"dataframe\">\n",
       "  <thead>\n",
       "    <tr style=\"text-align: right;\">\n",
       "      <th></th>\n",
       "      <th>List Year</th>\n",
       "      <th>Sales Date</th>\n",
       "      <th>City</th>\n",
       "      <th>Assessed Value</th>\n",
       "      <th>Sale Amount</th>\n",
       "      <th>Sales Ratio</th>\n",
       "      <th>Property Type</th>\n",
       "      <th>Sales Year</th>\n",
       "      <th>difference_value</th>\n",
       "      <th>Assessment Status</th>\n",
       "    </tr>\n",
       "  </thead>\n",
       "  <tbody>\n",
       "    <tr>\n",
       "      <th>0</th>\n",
       "      <td>2020</td>\n",
       "      <td>2021-04-14</td>\n",
       "      <td>Ansonia</td>\n",
       "      <td>133000.0</td>\n",
       "      <td>248400.0</td>\n",
       "      <td>0.5354</td>\n",
       "      <td>Single Family</td>\n",
       "      <td>2021</td>\n",
       "      <td>115400.0</td>\n",
       "      <td>Under-assessed</td>\n",
       "    </tr>\n",
       "    <tr>\n",
       "      <th>1</th>\n",
       "      <td>2020</td>\n",
       "      <td>2021-05-26</td>\n",
       "      <td>Ansonia</td>\n",
       "      <td>110500.0</td>\n",
       "      <td>239900.0</td>\n",
       "      <td>0.4606</td>\n",
       "      <td>Three Family</td>\n",
       "      <td>2021</td>\n",
       "      <td>129400.0</td>\n",
       "      <td>Under-assessed</td>\n",
       "    </tr>\n",
       "    <tr>\n",
       "      <th>2</th>\n",
       "      <td>2020</td>\n",
       "      <td>2021-09-13</td>\n",
       "      <td>Ansonia</td>\n",
       "      <td>150500.0</td>\n",
       "      <td>325000.0</td>\n",
       "      <td>0.4630</td>\n",
       "      <td>Commercial</td>\n",
       "      <td>2021</td>\n",
       "      <td>174500.0</td>\n",
       "      <td>Under-assessed</td>\n",
       "    </tr>\n",
       "    <tr>\n",
       "      <th>3</th>\n",
       "      <td>2020</td>\n",
       "      <td>2020-12-14</td>\n",
       "      <td>Ansonia</td>\n",
       "      <td>127400.0</td>\n",
       "      <td>202500.0</td>\n",
       "      <td>0.6291</td>\n",
       "      <td>Two Family</td>\n",
       "      <td>2020</td>\n",
       "      <td>75100.0</td>\n",
       "      <td>Under-assessed</td>\n",
       "    </tr>\n",
       "    <tr>\n",
       "      <th>4</th>\n",
       "      <td>2020</td>\n",
       "      <td>2021-09-07</td>\n",
       "      <td>Avon</td>\n",
       "      <td>217640.0</td>\n",
       "      <td>400000.0</td>\n",
       "      <td>0.5441</td>\n",
       "      <td>Single Family</td>\n",
       "      <td>2021</td>\n",
       "      <td>182360.0</td>\n",
       "      <td>Under-assessed</td>\n",
       "    </tr>\n",
       "    <tr>\n",
       "      <th>...</th>\n",
       "      <td>...</td>\n",
       "      <td>...</td>\n",
       "      <td>...</td>\n",
       "      <td>...</td>\n",
       "      <td>...</td>\n",
       "      <td>...</td>\n",
       "      <td>...</td>\n",
       "      <td>...</td>\n",
       "      <td>...</td>\n",
       "      <td>...</td>\n",
       "    </tr>\n",
       "    <tr>\n",
       "      <th>712750</th>\n",
       "      <td>2022</td>\n",
       "      <td>2022-10-11</td>\n",
       "      <td>Stamford</td>\n",
       "      <td>483380.0</td>\n",
       "      <td>865000.0</td>\n",
       "      <td>0.5588</td>\n",
       "      <td>Single Family</td>\n",
       "      <td>2022</td>\n",
       "      <td>381620.0</td>\n",
       "      <td>Under-assessed</td>\n",
       "    </tr>\n",
       "    <tr>\n",
       "      <th>712751</th>\n",
       "      <td>2022</td>\n",
       "      <td>2023-09-29</td>\n",
       "      <td>Wethersfield</td>\n",
       "      <td>20650.0</td>\n",
       "      <td>760857.0</td>\n",
       "      <td>0.0271</td>\n",
       "      <td>Single Family</td>\n",
       "      <td>2023</td>\n",
       "      <td>740207.0</td>\n",
       "      <td>Under-assessed</td>\n",
       "    </tr>\n",
       "    <tr>\n",
       "      <th>712752</th>\n",
       "      <td>2022</td>\n",
       "      <td>2023-01-09</td>\n",
       "      <td>Stamford</td>\n",
       "      <td>132900.0</td>\n",
       "      <td>220000.0</td>\n",
       "      <td>0.6040</td>\n",
       "      <td>Condo</td>\n",
       "      <td>2023</td>\n",
       "      <td>87100.0</td>\n",
       "      <td>Under-assessed</td>\n",
       "    </tr>\n",
       "    <tr>\n",
       "      <th>712753</th>\n",
       "      <td>2022</td>\n",
       "      <td>2023-09-26</td>\n",
       "      <td>Old Saybrook</td>\n",
       "      <td>1099400.0</td>\n",
       "      <td>1575000.0</td>\n",
       "      <td>0.6980</td>\n",
       "      <td>Single Family</td>\n",
       "      <td>2023</td>\n",
       "      <td>475600.0</td>\n",
       "      <td>Under-assessed</td>\n",
       "    </tr>\n",
       "    <tr>\n",
       "      <th>712754</th>\n",
       "      <td>2022</td>\n",
       "      <td>2023-05-18</td>\n",
       "      <td>Southington</td>\n",
       "      <td>135860.0</td>\n",
       "      <td>330000.0</td>\n",
       "      <td>0.4117</td>\n",
       "      <td>Single Family</td>\n",
       "      <td>2023</td>\n",
       "      <td>194140.0</td>\n",
       "      <td>Under-assessed</td>\n",
       "    </tr>\n",
       "  </tbody>\n",
       "</table>\n",
       "<p>712755 rows × 10 columns</p>\n",
       "</div>"
      ],
      "text/plain": [
       "        List Year Sales Date          City  Assessed Value  Sale Amount  \\\n",
       "0            2020 2021-04-14       Ansonia        133000.0     248400.0   \n",
       "1            2020 2021-05-26       Ansonia        110500.0     239900.0   \n",
       "2            2020 2021-09-13       Ansonia        150500.0     325000.0   \n",
       "3            2020 2020-12-14       Ansonia        127400.0     202500.0   \n",
       "4            2020 2021-09-07          Avon        217640.0     400000.0   \n",
       "...           ...        ...           ...             ...          ...   \n",
       "712750       2022 2022-10-11      Stamford        483380.0     865000.0   \n",
       "712751       2022 2023-09-29  Wethersfield         20650.0     760857.0   \n",
       "712752       2022 2023-01-09      Stamford        132900.0     220000.0   \n",
       "712753       2022 2023-09-26  Old Saybrook       1099400.0    1575000.0   \n",
       "712754       2022 2023-05-18   Southington        135860.0     330000.0   \n",
       "\n",
       "        Sales Ratio  Property Type  Sales Year  difference_value  \\\n",
       "0            0.5354  Single Family        2021          115400.0   \n",
       "1            0.4606   Three Family        2021          129400.0   \n",
       "2            0.4630     Commercial        2021          174500.0   \n",
       "3            0.6291     Two Family        2020           75100.0   \n",
       "4            0.5441  Single Family        2021          182360.0   \n",
       "...             ...            ...         ...               ...   \n",
       "712750       0.5588  Single Family        2022          381620.0   \n",
       "712751       0.0271  Single Family        2023          740207.0   \n",
       "712752       0.6040          Condo        2023           87100.0   \n",
       "712753       0.6980  Single Family        2023          475600.0   \n",
       "712754       0.4117  Single Family        2023          194140.0   \n",
       "\n",
       "       Assessment Status  \n",
       "0         Under-assessed  \n",
       "1         Under-assessed  \n",
       "2         Under-assessed  \n",
       "3         Under-assessed  \n",
       "4         Under-assessed  \n",
       "...                  ...  \n",
       "712750    Under-assessed  \n",
       "712751    Under-assessed  \n",
       "712752    Under-assessed  \n",
       "712753    Under-assessed  \n",
       "712754    Under-assessed  \n",
       "\n",
       "[712755 rows x 10 columns]"
      ]
     },
     "execution_count": 247,
     "metadata": {},
     "output_type": "execute_result"
    }
   ],
   "source": [
    "real_estate_df"
   ]
  },
  {
   "cell_type": "code",
   "execution_count": 248,
   "id": "f0e2cf37-b0e5-4243-a604-b61fbc6b442c",
   "metadata": {},
   "outputs": [
    {
     "data": {
      "text/html": [
       "<div>\n",
       "<style scoped>\n",
       "    .dataframe tbody tr th:only-of-type {\n",
       "        vertical-align: middle;\n",
       "    }\n",
       "\n",
       "    .dataframe tbody tr th {\n",
       "        vertical-align: top;\n",
       "    }\n",
       "\n",
       "    .dataframe thead th {\n",
       "        text-align: right;\n",
       "    }\n",
       "</style>\n",
       "<table border=\"1\" class=\"dataframe\">\n",
       "  <thead>\n",
       "    <tr style=\"text-align: right;\">\n",
       "      <th></th>\n",
       "      <th>List Year</th>\n",
       "      <th>Sales Date</th>\n",
       "      <th>City</th>\n",
       "      <th>Assessed Value</th>\n",
       "      <th>Sale Amount</th>\n",
       "      <th>Sales Ratio</th>\n",
       "      <th>Property Type</th>\n",
       "      <th>Sales Year</th>\n",
       "      <th>difference_value</th>\n",
       "      <th>Assessment Status</th>\n",
       "      <th>Appreciation</th>\n",
       "      <th>Investment Status</th>\n",
       "    </tr>\n",
       "  </thead>\n",
       "  <tbody>\n",
       "    <tr>\n",
       "      <th>0</th>\n",
       "      <td>2020</td>\n",
       "      <td>2021-04-14</td>\n",
       "      <td>Ansonia</td>\n",
       "      <td>133000.0</td>\n",
       "      <td>248400.0</td>\n",
       "      <td>0.5354</td>\n",
       "      <td>Single Family</td>\n",
       "      <td>2021</td>\n",
       "      <td>115400.0</td>\n",
       "      <td>Under-assessed</td>\n",
       "      <td>115400.0</td>\n",
       "      <td>Good Investment</td>\n",
       "    </tr>\n",
       "    <tr>\n",
       "      <th>1</th>\n",
       "      <td>2020</td>\n",
       "      <td>2021-05-26</td>\n",
       "      <td>Ansonia</td>\n",
       "      <td>110500.0</td>\n",
       "      <td>239900.0</td>\n",
       "      <td>0.4606</td>\n",
       "      <td>Three Family</td>\n",
       "      <td>2021</td>\n",
       "      <td>129400.0</td>\n",
       "      <td>Under-assessed</td>\n",
       "      <td>129400.0</td>\n",
       "      <td>Good Investment</td>\n",
       "    </tr>\n",
       "    <tr>\n",
       "      <th>2</th>\n",
       "      <td>2020</td>\n",
       "      <td>2021-09-13</td>\n",
       "      <td>Ansonia</td>\n",
       "      <td>150500.0</td>\n",
       "      <td>325000.0</td>\n",
       "      <td>0.4630</td>\n",
       "      <td>Commercial</td>\n",
       "      <td>2021</td>\n",
       "      <td>174500.0</td>\n",
       "      <td>Under-assessed</td>\n",
       "      <td>174500.0</td>\n",
       "      <td>Good Investment</td>\n",
       "    </tr>\n",
       "    <tr>\n",
       "      <th>3</th>\n",
       "      <td>2020</td>\n",
       "      <td>2020-12-14</td>\n",
       "      <td>Ansonia</td>\n",
       "      <td>127400.0</td>\n",
       "      <td>202500.0</td>\n",
       "      <td>0.6291</td>\n",
       "      <td>Two Family</td>\n",
       "      <td>2020</td>\n",
       "      <td>75100.0</td>\n",
       "      <td>Under-assessed</td>\n",
       "      <td>75100.0</td>\n",
       "      <td>Neutral</td>\n",
       "    </tr>\n",
       "    <tr>\n",
       "      <th>4</th>\n",
       "      <td>2020</td>\n",
       "      <td>2021-09-07</td>\n",
       "      <td>Avon</td>\n",
       "      <td>217640.0</td>\n",
       "      <td>400000.0</td>\n",
       "      <td>0.5441</td>\n",
       "      <td>Single Family</td>\n",
       "      <td>2021</td>\n",
       "      <td>182360.0</td>\n",
       "      <td>Under-assessed</td>\n",
       "      <td>182360.0</td>\n",
       "      <td>Good Investment</td>\n",
       "    </tr>\n",
       "  </tbody>\n",
       "</table>\n",
       "</div>"
      ],
      "text/plain": [
       "   List Year Sales Date     City  Assessed Value  Sale Amount  Sales Ratio  \\\n",
       "0       2020 2021-04-14  Ansonia        133000.0     248400.0       0.5354   \n",
       "1       2020 2021-05-26  Ansonia        110500.0     239900.0       0.4606   \n",
       "2       2020 2021-09-13  Ansonia        150500.0     325000.0       0.4630   \n",
       "3       2020 2020-12-14  Ansonia        127400.0     202500.0       0.6291   \n",
       "4       2020 2021-09-07     Avon        217640.0     400000.0       0.5441   \n",
       "\n",
       "   Property Type  Sales Year  difference_value Assessment Status  \\\n",
       "0  Single Family        2021          115400.0    Under-assessed   \n",
       "1   Three Family        2021          129400.0    Under-assessed   \n",
       "2     Commercial        2021          174500.0    Under-assessed   \n",
       "3     Two Family        2020           75100.0    Under-assessed   \n",
       "4  Single Family        2021          182360.0    Under-assessed   \n",
       "\n",
       "   Appreciation Investment Status  \n",
       "0      115400.0   Good Investment  \n",
       "1      129400.0   Good Investment  \n",
       "2      174500.0   Good Investment  \n",
       "3       75100.0           Neutral  \n",
       "4      182360.0   Good Investment  "
      ]
     },
     "execution_count": 248,
     "metadata": {},
     "output_type": "execute_result"
    }
   ],
   "source": [
    "real_estate_df[\"Appreciation\"] = real_estate_df[\"Sale Amount\"] - real_estate_df[\"Assessed Value\"]\n",
    "\n",
    "real_estate_df[\"Investment Status\"] = \"Neutral\"\n",
    "real_estate_df.loc[(real_estate_df[\"Sales Ratio\"] < 1) & (real_estate_df[\"Appreciation\"] > real_estate_df[\"Appreciation\"].median()), \"Investment Status\"] = \"Good Investment\"\n",
    "real_estate_df.loc[real_estate_df[\"Sales Ratio\"] > 1, \"Investment Status\"] = \"Risky (Over-Assessed)\"\n",
    "\n",
    "real_estate_df.head()"
   ]
  },
  {
   "cell_type": "markdown",
   "id": "4a43358e-c2c0-487c-9faa-2f04c706cefd",
   "metadata": {},
   "source": [
    "# Which months have the highest number of property sales?"
   ]
  },
  {
   "cell_type": "code",
   "execution_count": 250,
   "id": "41eb7c6f-6704-468b-90b4-0f344fc33e01",
   "metadata": {},
   "outputs": [],
   "source": [
    "real_estate_df.to_csv(\"Pre_Processed_Real_Estate_Df.csv\")"
   ]
  },
  {
   "cell_type": "markdown",
   "id": "76e6244b-09a6-4fe0-af61-6192967094a5",
   "metadata": {},
   "source": [
    "# delete all the cells below. they don't seem to be relevent"
   ]
  },
  {
   "cell_type": "code",
   "execution_count": 252,
   "id": "8c76fd65-cd16-4ed3-aa4f-18dbd9be55c0",
   "metadata": {},
   "outputs": [
    {
     "data": {
      "text/html": [
       "<div>\n",
       "<style scoped>\n",
       "    .dataframe tbody tr th:only-of-type {\n",
       "        vertical-align: middle;\n",
       "    }\n",
       "\n",
       "    .dataframe tbody tr th {\n",
       "        vertical-align: top;\n",
       "    }\n",
       "\n",
       "    .dataframe thead th {\n",
       "        text-align: right;\n",
       "    }\n",
       "</style>\n",
       "<table border=\"1\" class=\"dataframe\">\n",
       "  <thead>\n",
       "    <tr style=\"text-align: right;\">\n",
       "      <th></th>\n",
       "      <th>City</th>\n",
       "      <th>Year</th>\n",
       "      <th>Month</th>\n",
       "      <th>Sales Year</th>\n",
       "    </tr>\n",
       "  </thead>\n",
       "  <tbody>\n",
       "    <tr>\n",
       "      <th>0</th>\n",
       "      <td>Andover</td>\n",
       "      <td>1970</td>\n",
       "      <td>1</td>\n",
       "      <td>564</td>\n",
       "    </tr>\n",
       "    <tr>\n",
       "      <th>1</th>\n",
       "      <td>Ansonia</td>\n",
       "      <td>1970</td>\n",
       "      <td>1</td>\n",
       "      <td>3451</td>\n",
       "    </tr>\n",
       "    <tr>\n",
       "      <th>2</th>\n",
       "      <td>Ashford</td>\n",
       "      <td>1970</td>\n",
       "      <td>1</td>\n",
       "      <td>830</td>\n",
       "    </tr>\n",
       "    <tr>\n",
       "      <th>3</th>\n",
       "      <td>Avon</td>\n",
       "      <td>1970</td>\n",
       "      <td>1</td>\n",
       "      <td>5333</td>\n",
       "    </tr>\n",
       "    <tr>\n",
       "      <th>4</th>\n",
       "      <td>Barkhamsted</td>\n",
       "      <td>1970</td>\n",
       "      <td>1</td>\n",
       "      <td>751</td>\n",
       "    </tr>\n",
       "    <tr>\n",
       "      <th>...</th>\n",
       "      <td>...</td>\n",
       "      <td>...</td>\n",
       "      <td>...</td>\n",
       "      <td>...</td>\n",
       "    </tr>\n",
       "    <tr>\n",
       "      <th>95</th>\n",
       "      <td>Newington</td>\n",
       "      <td>1970</td>\n",
       "      <td>1</td>\n",
       "      <td>7135</td>\n",
       "    </tr>\n",
       "    <tr>\n",
       "      <th>96</th>\n",
       "      <td>Newtown</td>\n",
       "      <td>1970</td>\n",
       "      <td>1</td>\n",
       "      <td>5617</td>\n",
       "    </tr>\n",
       "    <tr>\n",
       "      <th>97</th>\n",
       "      <td>Norfolk</td>\n",
       "      <td>1970</td>\n",
       "      <td>1</td>\n",
       "      <td>435</td>\n",
       "    </tr>\n",
       "    <tr>\n",
       "      <th>98</th>\n",
       "      <td>North Branford</td>\n",
       "      <td>1970</td>\n",
       "      <td>1</td>\n",
       "      <td>2290</td>\n",
       "    </tr>\n",
       "    <tr>\n",
       "      <th>99</th>\n",
       "      <td>North Canaan</td>\n",
       "      <td>1970</td>\n",
       "      <td>1</td>\n",
       "      <td>599</td>\n",
       "    </tr>\n",
       "  </tbody>\n",
       "</table>\n",
       "<p>100 rows × 4 columns</p>\n",
       "</div>"
      ],
      "text/plain": [
       "              City  Year  Month  Sales Year\n",
       "0          Andover  1970      1         564\n",
       "1          Ansonia  1970      1        3451\n",
       "2          Ashford  1970      1         830\n",
       "3             Avon  1970      1        5333\n",
       "4      Barkhamsted  1970      1         751\n",
       "..             ...   ...    ...         ...\n",
       "95       Newington  1970      1        7135\n",
       "96         Newtown  1970      1        5617\n",
       "97         Norfolk  1970      1         435\n",
       "98  North Branford  1970      1        2290\n",
       "99    North Canaan  1970      1         599\n",
       "\n",
       "[100 rows x 4 columns]"
      ]
     },
     "execution_count": 252,
     "metadata": {},
     "output_type": "execute_result"
    }
   ],
   "source": [
    "real_estate_df['Sales Year'] = pd.to_datetime(real_estate_df['Sales Year'], errors='coerce')\n",
    "\n",
    "real_estate_df['Month'] = real_estate_df['Sales Year'].dt.month\n",
    "real_estate_df['Year'] = real_estate_df['Sales Year'].dt.year\n",
    "\n",
    "sales_per_month = real_estate_df.groupby(['City', 'Year', 'Month']).size().reset_index(name='Sales Year')\n",
    "max_sales_per_town = sales_per_month.loc[sales_per_month.groupby('City')['Sales Year'].idxmax()]\n",
    "\n",
    "max_sales_per_town.head(100)"
   ]
  },
  {
   "cell_type": "code",
   "execution_count": 253,
   "id": "ce352fa7-c6d6-49da-9d8b-c3fbb24572f3",
   "metadata": {},
   "outputs": [
    {
     "data": {
      "text/html": [
       "<div>\n",
       "<style scoped>\n",
       "    .dataframe tbody tr th:only-of-type {\n",
       "        vertical-align: middle;\n",
       "    }\n",
       "\n",
       "    .dataframe tbody tr th {\n",
       "        vertical-align: top;\n",
       "    }\n",
       "\n",
       "    .dataframe thead th {\n",
       "        text-align: right;\n",
       "    }\n",
       "</style>\n",
       "<table border=\"1\" class=\"dataframe\">\n",
       "  <thead>\n",
       "    <tr style=\"text-align: right;\">\n",
       "      <th></th>\n",
       "      <th>City</th>\n",
       "      <th>Year</th>\n",
       "      <th>Month</th>\n",
       "      <th>Sales Year</th>\n",
       "    </tr>\n",
       "  </thead>\n",
       "  <tbody>\n",
       "    <tr>\n",
       "      <th>144</th>\n",
       "      <td>Union</td>\n",
       "      <td>1970</td>\n",
       "      <td>1</td>\n",
       "      <td>156</td>\n",
       "    </tr>\n",
       "    <tr>\n",
       "      <th>122</th>\n",
       "      <td>Scotland</td>\n",
       "      <td>1970</td>\n",
       "      <td>1</td>\n",
       "      <td>313</td>\n",
       "    </tr>\n",
       "    <tr>\n",
       "      <th>20</th>\n",
       "      <td>Canaan</td>\n",
       "      <td>1970</td>\n",
       "      <td>1</td>\n",
       "      <td>328</td>\n",
       "    </tr>\n",
       "    <tr>\n",
       "      <th>64</th>\n",
       "      <td>Hartland</td>\n",
       "      <td>1970</td>\n",
       "      <td>1</td>\n",
       "      <td>333</td>\n",
       "    </tr>\n",
       "    <tr>\n",
       "      <th>12</th>\n",
       "      <td>Bozrah</td>\n",
       "      <td>1970</td>\n",
       "      <td>1</td>\n",
       "      <td>353</td>\n",
       "    </tr>\n",
       "    <tr>\n",
       "      <th>...</th>\n",
       "      <td>...</td>\n",
       "      <td>...</td>\n",
       "      <td>...</td>\n",
       "      <td>...</td>\n",
       "    </tr>\n",
       "    <tr>\n",
       "      <th>153</th>\n",
       "      <td>West Hartford</td>\n",
       "      <td>1970</td>\n",
       "      <td>1</td>\n",
       "      <td>14374</td>\n",
       "    </tr>\n",
       "    <tr>\n",
       "      <th>102</th>\n",
       "      <td>Norwalk</td>\n",
       "      <td>1970</td>\n",
       "      <td>1</td>\n",
       "      <td>17597</td>\n",
       "    </tr>\n",
       "    <tr>\n",
       "      <th>134</th>\n",
       "      <td>Stamford</td>\n",
       "      <td>1970</td>\n",
       "      <td>1</td>\n",
       "      <td>21468</td>\n",
       "    </tr>\n",
       "    <tr>\n",
       "      <th>150</th>\n",
       "      <td>Waterbury</td>\n",
       "      <td>1970</td>\n",
       "      <td>1</td>\n",
       "      <td>22090</td>\n",
       "    </tr>\n",
       "    <tr>\n",
       "      <th>14</th>\n",
       "      <td>Bridgeport</td>\n",
       "      <td>1970</td>\n",
       "      <td>1</td>\n",
       "      <td>22204</td>\n",
       "    </tr>\n",
       "  </tbody>\n",
       "</table>\n",
       "<p>169 rows × 4 columns</p>\n",
       "</div>"
      ],
      "text/plain": [
       "              City  Year  Month  Sales Year\n",
       "144          Union  1970      1         156\n",
       "122       Scotland  1970      1         313\n",
       "20          Canaan  1970      1         328\n",
       "64        Hartland  1970      1         333\n",
       "12          Bozrah  1970      1         353\n",
       "..             ...   ...    ...         ...\n",
       "153  West Hartford  1970      1       14374\n",
       "102        Norwalk  1970      1       17597\n",
       "134       Stamford  1970      1       21468\n",
       "150      Waterbury  1970      1       22090\n",
       "14      Bridgeport  1970      1       22204\n",
       "\n",
       "[169 rows x 4 columns]"
      ]
     },
     "execution_count": 253,
     "metadata": {},
     "output_type": "execute_result"
    }
   ],
   "source": [
    "max_sales_per_town.sort_values(by='Sales Year', ascending = True)"
   ]
  },
  {
   "cell_type": "code",
   "execution_count": 254,
   "id": "8ba2048c-ebc3-4d68-94d5-2bf7f62548e3",
   "metadata": {},
   "outputs": [
    {
     "data": {
      "text/html": [
       "<div>\n",
       "<style scoped>\n",
       "    .dataframe tbody tr th:only-of-type {\n",
       "        vertical-align: middle;\n",
       "    }\n",
       "\n",
       "    .dataframe tbody tr th {\n",
       "        vertical-align: top;\n",
       "    }\n",
       "\n",
       "    .dataframe thead th {\n",
       "        text-align: right;\n",
       "    }\n",
       "</style>\n",
       "<table border=\"1\" class=\"dataframe\">\n",
       "  <thead>\n",
       "    <tr style=\"text-align: right;\">\n",
       "      <th></th>\n",
       "      <th>City</th>\n",
       "      <th>Month</th>\n",
       "      <th>count</th>\n",
       "    </tr>\n",
       "  </thead>\n",
       "  <tbody>\n",
       "    <tr>\n",
       "      <th>0</th>\n",
       "      <td>Andover</td>\n",
       "      <td>1</td>\n",
       "      <td>1</td>\n",
       "    </tr>\n",
       "    <tr>\n",
       "      <th>1</th>\n",
       "      <td>Ansonia</td>\n",
       "      <td>1</td>\n",
       "      <td>1</td>\n",
       "    </tr>\n",
       "    <tr>\n",
       "      <th>2</th>\n",
       "      <td>Ashford</td>\n",
       "      <td>1</td>\n",
       "      <td>1</td>\n",
       "    </tr>\n",
       "    <tr>\n",
       "      <th>3</th>\n",
       "      <td>Avon</td>\n",
       "      <td>1</td>\n",
       "      <td>1</td>\n",
       "    </tr>\n",
       "    <tr>\n",
       "      <th>4</th>\n",
       "      <td>Barkhamsted</td>\n",
       "      <td>1</td>\n",
       "      <td>1</td>\n",
       "    </tr>\n",
       "    <tr>\n",
       "      <th>...</th>\n",
       "      <td>...</td>\n",
       "      <td>...</td>\n",
       "      <td>...</td>\n",
       "    </tr>\n",
       "    <tr>\n",
       "      <th>164</th>\n",
       "      <td>Windsor Locks</td>\n",
       "      <td>1</td>\n",
       "      <td>1</td>\n",
       "    </tr>\n",
       "    <tr>\n",
       "      <th>165</th>\n",
       "      <td>Wolcott</td>\n",
       "      <td>1</td>\n",
       "      <td>1</td>\n",
       "    </tr>\n",
       "    <tr>\n",
       "      <th>166</th>\n",
       "      <td>Woodbridge</td>\n",
       "      <td>1</td>\n",
       "      <td>1</td>\n",
       "    </tr>\n",
       "    <tr>\n",
       "      <th>167</th>\n",
       "      <td>Woodbury</td>\n",
       "      <td>1</td>\n",
       "      <td>1</td>\n",
       "    </tr>\n",
       "    <tr>\n",
       "      <th>168</th>\n",
       "      <td>Woodstock</td>\n",
       "      <td>1</td>\n",
       "      <td>1</td>\n",
       "    </tr>\n",
       "  </tbody>\n",
       "</table>\n",
       "<p>169 rows × 3 columns</p>\n",
       "</div>"
      ],
      "text/plain": [
       "              City  Month  count\n",
       "0          Andover      1      1\n",
       "1          Ansonia      1      1\n",
       "2          Ashford      1      1\n",
       "3             Avon      1      1\n",
       "4      Barkhamsted      1      1\n",
       "..             ...    ...    ...\n",
       "164  Windsor Locks      1      1\n",
       "165        Wolcott      1      1\n",
       "166     Woodbridge      1      1\n",
       "167       Woodbury      1      1\n",
       "168      Woodstock      1      1\n",
       "\n",
       "[169 rows x 3 columns]"
      ]
     },
     "execution_count": 254,
     "metadata": {},
     "output_type": "execute_result"
    }
   ],
   "source": [
    "max_sales_per_town.groupby('City')['Month'].value_counts().reset_index()"
   ]
  },
  {
   "cell_type": "code",
   "execution_count": 255,
   "id": "f033c3f6-4d33-48b2-b727-84af96596ba6",
   "metadata": {},
   "outputs": [
    {
     "data": {
      "text/html": [
       "<div>\n",
       "<style scoped>\n",
       "    .dataframe tbody tr th:only-of-type {\n",
       "        vertical-align: middle;\n",
       "    }\n",
       "\n",
       "    .dataframe tbody tr th {\n",
       "        vertical-align: top;\n",
       "    }\n",
       "\n",
       "    .dataframe thead th {\n",
       "        text-align: right;\n",
       "    }\n",
       "</style>\n",
       "<table border=\"1\" class=\"dataframe\">\n",
       "  <thead>\n",
       "    <tr style=\"text-align: right;\">\n",
       "      <th></th>\n",
       "      <th>City</th>\n",
       "      <th>Year</th>\n",
       "      <th>Month</th>\n",
       "      <th>Sales Count</th>\n",
       "    </tr>\n",
       "  </thead>\n",
       "  <tbody>\n",
       "    <tr>\n",
       "      <th>0</th>\n",
       "      <td>Andover</td>\n",
       "      <td>1970</td>\n",
       "      <td>1</td>\n",
       "      <td>564</td>\n",
       "    </tr>\n",
       "    <tr>\n",
       "      <th>1</th>\n",
       "      <td>Ansonia</td>\n",
       "      <td>1970</td>\n",
       "      <td>1</td>\n",
       "      <td>3451</td>\n",
       "    </tr>\n",
       "    <tr>\n",
       "      <th>2</th>\n",
       "      <td>Ashford</td>\n",
       "      <td>1970</td>\n",
       "      <td>1</td>\n",
       "      <td>830</td>\n",
       "    </tr>\n",
       "    <tr>\n",
       "      <th>3</th>\n",
       "      <td>Avon</td>\n",
       "      <td>1970</td>\n",
       "      <td>1</td>\n",
       "      <td>5333</td>\n",
       "    </tr>\n",
       "    <tr>\n",
       "      <th>4</th>\n",
       "      <td>Barkhamsted</td>\n",
       "      <td>1970</td>\n",
       "      <td>1</td>\n",
       "      <td>751</td>\n",
       "    </tr>\n",
       "    <tr>\n",
       "      <th>...</th>\n",
       "      <td>...</td>\n",
       "      <td>...</td>\n",
       "      <td>...</td>\n",
       "      <td>...</td>\n",
       "    </tr>\n",
       "    <tr>\n",
       "      <th>164</th>\n",
       "      <td>Windsor Locks</td>\n",
       "      <td>1970</td>\n",
       "      <td>1</td>\n",
       "      <td>3208</td>\n",
       "    </tr>\n",
       "    <tr>\n",
       "      <th>165</th>\n",
       "      <td>Wolcott</td>\n",
       "      <td>1970</td>\n",
       "      <td>1</td>\n",
       "      <td>3594</td>\n",
       "    </tr>\n",
       "    <tr>\n",
       "      <th>166</th>\n",
       "      <td>Woodbridge</td>\n",
       "      <td>1970</td>\n",
       "      <td>1</td>\n",
       "      <td>1943</td>\n",
       "    </tr>\n",
       "    <tr>\n",
       "      <th>167</th>\n",
       "      <td>Woodbury</td>\n",
       "      <td>1970</td>\n",
       "      <td>1</td>\n",
       "      <td>2352</td>\n",
       "    </tr>\n",
       "    <tr>\n",
       "      <th>168</th>\n",
       "      <td>Woodstock</td>\n",
       "      <td>1970</td>\n",
       "      <td>1</td>\n",
       "      <td>1882</td>\n",
       "    </tr>\n",
       "  </tbody>\n",
       "</table>\n",
       "<p>169 rows × 4 columns</p>\n",
       "</div>"
      ],
      "text/plain": [
       "              City  Year  Month  Sales Count\n",
       "0          Andover  1970      1          564\n",
       "1          Ansonia  1970      1         3451\n",
       "2          Ashford  1970      1          830\n",
       "3             Avon  1970      1         5333\n",
       "4      Barkhamsted  1970      1          751\n",
       "..             ...   ...    ...          ...\n",
       "164  Windsor Locks  1970      1         3208\n",
       "165        Wolcott  1970      1         3594\n",
       "166     Woodbridge  1970      1         1943\n",
       "167       Woodbury  1970      1         2352\n",
       "168      Woodstock  1970      1         1882\n",
       "\n",
       "[169 rows x 4 columns]"
      ]
     },
     "execution_count": 255,
     "metadata": {},
     "output_type": "execute_result"
    }
   ],
   "source": [
    "sales_per_month = real_estate_df.groupby(['City', 'Year', 'Month']).size().reset_index(name='Sales Count')\n",
    "sales_per_month"
   ]
  },
  {
   "cell_type": "code",
   "execution_count": 256,
   "id": "9e3e5cad-0dff-4dbe-bbdb-693640e4fd6b",
   "metadata": {},
   "outputs": [
    {
     "data": {
      "text/plain": [
       "City\n",
       "Andover            0\n",
       "Ansonia            1\n",
       "Ashford            2\n",
       "Avon               3\n",
       "Barkhamsted        4\n",
       "                ... \n",
       "Windsor Locks    164\n",
       "Wolcott          165\n",
       "Woodbridge       166\n",
       "Woodbury         167\n",
       "Woodstock        168\n",
       "Name: Sales Count, Length: 169, dtype: int64"
      ]
     },
     "execution_count": 256,
     "metadata": {},
     "output_type": "execute_result"
    }
   ],
   "source": [
    "max_sales_idx = sales_per_month.groupby('City')['Sales Count'].idxmax()\n",
    "max_sales_idx"
   ]
  },
  {
   "cell_type": "code",
   "execution_count": 257,
   "id": "b82b26bd-e4ab-4f11-b368-a200c57969c7",
   "metadata": {},
   "outputs": [
    {
     "data": {
      "text/html": [
       "<div>\n",
       "<style scoped>\n",
       "    .dataframe tbody tr th:only-of-type {\n",
       "        vertical-align: middle;\n",
       "    }\n",
       "\n",
       "    .dataframe tbody tr th {\n",
       "        vertical-align: top;\n",
       "    }\n",
       "\n",
       "    .dataframe thead th {\n",
       "        text-align: right;\n",
       "    }\n",
       "</style>\n",
       "<table border=\"1\" class=\"dataframe\">\n",
       "  <thead>\n",
       "    <tr style=\"text-align: right;\">\n",
       "      <th></th>\n",
       "      <th>City</th>\n",
       "      <th>Year</th>\n",
       "      <th>Month</th>\n",
       "      <th>Sales Count</th>\n",
       "    </tr>\n",
       "  </thead>\n",
       "  <tbody>\n",
       "    <tr>\n",
       "      <th>0</th>\n",
       "      <td>Andover</td>\n",
       "      <td>1970</td>\n",
       "      <td>1</td>\n",
       "      <td>564</td>\n",
       "    </tr>\n",
       "    <tr>\n",
       "      <th>1</th>\n",
       "      <td>Ansonia</td>\n",
       "      <td>1970</td>\n",
       "      <td>1</td>\n",
       "      <td>3451</td>\n",
       "    </tr>\n",
       "    <tr>\n",
       "      <th>2</th>\n",
       "      <td>Ashford</td>\n",
       "      <td>1970</td>\n",
       "      <td>1</td>\n",
       "      <td>830</td>\n",
       "    </tr>\n",
       "    <tr>\n",
       "      <th>3</th>\n",
       "      <td>Avon</td>\n",
       "      <td>1970</td>\n",
       "      <td>1</td>\n",
       "      <td>5333</td>\n",
       "    </tr>\n",
       "    <tr>\n",
       "      <th>4</th>\n",
       "      <td>Barkhamsted</td>\n",
       "      <td>1970</td>\n",
       "      <td>1</td>\n",
       "      <td>751</td>\n",
       "    </tr>\n",
       "    <tr>\n",
       "      <th>...</th>\n",
       "      <td>...</td>\n",
       "      <td>...</td>\n",
       "      <td>...</td>\n",
       "      <td>...</td>\n",
       "    </tr>\n",
       "    <tr>\n",
       "      <th>164</th>\n",
       "      <td>Windsor Locks</td>\n",
       "      <td>1970</td>\n",
       "      <td>1</td>\n",
       "      <td>3208</td>\n",
       "    </tr>\n",
       "    <tr>\n",
       "      <th>165</th>\n",
       "      <td>Wolcott</td>\n",
       "      <td>1970</td>\n",
       "      <td>1</td>\n",
       "      <td>3594</td>\n",
       "    </tr>\n",
       "    <tr>\n",
       "      <th>166</th>\n",
       "      <td>Woodbridge</td>\n",
       "      <td>1970</td>\n",
       "      <td>1</td>\n",
       "      <td>1943</td>\n",
       "    </tr>\n",
       "    <tr>\n",
       "      <th>167</th>\n",
       "      <td>Woodbury</td>\n",
       "      <td>1970</td>\n",
       "      <td>1</td>\n",
       "      <td>2352</td>\n",
       "    </tr>\n",
       "    <tr>\n",
       "      <th>168</th>\n",
       "      <td>Woodstock</td>\n",
       "      <td>1970</td>\n",
       "      <td>1</td>\n",
       "      <td>1882</td>\n",
       "    </tr>\n",
       "  </tbody>\n",
       "</table>\n",
       "<p>169 rows × 4 columns</p>\n",
       "</div>"
      ],
      "text/plain": [
       "              City  Year  Month  Sales Count\n",
       "0          Andover  1970      1          564\n",
       "1          Ansonia  1970      1         3451\n",
       "2          Ashford  1970      1          830\n",
       "3             Avon  1970      1         5333\n",
       "4      Barkhamsted  1970      1          751\n",
       "..             ...   ...    ...          ...\n",
       "164  Windsor Locks  1970      1         3208\n",
       "165        Wolcott  1970      1         3594\n",
       "166     Woodbridge  1970      1         1943\n",
       "167       Woodbury  1970      1         2352\n",
       "168      Woodstock  1970      1         1882\n",
       "\n",
       "[169 rows x 4 columns]"
      ]
     },
     "execution_count": 257,
     "metadata": {},
     "output_type": "execute_result"
    }
   ],
   "source": [
    "max_sales_per_town = sales_per_month.loc[max_sales_idx]\n",
    "max_sales_per_town"
   ]
  },
  {
   "cell_type": "code",
   "execution_count": 330,
   "id": "f6382628-ce07-4dcc-9824-01d56b371d85",
   "metadata": {},
   "outputs": [
    {
     "data": {
      "text/html": [
       "<div>\n",
       "<style scoped>\n",
       "    .dataframe tbody tr th:only-of-type {\n",
       "        vertical-align: middle;\n",
       "    }\n",
       "\n",
       "    .dataframe tbody tr th {\n",
       "        vertical-align: top;\n",
       "    }\n",
       "\n",
       "    .dataframe thead th {\n",
       "        text-align: right;\n",
       "    }\n",
       "</style>\n",
       "<table border=\"1\" class=\"dataframe\">\n",
       "  <thead>\n",
       "    <tr style=\"text-align: right;\">\n",
       "      <th></th>\n",
       "      <th>List Year</th>\n",
       "      <th>Sales Date</th>\n",
       "      <th>City</th>\n",
       "      <th>Assessed Value</th>\n",
       "      <th>Sale Amount</th>\n",
       "      <th>Sales Ratio</th>\n",
       "      <th>Property Type</th>\n",
       "      <th>Sales Year</th>\n",
       "      <th>difference_value</th>\n",
       "      <th>Assessment Status</th>\n",
       "      <th>Appreciation</th>\n",
       "      <th>Investment Status</th>\n",
       "      <th>Month</th>\n",
       "      <th>Year</th>\n",
       "    </tr>\n",
       "  </thead>\n",
       "  <tbody>\n",
       "    <tr>\n",
       "      <th>0</th>\n",
       "      <td>2020</td>\n",
       "      <td>2021-04-14</td>\n",
       "      <td>Ansonia</td>\n",
       "      <td>133000.0</td>\n",
       "      <td>248400.0</td>\n",
       "      <td>0.5354</td>\n",
       "      <td>Single Family</td>\n",
       "      <td>1970-01-01 00:00:00.000002021</td>\n",
       "      <td>115400.0</td>\n",
       "      <td>Under-assessed</td>\n",
       "      <td>115400.0</td>\n",
       "      <td>Good Investment</td>\n",
       "      <td>1</td>\n",
       "      <td>1970</td>\n",
       "    </tr>\n",
       "    <tr>\n",
       "      <th>1</th>\n",
       "      <td>2020</td>\n",
       "      <td>2021-05-26</td>\n",
       "      <td>Ansonia</td>\n",
       "      <td>110500.0</td>\n",
       "      <td>239900.0</td>\n",
       "      <td>0.4606</td>\n",
       "      <td>Three Family</td>\n",
       "      <td>1970-01-01 00:00:00.000002021</td>\n",
       "      <td>129400.0</td>\n",
       "      <td>Under-assessed</td>\n",
       "      <td>129400.0</td>\n",
       "      <td>Good Investment</td>\n",
       "      <td>1</td>\n",
       "      <td>1970</td>\n",
       "    </tr>\n",
       "    <tr>\n",
       "      <th>2</th>\n",
       "      <td>2020</td>\n",
       "      <td>2021-09-13</td>\n",
       "      <td>Ansonia</td>\n",
       "      <td>150500.0</td>\n",
       "      <td>325000.0</td>\n",
       "      <td>0.4630</td>\n",
       "      <td>Commercial</td>\n",
       "      <td>1970-01-01 00:00:00.000002021</td>\n",
       "      <td>174500.0</td>\n",
       "      <td>Under-assessed</td>\n",
       "      <td>174500.0</td>\n",
       "      <td>Good Investment</td>\n",
       "      <td>1</td>\n",
       "      <td>1970</td>\n",
       "    </tr>\n",
       "    <tr>\n",
       "      <th>3</th>\n",
       "      <td>2020</td>\n",
       "      <td>2020-12-14</td>\n",
       "      <td>Ansonia</td>\n",
       "      <td>127400.0</td>\n",
       "      <td>202500.0</td>\n",
       "      <td>0.6291</td>\n",
       "      <td>Two Family</td>\n",
       "      <td>1970-01-01 00:00:00.000002020</td>\n",
       "      <td>75100.0</td>\n",
       "      <td>Under-assessed</td>\n",
       "      <td>75100.0</td>\n",
       "      <td>Neutral</td>\n",
       "      <td>1</td>\n",
       "      <td>1970</td>\n",
       "    </tr>\n",
       "    <tr>\n",
       "      <th>4</th>\n",
       "      <td>2020</td>\n",
       "      <td>2021-09-07</td>\n",
       "      <td>Avon</td>\n",
       "      <td>217640.0</td>\n",
       "      <td>400000.0</td>\n",
       "      <td>0.5441</td>\n",
       "      <td>Single Family</td>\n",
       "      <td>1970-01-01 00:00:00.000002021</td>\n",
       "      <td>182360.0</td>\n",
       "      <td>Under-assessed</td>\n",
       "      <td>182360.0</td>\n",
       "      <td>Good Investment</td>\n",
       "      <td>1</td>\n",
       "      <td>1970</td>\n",
       "    </tr>\n",
       "    <tr>\n",
       "      <th>...</th>\n",
       "      <td>...</td>\n",
       "      <td>...</td>\n",
       "      <td>...</td>\n",
       "      <td>...</td>\n",
       "      <td>...</td>\n",
       "      <td>...</td>\n",
       "      <td>...</td>\n",
       "      <td>...</td>\n",
       "      <td>...</td>\n",
       "      <td>...</td>\n",
       "      <td>...</td>\n",
       "      <td>...</td>\n",
       "      <td>...</td>\n",
       "      <td>...</td>\n",
       "    </tr>\n",
       "    <tr>\n",
       "      <th>712750</th>\n",
       "      <td>2022</td>\n",
       "      <td>2022-10-11</td>\n",
       "      <td>Stamford</td>\n",
       "      <td>483380.0</td>\n",
       "      <td>865000.0</td>\n",
       "      <td>0.5588</td>\n",
       "      <td>Single Family</td>\n",
       "      <td>1970-01-01 00:00:00.000002022</td>\n",
       "      <td>381620.0</td>\n",
       "      <td>Under-assessed</td>\n",
       "      <td>381620.0</td>\n",
       "      <td>Good Investment</td>\n",
       "      <td>1</td>\n",
       "      <td>1970</td>\n",
       "    </tr>\n",
       "    <tr>\n",
       "      <th>712751</th>\n",
       "      <td>2022</td>\n",
       "      <td>2023-09-29</td>\n",
       "      <td>Wethersfield</td>\n",
       "      <td>20650.0</td>\n",
       "      <td>760857.0</td>\n",
       "      <td>0.0271</td>\n",
       "      <td>Single Family</td>\n",
       "      <td>1970-01-01 00:00:00.000002023</td>\n",
       "      <td>740207.0</td>\n",
       "      <td>Under-assessed</td>\n",
       "      <td>740207.0</td>\n",
       "      <td>Good Investment</td>\n",
       "      <td>1</td>\n",
       "      <td>1970</td>\n",
       "    </tr>\n",
       "    <tr>\n",
       "      <th>712752</th>\n",
       "      <td>2022</td>\n",
       "      <td>2023-01-09</td>\n",
       "      <td>Stamford</td>\n",
       "      <td>132900.0</td>\n",
       "      <td>220000.0</td>\n",
       "      <td>0.6040</td>\n",
       "      <td>Condo</td>\n",
       "      <td>1970-01-01 00:00:00.000002023</td>\n",
       "      <td>87100.0</td>\n",
       "      <td>Under-assessed</td>\n",
       "      <td>87100.0</td>\n",
       "      <td>Good Investment</td>\n",
       "      <td>1</td>\n",
       "      <td>1970</td>\n",
       "    </tr>\n",
       "    <tr>\n",
       "      <th>712753</th>\n",
       "      <td>2022</td>\n",
       "      <td>2023-09-26</td>\n",
       "      <td>Old Saybrook</td>\n",
       "      <td>1099400.0</td>\n",
       "      <td>1575000.0</td>\n",
       "      <td>0.6980</td>\n",
       "      <td>Single Family</td>\n",
       "      <td>1970-01-01 00:00:00.000002023</td>\n",
       "      <td>475600.0</td>\n",
       "      <td>Under-assessed</td>\n",
       "      <td>475600.0</td>\n",
       "      <td>Good Investment</td>\n",
       "      <td>1</td>\n",
       "      <td>1970</td>\n",
       "    </tr>\n",
       "    <tr>\n",
       "      <th>712754</th>\n",
       "      <td>2022</td>\n",
       "      <td>2023-05-18</td>\n",
       "      <td>Southington</td>\n",
       "      <td>135860.0</td>\n",
       "      <td>330000.0</td>\n",
       "      <td>0.4117</td>\n",
       "      <td>Single Family</td>\n",
       "      <td>1970-01-01 00:00:00.000002023</td>\n",
       "      <td>194140.0</td>\n",
       "      <td>Under-assessed</td>\n",
       "      <td>194140.0</td>\n",
       "      <td>Good Investment</td>\n",
       "      <td>1</td>\n",
       "      <td>1970</td>\n",
       "    </tr>\n",
       "  </tbody>\n",
       "</table>\n",
       "<p>712755 rows × 14 columns</p>\n",
       "</div>"
      ],
      "text/plain": [
       "        List Year Sales Date          City  Assessed Value  Sale Amount  \\\n",
       "0            2020 2021-04-14       Ansonia        133000.0     248400.0   \n",
       "1            2020 2021-05-26       Ansonia        110500.0     239900.0   \n",
       "2            2020 2021-09-13       Ansonia        150500.0     325000.0   \n",
       "3            2020 2020-12-14       Ansonia        127400.0     202500.0   \n",
       "4            2020 2021-09-07          Avon        217640.0     400000.0   \n",
       "...           ...        ...           ...             ...          ...   \n",
       "712750       2022 2022-10-11      Stamford        483380.0     865000.0   \n",
       "712751       2022 2023-09-29  Wethersfield         20650.0     760857.0   \n",
       "712752       2022 2023-01-09      Stamford        132900.0     220000.0   \n",
       "712753       2022 2023-09-26  Old Saybrook       1099400.0    1575000.0   \n",
       "712754       2022 2023-05-18   Southington        135860.0     330000.0   \n",
       "\n",
       "        Sales Ratio  Property Type                    Sales Year  \\\n",
       "0            0.5354  Single Family 1970-01-01 00:00:00.000002021   \n",
       "1            0.4606   Three Family 1970-01-01 00:00:00.000002021   \n",
       "2            0.4630     Commercial 1970-01-01 00:00:00.000002021   \n",
       "3            0.6291     Two Family 1970-01-01 00:00:00.000002020   \n",
       "4            0.5441  Single Family 1970-01-01 00:00:00.000002021   \n",
       "...             ...            ...                           ...   \n",
       "712750       0.5588  Single Family 1970-01-01 00:00:00.000002022   \n",
       "712751       0.0271  Single Family 1970-01-01 00:00:00.000002023   \n",
       "712752       0.6040          Condo 1970-01-01 00:00:00.000002023   \n",
       "712753       0.6980  Single Family 1970-01-01 00:00:00.000002023   \n",
       "712754       0.4117  Single Family 1970-01-01 00:00:00.000002023   \n",
       "\n",
       "        difference_value Assessment Status  Appreciation Investment Status  \\\n",
       "0               115400.0    Under-assessed      115400.0   Good Investment   \n",
       "1               129400.0    Under-assessed      129400.0   Good Investment   \n",
       "2               174500.0    Under-assessed      174500.0   Good Investment   \n",
       "3                75100.0    Under-assessed       75100.0           Neutral   \n",
       "4               182360.0    Under-assessed      182360.0   Good Investment   \n",
       "...                  ...               ...           ...               ...   \n",
       "712750          381620.0    Under-assessed      381620.0   Good Investment   \n",
       "712751          740207.0    Under-assessed      740207.0   Good Investment   \n",
       "712752           87100.0    Under-assessed       87100.0   Good Investment   \n",
       "712753          475600.0    Under-assessed      475600.0   Good Investment   \n",
       "712754          194140.0    Under-assessed      194140.0   Good Investment   \n",
       "\n",
       "        Month  Year  \n",
       "0           1  1970  \n",
       "1           1  1970  \n",
       "2           1  1970  \n",
       "3           1  1970  \n",
       "4           1  1970  \n",
       "...       ...   ...  \n",
       "712750      1  1970  \n",
       "712751      1  1970  \n",
       "712752      1  1970  \n",
       "712753      1  1970  \n",
       "712754      1  1970  \n",
       "\n",
       "[712755 rows x 14 columns]"
      ]
     },
     "execution_count": 330,
     "metadata": {},
     "output_type": "execute_result"
    }
   ],
   "source": [
    "real_estate_df"
   ]
  },
  {
   "cell_type": "code",
   "execution_count": null,
   "id": "0c1ce121-fd6e-4545-af2f-7d35083a04d3",
   "metadata": {},
   "outputs": [],
   "source": []
  }
 ],
 "metadata": {
  "kernelspec": {
   "display_name": "Python 3 (ipykernel)",
   "language": "python",
   "name": "python3"
  },
  "language_info": {
   "codemirror_mode": {
    "name": "ipython",
    "version": 3
   },
   "file_extension": ".py",
   "mimetype": "text/x-python",
   "name": "python",
   "nbconvert_exporter": "python",
   "pygments_lexer": "ipython3",
   "version": "3.12.7"
  }
 },
 "nbformat": 4,
 "nbformat_minor": 5
}
